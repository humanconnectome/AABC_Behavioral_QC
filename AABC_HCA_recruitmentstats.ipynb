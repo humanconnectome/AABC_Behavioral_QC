{
 "cells": [
  {
   "cell_type": "markdown",
   "id": "0ffe76f2",
   "metadata": {},
   "source": [
    "# AABC cumulative recruitment stats and visuals\n"
   ]
  },
  {
   "cell_type": "code",
   "execution_count": 3,
   "id": "8cbe61d4",
   "metadata": {},
   "outputs": [],
   "source": [
    "# check out  ~/cron/aabc_recruits.sh\n",
    "#"
   ]
  },
  {
   "cell_type": "code",
   "execution_count": 4,
   "id": "d510e8d2",
   "metadata": {},
   "outputs": [],
   "source": [
    "#load some libraries\n",
    "import pandas as pd\n",
    "import seaborn as sns\n",
    "from ccf.box import LifespanBox\n",
    "import yaml\n",
    "from functions import *\n",
    "from config import *\n",
    "import numpy as np\n",
    "import matplotlib.pyplot as plt\n",
    "from datetime import date"
   ]
  },
  {
   "cell_type": "code",
   "execution_count": 5,
   "id": "a52cf9d8",
   "metadata": {},
   "outputs": [
    {
     "name": "stdout",
     "output_type": "stream",
     "text": [
      "06/29/2023\n"
     ]
    }
   ],
   "source": [
    "print(date.today().strftime(\"%m/%d/%Y\"))"
   ]
  },
  {
   "cell_type": "code",
   "execution_count": 6,
   "id": "4ead2304",
   "metadata": {},
   "outputs": [],
   "source": [
    "#load HCA inventory \n",
    "config = LoadSettings()\n",
    "secret=pd.read_csv(config['config_files']['secrets'])\n",
    "box = LifespanBox(cache=\"./tmp\")\n",
    "pathp=box.downloadFile(config['hcainventory'])\n",
    "ids=pd.read_csv(pathp)"
   ]
  },
  {
   "cell_type": "code",
   "execution_count": 7,
   "id": "2ae34d57",
   "metadata": {},
   "outputs": [
    {
     "name": "stdout",
     "output_type": "stream",
     "text": [
      "HTTP Status: 200\n"
     ]
    }
   ],
   "source": [
    "#load AABC report\n",
    "aabcarms = redjson(tok=secret.loc[secret.source=='aabcarms','api_key'].reset_index().drop(columns='index').api_key[0])\n",
    "hcpa = redjson(tok=secret.loc[secret.source=='hcpa','api_key'].reset_index().drop(columns='index').api_key[0])\n",
    "#just a report\n",
    "aabcreport = redreport(tok=secret.loc[secret.source=='aabcarms','api_key'].reset_index().drop(columns='index').api_key[0],reportid='51031')\n",
    "\n",
    "#download the inventory report from AABC for comparison\n",
    "aabcinvent=getframe(struct=aabcreport,api_url=config['Redcap']['api_url10'])\n"
   ]
  },
  {
   "cell_type": "code",
   "execution_count": 8,
   "id": "e9270211",
   "metadata": {},
   "outputs": [],
   "source": [
    "aabcinvent['todaydate']=date.today()\n",
    "aabcinvent['dayspassed']=(pd.to_datetime(aabcinvent.todaydate) - pd.to_datetime(aabcinvent.v0_date)).dt.days\n",
    "\n",
    "\n",
    "#get list of subjects who passed recruitment and registered for a visit\n",
    "#for i in list(aabcinvent.columns):\n",
    "#    print(i)\n",
    "    \n",
    "subjects=aabcinvent[['study_id','subject_id','redcap_event_name','passedscreen','register_subject_complete','register_visit_complete']]\n",
    "#print(subjects.shape)\n",
    "subjects=subjects.loc[subjects.register_visit_complete =='2'][['study_id']]\n",
    "subs=list(subjects.study_id)\n"
   ]
  },
  {
   "cell_type": "code",
   "execution_count": 9,
   "id": "fa8f5d03",
   "metadata": {
    "scrolled": true
   },
   "outputs": [],
   "source": [
    "\n",
    "forplot=aabcinvent.loc[(aabcinvent.study_id.isin(subs)) & (aabcinvent.redcap_event_name.str.contains('register'))][['redcap_event_name','v0_date','dayspassed','age','sex','racial','ethnic','site','counterbalance_1st']]\n",
    "forplot=forplot.sort_values('dayspassed')\n",
    "\n",
    "#forplot.head()"
   ]
  },
  {
   "cell_type": "code",
   "execution_count": 10,
   "id": "231461a8",
   "metadata": {},
   "outputs": [],
   "source": [
    "#PREPARE DATA FOR PLOTS\n",
    "#forplot['sexsum']=\n",
    "S=pd.get_dummies(forplot.sex, prefix='sex')\n",
    "\n",
    "#forplot['sexsum']=pd.to_numeric(forplot.sex, errors='coerce').cumsum()\n",
    "forplot['malesum']=pd.to_numeric(S.sex_1, errors='coerce').cumsum()\n",
    "forplot['femalesum']=pd.to_numeric(S.sex_2, errors='coerce').cumsum()\n",
    "forplot['Sex']=forplot.sex.replace({'1':'Male','2':'Female'})\n",
    "\n",
    "S0=pd.get_dummies(forplot.counterbalance_1st, prefix='CB')\n",
    "forplot['CB3sum']=pd.to_numeric(S0.CB_3, errors='coerce').cumsum()\n",
    "forplot['CB4sum']=pd.to_numeric(S0.CB_4, errors='coerce').cumsum()\n",
    "forplot['Counterbalance']=forplot.counterbalance_1st.replace({'3':'CB3','4':'CB4'})\n",
    "\n"
   ]
  },
  {
   "cell_type": "code",
   "execution_count": 11,
   "id": "dfc476a3",
   "metadata": {},
   "outputs": [],
   "source": [
    "#forplot.redcap_event_name.value_counts()\n",
    "forplot['Cohort']=''\n",
    "forplot.loc[(forplot.redcap_event_name.str.contains(\"arm_1\")) | (forplot.redcap_event_name.str.contains(\"arm_2\")) |(forplot.redcap_event_name.str.contains(\"arm_3\")) |(forplot.redcap_event_name.str.contains(\"arm_4\")) ,'Cohort']='Cohort A'\n",
    "forplot.loc[(forplot.redcap_event_name.str.contains(\"arm_5\")) | (forplot.redcap_event_name.str.contains(\"arm_6\")) |(forplot.redcap_event_name.str.contains(\"arm_7\")) |(forplot.redcap_event_name.str.contains(\"arm_8\")) ,'Cohort']='Cohort B'\n",
    "forplot.loc[(forplot.redcap_event_name.str.contains(\"arm_9\")) | (forplot.redcap_event_name.str.contains(\"arm_10\")) |(forplot.redcap_event_name.str.contains(\"arm_11\")) |(forplot.redcap_event_name.str.contains(\"arm_12\")) ,'Cohort']='Cohort C'\n",
    "#forplot.Cohort"
   ]
  },
  {
   "cell_type": "code",
   "execution_count": 12,
   "id": "e1f4c57f",
   "metadata": {},
   "outputs": [],
   "source": [
    "#1, Native American/Alaskan Native | 2, Asian | 3, Black or African American | 4, Native Hawaiian or Other Pacific Is | 5, White | 6, More than one race | 99, Unknown or Not reported\n",
    "S2=pd.get_dummies(forplot.racial, prefix='race')\n",
    "#print(S2.head())\n",
    "forplot['whitesum']=pd.to_numeric(S2.race_5, errors='coerce').cumsum()\n",
    "#forplot['natpacsum']=pd.to_numeric(S2.race_4, errors='coerce').cumsum()\n",
    "forplot['blacksum']=pd.to_numeric(S2.race_3, errors='coerce').cumsum()\n",
    "forplot['asiansum']=pd.to_numeric(S2.race_2, errors='coerce').cumsum()\n",
    "forplot['natamersum']=pd.to_numeric(S2.race_1, errors='coerce').cumsum()\n",
    "forplot['moret1sum']=pd.to_numeric(S2.race_6, errors='coerce').cumsum()\n",
    "forplot['nasum']=pd.to_numeric(S2.race_99, errors='coerce').cumsum()\n",
    "forplot['Race']=forplot.racial.replace({'1':'Nat Amer/Alaskan','2':'Asian','3':'Black','4':'Nat Hawaiian/PI','5':'White','6':'More than one','99':'Unknown'})\n",
    "\n",
    "#thnicity\n",
    "S3=pd.get_dummies(forplot.ethnic, prefix='ethnicity')\n",
    "forplot['hispanicsum']=pd.to_numeric(S3.ethnicity_1, errors='coerce').cumsum()\n",
    "forplot['nonhispanicsum']=pd.to_numeric(S3.ethnicity_2, errors='coerce').cumsum()\n",
    "forplot['unkhispsum']=pd.to_numeric(S3.ethnicity_3, errors='coerce').cumsum()\n",
    "forplot['Ethnicity']=forplot.ethnic.replace({'1':'Hispanic','2':'Non-Hispanic','3':'Unknown'})\n",
    "\n",
    "#sites\n",
    "S4=pd.get_dummies(forplot.site, prefix='site')\n",
    "forplot['wusum']=pd.to_numeric(S4.site_4, errors='coerce').cumsum()\n",
    "forplot['umnsum']=pd.to_numeric(S4.site_3, errors='coerce').cumsum()\n",
    "forplot['mghsum']=pd.to_numeric(S4.site_1, errors='coerce').cumsum()\n",
    "forplot['uclasum']=pd.to_numeric(S4.site_2, errors='coerce').cumsum()\n",
    "forplot['Site']=forplot.site.replace({'1':'MGH','2':'UCLA','3':'UMN','4':'WashU'})"
   ]
  },
  {
   "cell_type": "code",
   "execution_count": 13,
   "id": "e870470c",
   "metadata": {},
   "outputs": [],
   "source": [
    "                                       \n",
    "##ages\n",
    "bins= [30,40,50,60,70,80,90,125]\n",
    "\n",
    "forplot['ages']=pd.to_numeric(forplot.age)\n",
    "forplot['AgeGroup'] = pd.cut(forplot['ages'], bins=bins,right=False)# labels=labels,\n",
    "S5=pd.get_dummies(forplot.AgeGroup, prefix='age')\n",
    "\n",
    "forplot['age30sum']=pd.to_numeric(S5['age_[30, 40)'], errors='coerce').cumsum()\n",
    "forplot['age40sum']=pd.to_numeric(S5['age_[40, 50)'], errors='coerce').cumsum()\n",
    "forplot['age50sum']=pd.to_numeric(S5['age_[50, 60)'], errors='coerce').cumsum()\n",
    "forplot['age60sum']=pd.to_numeric(S5['age_[60, 70)'], errors='coerce').cumsum()\n",
    "forplot['age70sum']=pd.to_numeric(S5['age_[70, 80)'], errors='coerce').cumsum()\n",
    "forplot['age80sum']=pd.to_numeric(S5['age_[80, 90)'], errors='coerce').cumsum()\n",
    "forplot['age90sum']=pd.to_numeric(S5['age_[90, 125)'],errors='coerce').cumsum()"
   ]
  },
  {
   "cell_type": "code",
   "execution_count": 14,
   "id": "ebb3a5b6",
   "metadata": {},
   "outputs": [],
   "source": [
    "bins5= [35,40,45,50,55,60,65,70,75,80,85,90,125]\n",
    "\n",
    "forplot['AgeGroup5'] = pd.cut(forplot['ages'], bins=bins5,right=False)# labels=labels,\n",
    "S55=pd.get_dummies(forplot.AgeGroup5, prefix='age5')\n",
    "\n",
    "forplot['age35sum5']=pd.to_numeric(S55['age5_[35, 40)'], errors='coerce').cumsum()\n",
    "forplot['age40sum5']=pd.to_numeric(S55['age5_[40, 45)'], errors='coerce').cumsum()\n",
    "forplot['age45sum5']=pd.to_numeric(S55['age5_[45, 50)'], errors='coerce').cumsum()\n",
    "forplot['age50sum5']=pd.to_numeric(S55['age5_[50, 55)'], errors='coerce').cumsum()\n",
    "forplot['age55sum5']=pd.to_numeric(S55['age5_[55, 60)'], errors='coerce').cumsum()\n",
    "forplot['age60sum5']=pd.to_numeric(S55['age5_[60, 65)'], errors='coerce').cumsum()\n",
    "forplot['age65sum5']=pd.to_numeric(S55['age5_[65, 70)'], errors='coerce').cumsum()\n",
    "forplot['age70sum5']=pd.to_numeric(S55['age5_[70, 75)'], errors='coerce').cumsum()\n",
    "forplot['age75sum5']=pd.to_numeric(S55['age5_[75, 80)'],errors='coerce').cumsum()\n",
    "forplot['age80sum5']=pd.to_numeric(S55['age5_[80, 85)'],errors='coerce').cumsum()\n",
    "forplot['age85sum5']=pd.to_numeric(S55['age5_[85, 90)'],errors='coerce').cumsum()\n",
    "forplot['age90sum5']=pd.to_numeric(S55['age5_[90, 125)'],errors='coerce').cumsum()\n",
    "\n",
    "#forplot.columns"
   ]
  },
  {
   "cell_type": "markdown",
   "id": "c2aea68c",
   "metadata": {},
   "source": [
    "### AABC Female participants, by age and cohort "
   ]
  },
  {
   "cell_type": "code",
   "execution_count": 15,
   "id": "3c1bfb6d",
   "metadata": {},
   "outputs": [
    {
     "data": {
      "text/html": [
       "<div>\n",
       "<style scoped>\n",
       "    .dataframe tbody tr th:only-of-type {\n",
       "        vertical-align: middle;\n",
       "    }\n",
       "\n",
       "    .dataframe tbody tr th {\n",
       "        vertical-align: top;\n",
       "    }\n",
       "\n",
       "    .dataframe thead th {\n",
       "        text-align: right;\n",
       "    }\n",
       "</style>\n",
       "<table border=\"1\" class=\"dataframe\">\n",
       "  <thead>\n",
       "    <tr style=\"text-align: right;\">\n",
       "      <th>AgeGroup5</th>\n",
       "      <th>[40, 45)</th>\n",
       "      <th>[45, 50)</th>\n",
       "      <th>[50, 55)</th>\n",
       "      <th>[55, 60)</th>\n",
       "      <th>[60, 65)</th>\n",
       "      <th>[65, 70)</th>\n",
       "      <th>[70, 75)</th>\n",
       "      <th>[75, 80)</th>\n",
       "      <th>[80, 85)</th>\n",
       "      <th>[85, 90)</th>\n",
       "      <th>[90, 125)</th>\n",
       "      <th>All</th>\n",
       "    </tr>\n",
       "    <tr>\n",
       "      <th>Cohort</th>\n",
       "      <th></th>\n",
       "      <th></th>\n",
       "      <th></th>\n",
       "      <th></th>\n",
       "      <th></th>\n",
       "      <th></th>\n",
       "      <th></th>\n",
       "      <th></th>\n",
       "      <th></th>\n",
       "      <th></th>\n",
       "      <th></th>\n",
       "      <th></th>\n",
       "    </tr>\n",
       "  </thead>\n",
       "  <tbody>\n",
       "    <tr>\n",
       "      <th>Cohort A</th>\n",
       "      <td>5</td>\n",
       "      <td>5</td>\n",
       "      <td>2</td>\n",
       "      <td>11</td>\n",
       "      <td>11</td>\n",
       "      <td>9</td>\n",
       "      <td>10</td>\n",
       "      <td>8</td>\n",
       "      <td>8</td>\n",
       "      <td>9</td>\n",
       "      <td>3</td>\n",
       "      <td>81</td>\n",
       "    </tr>\n",
       "    <tr>\n",
       "      <th>Cohort B</th>\n",
       "      <td>2</td>\n",
       "      <td>5</td>\n",
       "      <td>2</td>\n",
       "      <td>7</td>\n",
       "      <td>14</td>\n",
       "      <td>13</td>\n",
       "      <td>6</td>\n",
       "      <td>8</td>\n",
       "      <td>3</td>\n",
       "      <td>2</td>\n",
       "      <td>0</td>\n",
       "      <td>62</td>\n",
       "    </tr>\n",
       "    <tr>\n",
       "      <th>Cohort C</th>\n",
       "      <td>1</td>\n",
       "      <td>0</td>\n",
       "      <td>0</td>\n",
       "      <td>0</td>\n",
       "      <td>1</td>\n",
       "      <td>1</td>\n",
       "      <td>0</td>\n",
       "      <td>1</td>\n",
       "      <td>0</td>\n",
       "      <td>0</td>\n",
       "      <td>0</td>\n",
       "      <td>4</td>\n",
       "    </tr>\n",
       "    <tr>\n",
       "      <th>All</th>\n",
       "      <td>8</td>\n",
       "      <td>10</td>\n",
       "      <td>4</td>\n",
       "      <td>18</td>\n",
       "      <td>26</td>\n",
       "      <td>23</td>\n",
       "      <td>16</td>\n",
       "      <td>17</td>\n",
       "      <td>11</td>\n",
       "      <td>11</td>\n",
       "      <td>3</td>\n",
       "      <td>147</td>\n",
       "    </tr>\n",
       "  </tbody>\n",
       "</table>\n",
       "</div>"
      ],
      "text/plain": [
       "AgeGroup5  [40, 45)  [45, 50)  [50, 55)  [55, 60)  [60, 65)  [65, 70)  \\\n",
       "Cohort                                                                  \n",
       "Cohort A          5         5         2        11        11         9   \n",
       "Cohort B          2         5         2         7        14        13   \n",
       "Cohort C          1         0         0         0         1         1   \n",
       "All               8        10         4        18        26        23   \n",
       "\n",
       "AgeGroup5  [70, 75)  [75, 80)  [80, 85)  [85, 90)  [90, 125)  All  \n",
       "Cohort                                                             \n",
       "Cohort A         10         8         8         9          3   81  \n",
       "Cohort B          6         8         3         2          0   62  \n",
       "Cohort C          0         1         0         0          0    4  \n",
       "All              16        17        11        11          3  147  "
      ]
     },
     "execution_count": 15,
     "metadata": {},
     "output_type": "execute_result"
    }
   ],
   "source": [
    "#make a table by cohort, 5-year age\n",
    "#FeMALES\n",
    "females=forplot.loc[forplot.Sex=='Female'].copy()\n",
    "pd.crosstab(females.Cohort,females.AgeGroup5,margins=True)#.plot.bar(rot=45,title='AABC')"
   ]
  },
  {
   "cell_type": "markdown",
   "id": "c12d6fbf",
   "metadata": {},
   "source": [
    "### AABC Male participants, by age and cohort "
   ]
  },
  {
   "cell_type": "code",
   "execution_count": 16,
   "id": "f35597ea",
   "metadata": {},
   "outputs": [
    {
     "data": {
      "text/html": [
       "<div>\n",
       "<style scoped>\n",
       "    .dataframe tbody tr th:only-of-type {\n",
       "        vertical-align: middle;\n",
       "    }\n",
       "\n",
       "    .dataframe tbody tr th {\n",
       "        vertical-align: top;\n",
       "    }\n",
       "\n",
       "    .dataframe thead th {\n",
       "        text-align: right;\n",
       "    }\n",
       "</style>\n",
       "<table border=\"1\" class=\"dataframe\">\n",
       "  <thead>\n",
       "    <tr style=\"text-align: right;\">\n",
       "      <th>AgeGroup5</th>\n",
       "      <th>[40, 45)</th>\n",
       "      <th>[45, 50)</th>\n",
       "      <th>[50, 55)</th>\n",
       "      <th>[55, 60)</th>\n",
       "      <th>[60, 65)</th>\n",
       "      <th>[65, 70)</th>\n",
       "      <th>[70, 75)</th>\n",
       "      <th>[75, 80)</th>\n",
       "      <th>[80, 85)</th>\n",
       "      <th>[85, 90)</th>\n",
       "      <th>[90, 125)</th>\n",
       "      <th>All</th>\n",
       "    </tr>\n",
       "    <tr>\n",
       "      <th>Cohort</th>\n",
       "      <th></th>\n",
       "      <th></th>\n",
       "      <th></th>\n",
       "      <th></th>\n",
       "      <th></th>\n",
       "      <th></th>\n",
       "      <th></th>\n",
       "      <th></th>\n",
       "      <th></th>\n",
       "      <th></th>\n",
       "      <th></th>\n",
       "      <th></th>\n",
       "    </tr>\n",
       "  </thead>\n",
       "  <tbody>\n",
       "    <tr>\n",
       "      <th>Cohort A</th>\n",
       "      <td>7</td>\n",
       "      <td>4</td>\n",
       "      <td>7</td>\n",
       "      <td>6</td>\n",
       "      <td>9</td>\n",
       "      <td>13</td>\n",
       "      <td>12</td>\n",
       "      <td>12</td>\n",
       "      <td>6</td>\n",
       "      <td>4</td>\n",
       "      <td>4</td>\n",
       "      <td>84</td>\n",
       "    </tr>\n",
       "    <tr>\n",
       "      <th>Cohort B</th>\n",
       "      <td>3</td>\n",
       "      <td>4</td>\n",
       "      <td>2</td>\n",
       "      <td>3</td>\n",
       "      <td>4</td>\n",
       "      <td>4</td>\n",
       "      <td>11</td>\n",
       "      <td>7</td>\n",
       "      <td>4</td>\n",
       "      <td>3</td>\n",
       "      <td>0</td>\n",
       "      <td>45</td>\n",
       "    </tr>\n",
       "    <tr>\n",
       "      <th>Cohort C</th>\n",
       "      <td>0</td>\n",
       "      <td>0</td>\n",
       "      <td>0</td>\n",
       "      <td>2</td>\n",
       "      <td>0</td>\n",
       "      <td>1</td>\n",
       "      <td>0</td>\n",
       "      <td>0</td>\n",
       "      <td>0</td>\n",
       "      <td>0</td>\n",
       "      <td>0</td>\n",
       "      <td>3</td>\n",
       "    </tr>\n",
       "    <tr>\n",
       "      <th>All</th>\n",
       "      <td>10</td>\n",
       "      <td>8</td>\n",
       "      <td>9</td>\n",
       "      <td>11</td>\n",
       "      <td>13</td>\n",
       "      <td>18</td>\n",
       "      <td>23</td>\n",
       "      <td>19</td>\n",
       "      <td>10</td>\n",
       "      <td>7</td>\n",
       "      <td>4</td>\n",
       "      <td>132</td>\n",
       "    </tr>\n",
       "  </tbody>\n",
       "</table>\n",
       "</div>"
      ],
      "text/plain": [
       "AgeGroup5  [40, 45)  [45, 50)  [50, 55)  [55, 60)  [60, 65)  [65, 70)  \\\n",
       "Cohort                                                                  \n",
       "Cohort A          7         4         7         6         9        13   \n",
       "Cohort B          3         4         2         3         4         4   \n",
       "Cohort C          0         0         0         2         0         1   \n",
       "All              10         8         9        11        13        18   \n",
       "\n",
       "AgeGroup5  [70, 75)  [75, 80)  [80, 85)  [85, 90)  [90, 125)  All  \n",
       "Cohort                                                             \n",
       "Cohort A         12        12         6         4          4   84  \n",
       "Cohort B         11         7         4         3          0   45  \n",
       "Cohort C          0         0         0         0          0    3  \n",
       "All              23        19        10         7          4  132  "
      ]
     },
     "execution_count": 16,
     "metadata": {},
     "output_type": "execute_result"
    }
   ],
   "source": [
    "#make a table by cohort, 5-year age\n",
    "males=forplot.loc[forplot.Sex=='Male'].copy()\n",
    "pd.crosstab(males.Cohort,males.AgeGroup5,margins=True)#.plot.bar(rot=45,title='AABC')"
   ]
  },
  {
   "cell_type": "markdown",
   "id": "bcd1e3c0",
   "metadata": {},
   "source": [
    "### Site stats , by age and cohort"
   ]
  },
  {
   "cell_type": "code",
   "execution_count": 17,
   "id": "3f11d882",
   "metadata": {},
   "outputs": [
    {
     "name": "stdout",
     "output_type": "stream",
     "text": [
      "*******************\n",
      "**** MGH ONLY *****\n"
     ]
    },
    {
     "data": {
      "text/html": [
       "<div>\n",
       "<style scoped>\n",
       "    .dataframe tbody tr th:only-of-type {\n",
       "        vertical-align: middle;\n",
       "    }\n",
       "\n",
       "    .dataframe tbody tr th {\n",
       "        vertical-align: top;\n",
       "    }\n",
       "\n",
       "    .dataframe thead th {\n",
       "        text-align: right;\n",
       "    }\n",
       "</style>\n",
       "<table border=\"1\" class=\"dataframe\">\n",
       "  <thead>\n",
       "    <tr style=\"text-align: right;\">\n",
       "      <th>AgeGroup5</th>\n",
       "      <th>[40, 45)</th>\n",
       "      <th>[45, 50)</th>\n",
       "      <th>[50, 55)</th>\n",
       "      <th>[55, 60)</th>\n",
       "      <th>[60, 65)</th>\n",
       "      <th>[65, 70)</th>\n",
       "      <th>[70, 75)</th>\n",
       "      <th>[75, 80)</th>\n",
       "      <th>[80, 85)</th>\n",
       "      <th>[85, 90)</th>\n",
       "      <th>[90, 125)</th>\n",
       "      <th>All</th>\n",
       "    </tr>\n",
       "    <tr>\n",
       "      <th>Cohort</th>\n",
       "      <th></th>\n",
       "      <th></th>\n",
       "      <th></th>\n",
       "      <th></th>\n",
       "      <th></th>\n",
       "      <th></th>\n",
       "      <th></th>\n",
       "      <th></th>\n",
       "      <th></th>\n",
       "      <th></th>\n",
       "      <th></th>\n",
       "      <th></th>\n",
       "    </tr>\n",
       "  </thead>\n",
       "  <tbody>\n",
       "    <tr>\n",
       "      <th>Cohort A</th>\n",
       "      <td>5</td>\n",
       "      <td>3</td>\n",
       "      <td>2</td>\n",
       "      <td>3</td>\n",
       "      <td>8</td>\n",
       "      <td>9</td>\n",
       "      <td>6</td>\n",
       "      <td>5</td>\n",
       "      <td>5</td>\n",
       "      <td>4</td>\n",
       "      <td>1</td>\n",
       "      <td>51</td>\n",
       "    </tr>\n",
       "    <tr>\n",
       "      <th>Cohort B</th>\n",
       "      <td>1</td>\n",
       "      <td>0</td>\n",
       "      <td>1</td>\n",
       "      <td>2</td>\n",
       "      <td>3</td>\n",
       "      <td>0</td>\n",
       "      <td>2</td>\n",
       "      <td>1</td>\n",
       "      <td>0</td>\n",
       "      <td>1</td>\n",
       "      <td>0</td>\n",
       "      <td>11</td>\n",
       "    </tr>\n",
       "    <tr>\n",
       "      <th>All</th>\n",
       "      <td>6</td>\n",
       "      <td>3</td>\n",
       "      <td>3</td>\n",
       "      <td>5</td>\n",
       "      <td>11</td>\n",
       "      <td>9</td>\n",
       "      <td>8</td>\n",
       "      <td>6</td>\n",
       "      <td>5</td>\n",
       "      <td>5</td>\n",
       "      <td>1</td>\n",
       "      <td>62</td>\n",
       "    </tr>\n",
       "  </tbody>\n",
       "</table>\n",
       "</div>"
      ],
      "text/plain": [
       "AgeGroup5  [40, 45)  [45, 50)  [50, 55)  [55, 60)  [60, 65)  [65, 70)  \\\n",
       "Cohort                                                                  \n",
       "Cohort A          5         3         2         3         8         9   \n",
       "Cohort B          1         0         1         2         3         0   \n",
       "All               6         3         3         5        11         9   \n",
       "\n",
       "AgeGroup5  [70, 75)  [75, 80)  [80, 85)  [85, 90)  [90, 125)  All  \n",
       "Cohort                                                             \n",
       "Cohort A          6         5         5         4          1   51  \n",
       "Cohort B          2         1         0         1          0   11  \n",
       "All               8         6         5         5          1   62  "
      ]
     },
     "execution_count": 17,
     "metadata": {},
     "output_type": "execute_result"
    }
   ],
   "source": [
    "#make a table by cohort, 5-year age\n",
    "print(\"*******************\")\n",
    "print(\"**** MGH ONLY *****\")\n",
    "mgh=forplot.loc[forplot.Site=='MGH'].copy()\n",
    "pd.crosstab(mgh.Cohort,mgh.AgeGroup5,margins=True)#.plot.bar(rot=45,title='AABC')"
   ]
  },
  {
   "cell_type": "code",
   "execution_count": 18,
   "id": "893d6f89",
   "metadata": {},
   "outputs": [
    {
     "name": "stdout",
     "output_type": "stream",
     "text": [
      "*******************\n",
      "**** UCLA ONLY *****\n"
     ]
    },
    {
     "data": {
      "text/html": [
       "<div>\n",
       "<style scoped>\n",
       "    .dataframe tbody tr th:only-of-type {\n",
       "        vertical-align: middle;\n",
       "    }\n",
       "\n",
       "    .dataframe tbody tr th {\n",
       "        vertical-align: top;\n",
       "    }\n",
       "\n",
       "    .dataframe thead th {\n",
       "        text-align: right;\n",
       "    }\n",
       "</style>\n",
       "<table border=\"1\" class=\"dataframe\">\n",
       "  <thead>\n",
       "    <tr style=\"text-align: right;\">\n",
       "      <th>AgeGroup5</th>\n",
       "      <th>[40, 45)</th>\n",
       "      <th>[45, 50)</th>\n",
       "      <th>[50, 55)</th>\n",
       "      <th>[55, 60)</th>\n",
       "      <th>[60, 65)</th>\n",
       "      <th>[65, 70)</th>\n",
       "      <th>[70, 75)</th>\n",
       "      <th>[75, 80)</th>\n",
       "      <th>[80, 85)</th>\n",
       "      <th>[85, 90)</th>\n",
       "      <th>All</th>\n",
       "    </tr>\n",
       "    <tr>\n",
       "      <th>Cohort</th>\n",
       "      <th></th>\n",
       "      <th></th>\n",
       "      <th></th>\n",
       "      <th></th>\n",
       "      <th></th>\n",
       "      <th></th>\n",
       "      <th></th>\n",
       "      <th></th>\n",
       "      <th></th>\n",
       "      <th></th>\n",
       "      <th></th>\n",
       "    </tr>\n",
       "  </thead>\n",
       "  <tbody>\n",
       "    <tr>\n",
       "      <th>Cohort A</th>\n",
       "      <td>3</td>\n",
       "      <td>1</td>\n",
       "      <td>2</td>\n",
       "      <td>6</td>\n",
       "      <td>4</td>\n",
       "      <td>2</td>\n",
       "      <td>4</td>\n",
       "      <td>2</td>\n",
       "      <td>1</td>\n",
       "      <td>1</td>\n",
       "      <td>26</td>\n",
       "    </tr>\n",
       "    <tr>\n",
       "      <th>Cohort B</th>\n",
       "      <td>0</td>\n",
       "      <td>0</td>\n",
       "      <td>1</td>\n",
       "      <td>1</td>\n",
       "      <td>1</td>\n",
       "      <td>0</td>\n",
       "      <td>1</td>\n",
       "      <td>0</td>\n",
       "      <td>0</td>\n",
       "      <td>1</td>\n",
       "      <td>5</td>\n",
       "    </tr>\n",
       "    <tr>\n",
       "      <th>All</th>\n",
       "      <td>3</td>\n",
       "      <td>1</td>\n",
       "      <td>3</td>\n",
       "      <td>7</td>\n",
       "      <td>5</td>\n",
       "      <td>2</td>\n",
       "      <td>5</td>\n",
       "      <td>2</td>\n",
       "      <td>1</td>\n",
       "      <td>2</td>\n",
       "      <td>31</td>\n",
       "    </tr>\n",
       "  </tbody>\n",
       "</table>\n",
       "</div>"
      ],
      "text/plain": [
       "AgeGroup5  [40, 45)  [45, 50)  [50, 55)  [55, 60)  [60, 65)  [65, 70)  \\\n",
       "Cohort                                                                  \n",
       "Cohort A          3         1         2         6         4         2   \n",
       "Cohort B          0         0         1         1         1         0   \n",
       "All               3         1         3         7         5         2   \n",
       "\n",
       "AgeGroup5  [70, 75)  [75, 80)  [80, 85)  [85, 90)  All  \n",
       "Cohort                                                  \n",
       "Cohort A          4         2         1         1   26  \n",
       "Cohort B          1         0         0         1    5  \n",
       "All               5         2         1         2   31  "
      ]
     },
     "execution_count": 18,
     "metadata": {},
     "output_type": "execute_result"
    }
   ],
   "source": [
    "#make a table by cohort, 5-year age\n",
    "print(\"*******************\")\n",
    "print(\"**** UCLA ONLY *****\")\n",
    "ucla=forplot.loc[forplot.Site=='UCLA'].copy()\n",
    "pd.crosstab(ucla.Cohort,ucla.AgeGroup5,margins=True)#.plot.bar(rot=45,title='AABC')"
   ]
  },
  {
   "cell_type": "code",
   "execution_count": 19,
   "id": "7c6f4b6c",
   "metadata": {},
   "outputs": [
    {
     "name": "stdout",
     "output_type": "stream",
     "text": [
      "*******************\n",
      "**** WU ONLY *****\n"
     ]
    },
    {
     "data": {
      "text/html": [
       "<div>\n",
       "<style scoped>\n",
       "    .dataframe tbody tr th:only-of-type {\n",
       "        vertical-align: middle;\n",
       "    }\n",
       "\n",
       "    .dataframe tbody tr th {\n",
       "        vertical-align: top;\n",
       "    }\n",
       "\n",
       "    .dataframe thead th {\n",
       "        text-align: right;\n",
       "    }\n",
       "</style>\n",
       "<table border=\"1\" class=\"dataframe\">\n",
       "  <thead>\n",
       "    <tr style=\"text-align: right;\">\n",
       "      <th>AgeGroup5</th>\n",
       "      <th>[40, 45)</th>\n",
       "      <th>[45, 50)</th>\n",
       "      <th>[50, 55)</th>\n",
       "      <th>[55, 60)</th>\n",
       "      <th>[60, 65)</th>\n",
       "      <th>[65, 70)</th>\n",
       "      <th>[70, 75)</th>\n",
       "      <th>[75, 80)</th>\n",
       "      <th>[80, 85)</th>\n",
       "      <th>[85, 90)</th>\n",
       "      <th>[90, 125)</th>\n",
       "      <th>All</th>\n",
       "    </tr>\n",
       "    <tr>\n",
       "      <th>Cohort</th>\n",
       "      <th></th>\n",
       "      <th></th>\n",
       "      <th></th>\n",
       "      <th></th>\n",
       "      <th></th>\n",
       "      <th></th>\n",
       "      <th></th>\n",
       "      <th></th>\n",
       "      <th></th>\n",
       "      <th></th>\n",
       "      <th></th>\n",
       "      <th></th>\n",
       "    </tr>\n",
       "  </thead>\n",
       "  <tbody>\n",
       "    <tr>\n",
       "      <th>Cohort A</th>\n",
       "      <td>3</td>\n",
       "      <td>4</td>\n",
       "      <td>2</td>\n",
       "      <td>6</td>\n",
       "      <td>4</td>\n",
       "      <td>8</td>\n",
       "      <td>8</td>\n",
       "      <td>11</td>\n",
       "      <td>5</td>\n",
       "      <td>5</td>\n",
       "      <td>4</td>\n",
       "      <td>60</td>\n",
       "    </tr>\n",
       "    <tr>\n",
       "      <th>Cohort B</th>\n",
       "      <td>1</td>\n",
       "      <td>3</td>\n",
       "      <td>0</td>\n",
       "      <td>3</td>\n",
       "      <td>5</td>\n",
       "      <td>10</td>\n",
       "      <td>8</td>\n",
       "      <td>7</td>\n",
       "      <td>7</td>\n",
       "      <td>2</td>\n",
       "      <td>0</td>\n",
       "      <td>46</td>\n",
       "    </tr>\n",
       "    <tr>\n",
       "      <th>Cohort C</th>\n",
       "      <td>1</td>\n",
       "      <td>0</td>\n",
       "      <td>0</td>\n",
       "      <td>2</td>\n",
       "      <td>1</td>\n",
       "      <td>2</td>\n",
       "      <td>0</td>\n",
       "      <td>1</td>\n",
       "      <td>0</td>\n",
       "      <td>0</td>\n",
       "      <td>0</td>\n",
       "      <td>7</td>\n",
       "    </tr>\n",
       "    <tr>\n",
       "      <th>All</th>\n",
       "      <td>5</td>\n",
       "      <td>7</td>\n",
       "      <td>2</td>\n",
       "      <td>11</td>\n",
       "      <td>10</td>\n",
       "      <td>20</td>\n",
       "      <td>16</td>\n",
       "      <td>19</td>\n",
       "      <td>12</td>\n",
       "      <td>7</td>\n",
       "      <td>4</td>\n",
       "      <td>113</td>\n",
       "    </tr>\n",
       "  </tbody>\n",
       "</table>\n",
       "</div>"
      ],
      "text/plain": [
       "AgeGroup5  [40, 45)  [45, 50)  [50, 55)  [55, 60)  [60, 65)  [65, 70)  \\\n",
       "Cohort                                                                  \n",
       "Cohort A          3         4         2         6         4         8   \n",
       "Cohort B          1         3         0         3         5        10   \n",
       "Cohort C          1         0         0         2         1         2   \n",
       "All               5         7         2        11        10        20   \n",
       "\n",
       "AgeGroup5  [70, 75)  [75, 80)  [80, 85)  [85, 90)  [90, 125)  All  \n",
       "Cohort                                                             \n",
       "Cohort A          8        11         5         5          4   60  \n",
       "Cohort B          8         7         7         2          0   46  \n",
       "Cohort C          0         1         0         0          0    7  \n",
       "All              16        19        12         7          4  113  "
      ]
     },
     "execution_count": 19,
     "metadata": {},
     "output_type": "execute_result"
    }
   ],
   "source": [
    "print(\"*******************\")\n",
    "print(\"**** WU ONLY *****\")\n",
    "wu=forplot.loc[forplot.Site=='WashU'].copy()\n",
    "pd.crosstab(wu.Cohort,wu.AgeGroup5,margins=True)#.plot.bar(rot=45,title='AABC')"
   ]
  },
  {
   "cell_type": "code",
   "execution_count": 20,
   "id": "40bde6be",
   "metadata": {},
   "outputs": [
    {
     "name": "stdout",
     "output_type": "stream",
     "text": [
      "*******************\n",
      "**** UMN ONLY *****\n"
     ]
    },
    {
     "data": {
      "text/html": [
       "<div>\n",
       "<style scoped>\n",
       "    .dataframe tbody tr th:only-of-type {\n",
       "        vertical-align: middle;\n",
       "    }\n",
       "\n",
       "    .dataframe tbody tr th {\n",
       "        vertical-align: top;\n",
       "    }\n",
       "\n",
       "    .dataframe thead th {\n",
       "        text-align: right;\n",
       "    }\n",
       "</style>\n",
       "<table border=\"1\" class=\"dataframe\">\n",
       "  <thead>\n",
       "    <tr style=\"text-align: right;\">\n",
       "      <th>AgeGroup5</th>\n",
       "      <th>[40, 45)</th>\n",
       "      <th>[45, 50)</th>\n",
       "      <th>[50, 55)</th>\n",
       "      <th>[55, 60)</th>\n",
       "      <th>[60, 65)</th>\n",
       "      <th>[65, 70)</th>\n",
       "      <th>[70, 75)</th>\n",
       "      <th>[75, 80)</th>\n",
       "      <th>[80, 85)</th>\n",
       "      <th>[85, 90)</th>\n",
       "      <th>[90, 125)</th>\n",
       "      <th>All</th>\n",
       "    </tr>\n",
       "    <tr>\n",
       "      <th>Cohort</th>\n",
       "      <th></th>\n",
       "      <th></th>\n",
       "      <th></th>\n",
       "      <th></th>\n",
       "      <th></th>\n",
       "      <th></th>\n",
       "      <th></th>\n",
       "      <th></th>\n",
       "      <th></th>\n",
       "      <th></th>\n",
       "      <th></th>\n",
       "      <th></th>\n",
       "    </tr>\n",
       "  </thead>\n",
       "  <tbody>\n",
       "    <tr>\n",
       "      <th>Cohort A</th>\n",
       "      <td>1</td>\n",
       "      <td>1</td>\n",
       "      <td>3</td>\n",
       "      <td>2</td>\n",
       "      <td>4</td>\n",
       "      <td>3</td>\n",
       "      <td>4</td>\n",
       "      <td>2</td>\n",
       "      <td>3</td>\n",
       "      <td>3</td>\n",
       "      <td>2</td>\n",
       "      <td>28</td>\n",
       "    </tr>\n",
       "    <tr>\n",
       "      <th>Cohort B</th>\n",
       "      <td>3</td>\n",
       "      <td>6</td>\n",
       "      <td>2</td>\n",
       "      <td>4</td>\n",
       "      <td>9</td>\n",
       "      <td>7</td>\n",
       "      <td>6</td>\n",
       "      <td>7</td>\n",
       "      <td>0</td>\n",
       "      <td>1</td>\n",
       "      <td>0</td>\n",
       "      <td>45</td>\n",
       "    </tr>\n",
       "    <tr>\n",
       "      <th>All</th>\n",
       "      <td>4</td>\n",
       "      <td>7</td>\n",
       "      <td>5</td>\n",
       "      <td>6</td>\n",
       "      <td>13</td>\n",
       "      <td>10</td>\n",
       "      <td>10</td>\n",
       "      <td>9</td>\n",
       "      <td>3</td>\n",
       "      <td>4</td>\n",
       "      <td>2</td>\n",
       "      <td>73</td>\n",
       "    </tr>\n",
       "  </tbody>\n",
       "</table>\n",
       "</div>"
      ],
      "text/plain": [
       "AgeGroup5  [40, 45)  [45, 50)  [50, 55)  [55, 60)  [60, 65)  [65, 70)  \\\n",
       "Cohort                                                                  \n",
       "Cohort A          1         1         3         2         4         3   \n",
       "Cohort B          3         6         2         4         9         7   \n",
       "All               4         7         5         6        13        10   \n",
       "\n",
       "AgeGroup5  [70, 75)  [75, 80)  [80, 85)  [85, 90)  [90, 125)  All  \n",
       "Cohort                                                             \n",
       "Cohort A          4         2         3         3          2   28  \n",
       "Cohort B          6         7         0         1          0   45  \n",
       "All              10         9         3         4          2   73  "
      ]
     },
     "execution_count": 20,
     "metadata": {},
     "output_type": "execute_result"
    }
   ],
   "source": [
    "print(\"*******************\")\n",
    "print(\"**** UMN ONLY *****\")\n",
    "umn=forplot.loc[forplot.Site=='UMN'].copy()\n",
    "pd.crosstab(umn.Cohort,umn.AgeGroup5,margins=True)#.plot.bar(rot=45,title='AABC')"
   ]
  },
  {
   "cell_type": "markdown",
   "id": "a5f348a9",
   "metadata": {},
   "source": [
    "### Progress report format"
   ]
  },
  {
   "cell_type": "code",
   "execution_count": 30,
   "id": "fea6d087",
   "metadata": {},
   "outputs": [
    {
     "data": {
      "text/plain": [
       "Non-Hispanic    253\n",
       "Hispanic         23\n",
       "Unknown           3\n",
       "Name: Ethnicity, dtype: int64"
      ]
     },
     "execution_count": 30,
     "metadata": {},
     "output_type": "execute_result"
    }
   ],
   "source": [
    "forplot.Ethnicity.value_counts()\n",
    "#forplot.columns"
   ]
  },
  {
   "cell_type": "code",
   "execution_count": 66,
   "id": "279c8d20",
   "metadata": {},
   "outputs": [
    {
     "name": "stdout",
     "output_type": "stream",
     "text": [
      "*******************\n",
      "**** Race x Sex in Non-Hispanics  *****\n"
     ]
    },
    {
     "data": {
      "text/html": [
       "<div>\n",
       "<style scoped>\n",
       "    .dataframe tbody tr th:only-of-type {\n",
       "        vertical-align: middle;\n",
       "    }\n",
       "\n",
       "    .dataframe tbody tr th {\n",
       "        vertical-align: top;\n",
       "    }\n",
       "\n",
       "    .dataframe thead th {\n",
       "        text-align: right;\n",
       "    }\n",
       "</style>\n",
       "<table border=\"1\" class=\"dataframe\">\n",
       "  <thead>\n",
       "    <tr style=\"text-align: right;\">\n",
       "      <th>Sex</th>\n",
       "      <th>Female</th>\n",
       "      <th>Male</th>\n",
       "      <th>All</th>\n",
       "    </tr>\n",
       "    <tr>\n",
       "      <th>Race</th>\n",
       "      <th></th>\n",
       "      <th></th>\n",
       "      <th></th>\n",
       "    </tr>\n",
       "  </thead>\n",
       "  <tbody>\n",
       "    <tr>\n",
       "      <th>Asian</th>\n",
       "      <td>4</td>\n",
       "      <td>7</td>\n",
       "      <td>11</td>\n",
       "    </tr>\n",
       "    <tr>\n",
       "      <th>Black</th>\n",
       "      <td>16</td>\n",
       "      <td>14</td>\n",
       "      <td>30</td>\n",
       "    </tr>\n",
       "    <tr>\n",
       "      <th>Nat Amer/Alaskan</th>\n",
       "      <td>2</td>\n",
       "      <td>1</td>\n",
       "      <td>3</td>\n",
       "    </tr>\n",
       "    <tr>\n",
       "      <th>White</th>\n",
       "      <td>114</td>\n",
       "      <td>95</td>\n",
       "      <td>209</td>\n",
       "    </tr>\n",
       "    <tr>\n",
       "      <th>All</th>\n",
       "      <td>136</td>\n",
       "      <td>117</td>\n",
       "      <td>253</td>\n",
       "    </tr>\n",
       "  </tbody>\n",
       "</table>\n",
       "</div>"
      ],
      "text/plain": [
       "Sex               Female  Male  All\n",
       "Race                               \n",
       "Asian                  4     7   11\n",
       "Black                 16    14   30\n",
       "Nat Amer/Alaskan       2     1    3\n",
       "White                114    95  209\n",
       "All                  136   117  253"
      ]
     },
     "execution_count": 66,
     "metadata": {},
     "output_type": "execute_result"
    }
   ],
   "source": [
    "print(\"*******************\")\n",
    "print(\"**** Race x Sex in Non-Hispanics  *****\")\n",
    "nhisp=forplot.loc[forplot.Ethnicity=='Non-Hispanic'].copy()\n",
    "pd.crosstab(nhisp.Race,nhisp.Sex,margins=True)#.plot.bar(rot=45,title='AABC')\n",
    "#n=pd.crosstab(nhisp.Race,nhisp.Sex,margins=True)#.plot.bar(rot=45,title='AABC')\n",
    "#n.to_csv('Non-Hispanic.csv')\n",
    "#n"
   ]
  },
  {
   "cell_type": "code",
   "execution_count": 67,
   "id": "15391887",
   "metadata": {},
   "outputs": [
    {
     "name": "stdout",
     "output_type": "stream",
     "text": [
      "*******************\n",
      "**** Race x Sex in Hispanics  *****\n"
     ]
    },
    {
     "data": {
      "text/html": [
       "<div>\n",
       "<style scoped>\n",
       "    .dataframe tbody tr th:only-of-type {\n",
       "        vertical-align: middle;\n",
       "    }\n",
       "\n",
       "    .dataframe tbody tr th {\n",
       "        vertical-align: top;\n",
       "    }\n",
       "\n",
       "    .dataframe thead th {\n",
       "        text-align: right;\n",
       "    }\n",
       "</style>\n",
       "<table border=\"1\" class=\"dataframe\">\n",
       "  <thead>\n",
       "    <tr style=\"text-align: right;\">\n",
       "      <th>Sex</th>\n",
       "      <th>Female</th>\n",
       "      <th>Male</th>\n",
       "      <th>All</th>\n",
       "    </tr>\n",
       "    <tr>\n",
       "      <th>Race</th>\n",
       "      <th></th>\n",
       "      <th></th>\n",
       "      <th></th>\n",
       "    </tr>\n",
       "  </thead>\n",
       "  <tbody>\n",
       "    <tr>\n",
       "      <th>Black</th>\n",
       "      <td>1</td>\n",
       "      <td>1</td>\n",
       "      <td>2</td>\n",
       "    </tr>\n",
       "    <tr>\n",
       "      <th>More than one</th>\n",
       "      <td>1</td>\n",
       "      <td>4</td>\n",
       "      <td>5</td>\n",
       "    </tr>\n",
       "    <tr>\n",
       "      <th>Nat Amer/Alaskan</th>\n",
       "      <td>0</td>\n",
       "      <td>1</td>\n",
       "      <td>1</td>\n",
       "    </tr>\n",
       "    <tr>\n",
       "      <th>Unknown</th>\n",
       "      <td>2</td>\n",
       "      <td>1</td>\n",
       "      <td>3</td>\n",
       "    </tr>\n",
       "    <tr>\n",
       "      <th>White</th>\n",
       "      <td>5</td>\n",
       "      <td>7</td>\n",
       "      <td>12</td>\n",
       "    </tr>\n",
       "    <tr>\n",
       "      <th>All</th>\n",
       "      <td>9</td>\n",
       "      <td>14</td>\n",
       "      <td>23</td>\n",
       "    </tr>\n",
       "  </tbody>\n",
       "</table>\n",
       "</div>"
      ],
      "text/plain": [
       "Sex               Female  Male  All\n",
       "Race                               \n",
       "Black                  1     1    2\n",
       "More than one          1     4    5\n",
       "Nat Amer/Alaskan       0     1    1\n",
       "Unknown                2     1    3\n",
       "White                  5     7   12\n",
       "All                    9    14   23"
      ]
     },
     "execution_count": 67,
     "metadata": {},
     "output_type": "execute_result"
    }
   ],
   "source": [
    "print(\"*******************\")\n",
    "print(\"**** Race x Sex in Hispanics  *****\")\n",
    "hisp=forplot.loc[forplot.Ethnicity=='Hispanic'].copy()\n",
    "pd.crosstab(hisp.Race,hisp.Sex,margins=True)#.plot.bar(rot=45,title='AABC')\n",
    "#h=pd.crosstab(hisp.Race,hisp.Sex,margins=True)#.plot.bar(rot=45,title='AABC')\n",
    "#h.to_csv('Hispanic.csv')\n",
    "#h"
   ]
  },
  {
   "cell_type": "code",
   "execution_count": 68,
   "id": "e9e2271d",
   "metadata": {},
   "outputs": [
    {
     "name": "stdout",
     "output_type": "stream",
     "text": [
      "*******************\n",
      "**** Race x Sex for Unknown Ethnicities  *****\n"
     ]
    },
    {
     "data": {
      "text/html": [
       "<div>\n",
       "<style scoped>\n",
       "    .dataframe tbody tr th:only-of-type {\n",
       "        vertical-align: middle;\n",
       "    }\n",
       "\n",
       "    .dataframe tbody tr th {\n",
       "        vertical-align: top;\n",
       "    }\n",
       "\n",
       "    .dataframe thead th {\n",
       "        text-align: right;\n",
       "    }\n",
       "</style>\n",
       "<table border=\"1\" class=\"dataframe\">\n",
       "  <thead>\n",
       "    <tr style=\"text-align: right;\">\n",
       "      <th>Sex</th>\n",
       "      <th>Female</th>\n",
       "      <th>Male</th>\n",
       "      <th>All</th>\n",
       "    </tr>\n",
       "    <tr>\n",
       "      <th>Race</th>\n",
       "      <th></th>\n",
       "      <th></th>\n",
       "      <th></th>\n",
       "    </tr>\n",
       "  </thead>\n",
       "  <tbody>\n",
       "    <tr>\n",
       "      <th>Asian</th>\n",
       "      <td>0</td>\n",
       "      <td>1</td>\n",
       "      <td>1</td>\n",
       "    </tr>\n",
       "    <tr>\n",
       "      <th>White</th>\n",
       "      <td>2</td>\n",
       "      <td>0</td>\n",
       "      <td>2</td>\n",
       "    </tr>\n",
       "    <tr>\n",
       "      <th>All</th>\n",
       "      <td>2</td>\n",
       "      <td>1</td>\n",
       "      <td>3</td>\n",
       "    </tr>\n",
       "  </tbody>\n",
       "</table>\n",
       "</div>"
      ],
      "text/plain": [
       "Sex    Female  Male  All\n",
       "Race                    \n",
       "Asian       0     1    1\n",
       "White       2     0    2\n",
       "All         2     1    3"
      ]
     },
     "execution_count": 68,
     "metadata": {},
     "output_type": "execute_result"
    }
   ],
   "source": [
    "print(\"*******************\")\n",
    "print(\"**** Race x Sex for Unknown Ethnicities  *****\")\n",
    "unk=forplot.loc[forplot.Ethnicity=='Unknown'].copy()\n",
    "pd.crosstab(unk.Race,unk.Sex,margins=True)#.plot.bar(rot=45,title='AABC')\n",
    "#u=pd.crosstab(unk.Race,unk.Sex,margins=True)#.plot.bar(rot=45,title='AABC')\n",
    "#u.to_csv('Unknown.csv')\n",
    "#u"
   ]
  },
  {
   "cell_type": "markdown",
   "id": "6b1a0406",
   "metadata": {},
   "source": [
    "### AABC Univariate Counts"
   ]
  },
  {
   "cell_type": "code",
   "execution_count": 48,
   "id": "bf6dcfbf",
   "metadata": {},
   "outputs": [
    {
     "data": {
      "image/png": "[encoded data removed]",
      "text/plain": [
       "<Figure size 432x288 with 1 Axes>"
      ]
     },
     "metadata": {
      "needs_background": "light"
     },
     "output_type": "display_data"
    }
   ],
   "source": [
    "### create plot of AABC recruitment stats by SEX\n",
    "# Create data\n",
    "x=list(forplot.dayspassed) #range(1,6)\n",
    "y1=list(forplot.malesum) #[1,4,6,8,9]\n",
    "y2=list(forplot.femalesum)#[2,2,7,10,12]\n",
    "\n",
    "# Basic stacked area chart.\n",
    "plt.stackplot(x,y1, y2, labels=['Male:'+str(max(y1)),'Female:'+str(max(y2))])\n",
    "plt.legend(loc='upper left')\n",
    "plt.title(\"AABC\")\n",
    "plt.xlabel('Days Passed Since 1st Recruit')\n",
    "plt.ylabel('Number of Subjects');\n",
    "\n"
   ]
  },
  {
   "cell_type": "code",
   "execution_count": 49,
   "id": "ea407be9",
   "metadata": {},
   "outputs": [
    {
     "data": {
      "image/png": "[encoded data removed]",
      "text/plain": [
       "<Figure size 432x288 with 1 Axes>"
      ]
     },
     "metadata": {
      "needs_background": "light"
     },
     "output_type": "display_data"
    }
   ],
   "source": [
    "### create plot of AABC recruitment stats by SEX\n",
    "# Create data\n",
    "x=list(forplot.dayspassed) #range(1,6)\n",
    "y1=list(forplot.CB3sum) #[1,4,6,8,9]\n",
    "y2=list(forplot.CB4sum)#[2,2,7,10,12]\n",
    "\n",
    "# Basic stacked area chart.\n",
    "plt.stackplot(x,y1, y2, labels=['CB3:'+str(max(y1)),'CB4:'+str(max(y2))])\n",
    "plt.title(\"AABC\")\n",
    "plt.legend(loc='upper left')\n",
    "plt.xlabel('Days Passed Since 1st Recruit')\n",
    "plt.ylabel('Number of Subjects');"
   ]
  },
  {
   "cell_type": "code",
   "execution_count": 50,
   "id": "1ff25852",
   "metadata": {},
   "outputs": [
    {
     "data": {
      "image/png": "[encoded data removed]",
      "text/plain": [
       "<Figure size 432x288 with 1 Axes>"
      ]
     },
     "metadata": {
      "needs_background": "light"
     },
     "output_type": "display_data"
    }
   ],
   "source": [
    "#BY RACE\n",
    "x=list(forplot.dayspassed) #range(1,6)\n",
    "y1=list(forplot.whitesum) #[1,4,6,8,9]\n",
    "y2=list(forplot.blacksum)#[2,2,7,10,12]\n",
    "y3=list(forplot.asiansum)\n",
    "y4=list(forplot.moret1sum)\n",
    "#y5=list(forplot.natpacsum)\n",
    "y6=list(forplot['natamersum'])\n",
    "y7=list(forplot['nasum'])\n",
    "\n",
    "\n",
    "\n",
    "# Basic stacked area chart.\n",
    "plt.stackplot(x,y1,y2,y3,y4,y6,y7,labels=['White:'+str(max(y1)),'Black:'+str(max(y2)),'Asian:'+str(max(y3)),'More than one Race:'+str(max(y4)),'Nat American/Alaskan:'+str(max(y6)),'Unknown/Unreported:'+str(max(y7))])\n",
    "plt.legend(loc='upper left')\n",
    "plt.title(\"AABC\")\n",
    "plt.xlabel('Days Passed Since 1st Recruit')\n",
    "plt.ylabel('Number of Subjects');"
   ]
  },
  {
   "cell_type": "code",
   "execution_count": 51,
   "id": "29fed086",
   "metadata": {},
   "outputs": [
    {
     "data": {
      "image/png": "[encoded data removed]",
      "text/plain": [
       "<Figure size 432x288 with 1 Axes>"
      ]
     },
     "metadata": {
      "needs_background": "light"
     },
     "output_type": "display_data"
    }
   ],
   "source": [
    "#BY ETHNICITY\n",
    "x=list(forplot.dayspassed) #range(1,6)\n",
    "y1=list(forplot.nonhispanicsum) #[1,4,6,8,9]\n",
    "y2=list(forplot.hispanicsum)#[2,2,7,10,12]\n",
    "y3=list(forplot.unkhispsum)\n",
    "# Basic stacked area chart.\n",
    "plt.stackplot(x,y1, y2,y3, labels=['Non-Hispanic:'+str(max(y1)),'Hispanic:'+str(max(y2)),'Unknown or Not Reported:'+str(max(y3))])\n",
    "plt.legend(loc='upper left')\n",
    "plt.title(\"AABC\")\n",
    "plt.xlabel('Days Passed Since 1st Recruit')\n",
    "plt.ylabel('Number of Subjects');"
   ]
  },
  {
   "cell_type": "code",
   "execution_count": 52,
   "id": "30afbdd6",
   "metadata": {},
   "outputs": [
    {
     "data": {
      "image/png": "[encoded data removed]",
      "text/plain": [
       "<Figure size 432x288 with 1 Axes>"
      ]
     },
     "metadata": {
      "needs_background": "light"
     },
     "output_type": "display_data"
    }
   ],
   "source": [
    "#By Site\n",
    "x=list(forplot.dayspassed) #range(1,6)\n",
    "y1=list(forplot.wusum) #[1,4,6,8,9]\n",
    "y2=list(forplot.umnsum)#[2,2,7,10,12]\n",
    "y3=list(forplot.mghsum)\n",
    "y4=list(forplot.uclasum)\n",
    "# Basic stacked area chart.\n",
    "plt.stackplot(x,y1, y2,y3, y4,labels=['WU:'+str(max(y1)),'UMN:'+str(max(y2)),'MGH:'+str(max(y3)),'UCLA:'+str(max(y4))])\n",
    "plt.legend(loc='upper left')\n",
    "plt.title(\"AABC\")\n",
    "plt.xlabel('Days Passed Since 1st Recruit')\n",
    "plt.ylabel('Number of Subjects');\n"
   ]
  },
  {
   "cell_type": "code",
   "execution_count": 53,
   "id": "d8b0ced6",
   "metadata": {
    "scrolled": true
   },
   "outputs": [
    {
     "data": {
      "image/png": "[encoded data removed]",
      "text/plain": [
       "<Figure size 432x288 with 1 Axes>"
      ]
     },
     "metadata": {
      "needs_background": "light"
     },
     "output_type": "display_data"
    }
   ],
   "source": [
    "#By Age Bin\n",
    "x=list(forplot.dayspassed) #range(1,6)\n",
    "y2=list(forplot.age30sum)#[2,2,7,10,12]\n",
    "y3=list(forplot.age40sum)\n",
    "y4=list(forplot.age50sum)\n",
    "y5=list(forplot.age60sum)\n",
    "y6=list(forplot.age70sum)\n",
    "y7=list(forplot.age80sum)\n",
    "y8=list(forplot.age90sum)\n",
    "\n",
    "# Basic stacked area chart.\n",
    "plt.stackplot(x,y2,y3,y4,y5,y6,y7,y8, labels=['Age [30-40):'+str(max(y2)),'Age [40-50):'+str(max(y3)),'Age [50-60):'+str(max(y4)),'Age [60-70):'+str(max(y5)),'Age [70-80):'+str(max(y6)),'Age [80-90):'+str(max(y7)),'Age [90+):'+str(max(y8))])\n",
    "plt.legend(loc='upper left')\n",
    "plt.title(\"AABC\")\n",
    "plt.xlabel('Days Passed Since 1st Recruit')\n",
    "plt.ylabel('Number of Subjects');"
   ]
  },
  {
   "cell_type": "markdown",
   "id": "3832e7d5",
   "metadata": {},
   "source": [
    "### AABC Crosstabulations\n"
   ]
  },
  {
   "cell_type": "code",
   "execution_count": 54,
   "id": "8fad94e6",
   "metadata": {},
   "outputs": [
    {
     "data": {
      "text/html": [
       "<div>\n",
       "<style scoped>\n",
       "    .dataframe tbody tr th:only-of-type {\n",
       "        vertical-align: middle;\n",
       "    }\n",
       "\n",
       "    .dataframe tbody tr th {\n",
       "        vertical-align: top;\n",
       "    }\n",
       "\n",
       "    .dataframe thead th {\n",
       "        text-align: right;\n",
       "    }\n",
       "</style>\n",
       "<table border=\"1\" class=\"dataframe\">\n",
       "  <thead>\n",
       "    <tr style=\"text-align: right;\">\n",
       "      <th>Site</th>\n",
       "      <th>MGH</th>\n",
       "      <th>UCLA</th>\n",
       "      <th>UMN</th>\n",
       "      <th>WashU</th>\n",
       "    </tr>\n",
       "    <tr>\n",
       "      <th>Race</th>\n",
       "      <th></th>\n",
       "      <th></th>\n",
       "      <th></th>\n",
       "      <th></th>\n",
       "    </tr>\n",
       "  </thead>\n",
       "  <tbody>\n",
       "    <tr>\n",
       "      <th>Asian</th>\n",
       "      <td>3</td>\n",
       "      <td>4</td>\n",
       "      <td>5</td>\n",
       "      <td>0</td>\n",
       "    </tr>\n",
       "    <tr>\n",
       "      <th>Black</th>\n",
       "      <td>9</td>\n",
       "      <td>3</td>\n",
       "      <td>7</td>\n",
       "      <td>13</td>\n",
       "    </tr>\n",
       "    <tr>\n",
       "      <th>More than one</th>\n",
       "      <td>0</td>\n",
       "      <td>3</td>\n",
       "      <td>0</td>\n",
       "      <td>2</td>\n",
       "    </tr>\n",
       "    <tr>\n",
       "      <th>Nat Amer/Alaskan</th>\n",
       "      <td>0</td>\n",
       "      <td>1</td>\n",
       "      <td>1</td>\n",
       "      <td>2</td>\n",
       "    </tr>\n",
       "    <tr>\n",
       "      <th>Unknown</th>\n",
       "      <td>1</td>\n",
       "      <td>1</td>\n",
       "      <td>1</td>\n",
       "      <td>0</td>\n",
       "    </tr>\n",
       "    <tr>\n",
       "      <th>White</th>\n",
       "      <td>49</td>\n",
       "      <td>19</td>\n",
       "      <td>59</td>\n",
       "      <td>96</td>\n",
       "    </tr>\n",
       "  </tbody>\n",
       "</table>\n",
       "</div>"
      ],
      "text/plain": [
       "Site              MGH  UCLA  UMN  WashU\n",
       "Race                                   \n",
       "Asian               3     4    5      0\n",
       "Black               9     3    7     13\n",
       "More than one       0     3    0      2\n",
       "Nat Amer/Alaskan    0     1    1      2\n",
       "Unknown             1     1    1      0\n",
       "White              49    19   59     96"
      ]
     },
     "execution_count": 54,
     "metadata": {},
     "output_type": "execute_result"
    },
    {
     "data": {
      "image/png": "[encoded data removed]",
      "text/plain": [
       "<Figure size 432x288 with 1 Axes>"
      ]
     },
     "metadata": {
      "needs_background": "light"
     },
     "output_type": "display_data"
    }
   ],
   "source": [
    "#Crosstabs x Site\n",
    "\n",
    "pd.crosstab(forplot.Race,forplot.Site).plot.bar(rot=45,title='AABC')\n",
    "#pd.crosstab(forplot.Race,forplot.Site).to_csv('Recruitment_Stats',mode='a')\n",
    "pd.crosstab(forplot.Race,forplot.Site)"
   ]
  },
  {
   "cell_type": "code",
   "execution_count": 55,
   "id": "2cd6e9bd",
   "metadata": {},
   "outputs": [
    {
     "data": {
      "text/html": [
       "<div>\n",
       "<style scoped>\n",
       "    .dataframe tbody tr th:only-of-type {\n",
       "        vertical-align: middle;\n",
       "    }\n",
       "\n",
       "    .dataframe tbody tr th {\n",
       "        vertical-align: top;\n",
       "    }\n",
       "\n",
       "    .dataframe thead th {\n",
       "        text-align: right;\n",
       "    }\n",
       "</style>\n",
       "<table border=\"1\" class=\"dataframe\">\n",
       "  <thead>\n",
       "    <tr style=\"text-align: right;\">\n",
       "      <th>Site</th>\n",
       "      <th>MGH</th>\n",
       "      <th>UCLA</th>\n",
       "      <th>UMN</th>\n",
       "      <th>WashU</th>\n",
       "    </tr>\n",
       "    <tr>\n",
       "      <th>Ethnicity</th>\n",
       "      <th></th>\n",
       "      <th></th>\n",
       "      <th></th>\n",
       "      <th></th>\n",
       "    </tr>\n",
       "  </thead>\n",
       "  <tbody>\n",
       "    <tr>\n",
       "      <th>Hispanic</th>\n",
       "      <td>4</td>\n",
       "      <td>12</td>\n",
       "      <td>5</td>\n",
       "      <td>2</td>\n",
       "    </tr>\n",
       "    <tr>\n",
       "      <th>Non-Hispanic</th>\n",
       "      <td>58</td>\n",
       "      <td>18</td>\n",
       "      <td>66</td>\n",
       "      <td>111</td>\n",
       "    </tr>\n",
       "    <tr>\n",
       "      <th>Unknown</th>\n",
       "      <td>0</td>\n",
       "      <td>1</td>\n",
       "      <td>2</td>\n",
       "      <td>0</td>\n",
       "    </tr>\n",
       "  </tbody>\n",
       "</table>\n",
       "</div>"
      ],
      "text/plain": [
       "Site          MGH  UCLA  UMN  WashU\n",
       "Ethnicity                          \n",
       "Hispanic        4    12    5      2\n",
       "Non-Hispanic   58    18   66    111\n",
       "Unknown         0     1    2      0"
      ]
     },
     "execution_count": 55,
     "metadata": {},
     "output_type": "execute_result"
    },
    {
     "data": {
      "image/png": "[encoded data removed]",
      "text/plain": [
       "<Figure size 432x288 with 1 Axes>"
      ]
     },
     "metadata": {
      "needs_background": "light"
     },
     "output_type": "display_data"
    }
   ],
   "source": [
    "pd.crosstab(forplot.Ethnicity,forplot.Site).plot.bar(rot=0,title='AABC')\n",
    "#pd.crosstab(forplot.Ethnicity,forplot.Site).to_csv('Recruitment_Stats',mode='a')\n",
    "pd.crosstab(forplot.Ethnicity,forplot.Site)"
   ]
  },
  {
   "cell_type": "code",
   "execution_count": 56,
   "id": "84dbf4d9",
   "metadata": {},
   "outputs": [
    {
     "data": {
      "text/html": [
       "<div>\n",
       "<style scoped>\n",
       "    .dataframe tbody tr th:only-of-type {\n",
       "        vertical-align: middle;\n",
       "    }\n",
       "\n",
       "    .dataframe tbody tr th {\n",
       "        vertical-align: top;\n",
       "    }\n",
       "\n",
       "    .dataframe thead th {\n",
       "        text-align: right;\n",
       "    }\n",
       "</style>\n",
       "<table border=\"1\" class=\"dataframe\">\n",
       "  <thead>\n",
       "    <tr style=\"text-align: right;\">\n",
       "      <th>Site</th>\n",
       "      <th>MGH</th>\n",
       "      <th>UCLA</th>\n",
       "      <th>UMN</th>\n",
       "      <th>WashU</th>\n",
       "    </tr>\n",
       "    <tr>\n",
       "      <th>AgeGroup</th>\n",
       "      <th></th>\n",
       "      <th></th>\n",
       "      <th></th>\n",
       "      <th></th>\n",
       "    </tr>\n",
       "  </thead>\n",
       "  <tbody>\n",
       "    <tr>\n",
       "      <th>[40, 50)</th>\n",
       "      <td>9</td>\n",
       "      <td>4</td>\n",
       "      <td>11</td>\n",
       "      <td>12</td>\n",
       "    </tr>\n",
       "    <tr>\n",
       "      <th>[50, 60)</th>\n",
       "      <td>8</td>\n",
       "      <td>10</td>\n",
       "      <td>11</td>\n",
       "      <td>13</td>\n",
       "    </tr>\n",
       "    <tr>\n",
       "      <th>[60, 70)</th>\n",
       "      <td>20</td>\n",
       "      <td>7</td>\n",
       "      <td>23</td>\n",
       "      <td>30</td>\n",
       "    </tr>\n",
       "    <tr>\n",
       "      <th>[70, 80)</th>\n",
       "      <td>14</td>\n",
       "      <td>7</td>\n",
       "      <td>19</td>\n",
       "      <td>35</td>\n",
       "    </tr>\n",
       "    <tr>\n",
       "      <th>[80, 90)</th>\n",
       "      <td>10</td>\n",
       "      <td>3</td>\n",
       "      <td>7</td>\n",
       "      <td>19</td>\n",
       "    </tr>\n",
       "    <tr>\n",
       "      <th>[90, 125)</th>\n",
       "      <td>1</td>\n",
       "      <td>0</td>\n",
       "      <td>2</td>\n",
       "      <td>4</td>\n",
       "    </tr>\n",
       "  </tbody>\n",
       "</table>\n",
       "</div>"
      ],
      "text/plain": [
       "Site       MGH  UCLA  UMN  WashU\n",
       "AgeGroup                        \n",
       "[40, 50)     9     4   11     12\n",
       "[50, 60)     8    10   11     13\n",
       "[60, 70)    20     7   23     30\n",
       "[70, 80)    14     7   19     35\n",
       "[80, 90)    10     3    7     19\n",
       "[90, 125)    1     0    2      4"
      ]
     },
     "execution_count": 56,
     "metadata": {},
     "output_type": "execute_result"
    },
    {
     "data": {
      "image/png": "[encoded data removed]",
      "text/plain": [
       "<Figure size 432x288 with 1 Axes>"
      ]
     },
     "metadata": {
      "needs_background": "light"
     },
     "output_type": "display_data"
    }
   ],
   "source": [
    "pd.crosstab(forplot.AgeGroup,forplot.Site).plot.bar(rot=0,title='AABC')\n",
    "#pd.crosstab(forplot.AgeGroup,forplot.Site).to_csv('Recruitment_Stats',mode='a')\n",
    "pd.crosstab(forplot.AgeGroup,forplot.Site)"
   ]
  },
  {
   "cell_type": "code",
   "execution_count": 57,
   "id": "d9e3fa2d",
   "metadata": {},
   "outputs": [
    {
     "data": {
      "text/html": [
       "<div>\n",
       "<style scoped>\n",
       "    .dataframe tbody tr th:only-of-type {\n",
       "        vertical-align: middle;\n",
       "    }\n",
       "\n",
       "    .dataframe tbody tr th {\n",
       "        vertical-align: top;\n",
       "    }\n",
       "\n",
       "    .dataframe thead th {\n",
       "        text-align: right;\n",
       "    }\n",
       "</style>\n",
       "<table border=\"1\" class=\"dataframe\">\n",
       "  <thead>\n",
       "    <tr style=\"text-align: right;\">\n",
       "      <th>Site</th>\n",
       "      <th>MGH</th>\n",
       "      <th>UCLA</th>\n",
       "      <th>UMN</th>\n",
       "      <th>WashU</th>\n",
       "    </tr>\n",
       "    <tr>\n",
       "      <th>Sex</th>\n",
       "      <th></th>\n",
       "      <th></th>\n",
       "      <th></th>\n",
       "      <th></th>\n",
       "    </tr>\n",
       "  </thead>\n",
       "  <tbody>\n",
       "    <tr>\n",
       "      <th>Female</th>\n",
       "      <td>29</td>\n",
       "      <td>11</td>\n",
       "      <td>45</td>\n",
       "      <td>62</td>\n",
       "    </tr>\n",
       "    <tr>\n",
       "      <th>Male</th>\n",
       "      <td>33</td>\n",
       "      <td>20</td>\n",
       "      <td>28</td>\n",
       "      <td>51</td>\n",
       "    </tr>\n",
       "  </tbody>\n",
       "</table>\n",
       "</div>"
      ],
      "text/plain": [
       "Site    MGH  UCLA  UMN  WashU\n",
       "Sex                          \n",
       "Female   29    11   45     62\n",
       "Male     33    20   28     51"
      ]
     },
     "execution_count": 57,
     "metadata": {},
     "output_type": "execute_result"
    },
    {
     "data": {
      "image/png": "[encoded data removed]",
      "text/plain": [
       "<Figure size 432x288 with 1 Axes>"
      ]
     },
     "metadata": {
      "needs_background": "light"
     },
     "output_type": "display_data"
    }
   ],
   "source": [
    "pd.crosstab(forplot.Sex,forplot.Site).plot.bar(rot=0,title='AABC')\n",
    "#pd.crosstab(forplot.Sex,forplot.Site).to_csv('Recruitment_Stats',mode='a')\n",
    "pd.crosstab(forplot.Sex,forplot.Site)"
   ]
  },
  {
   "cell_type": "code",
   "execution_count": 58,
   "id": "338f5b93",
   "metadata": {},
   "outputs": [
    {
     "data": {
      "text/html": [
       "<div>\n",
       "<style scoped>\n",
       "    .dataframe tbody tr th:only-of-type {\n",
       "        vertical-align: middle;\n",
       "    }\n",
       "\n",
       "    .dataframe tbody tr th {\n",
       "        vertical-align: top;\n",
       "    }\n",
       "\n",
       "    .dataframe thead th {\n",
       "        text-align: right;\n",
       "    }\n",
       "</style>\n",
       "<table border=\"1\" class=\"dataframe\">\n",
       "  <thead>\n",
       "    <tr style=\"text-align: right;\">\n",
       "      <th>Race</th>\n",
       "      <th>Asian</th>\n",
       "      <th>Black</th>\n",
       "      <th>More than one</th>\n",
       "      <th>Nat Amer/Alaskan</th>\n",
       "      <th>Unknown</th>\n",
       "      <th>White</th>\n",
       "    </tr>\n",
       "    <tr>\n",
       "      <th>AgeGroup</th>\n",
       "      <th></th>\n",
       "      <th></th>\n",
       "      <th></th>\n",
       "      <th></th>\n",
       "      <th></th>\n",
       "      <th></th>\n",
       "    </tr>\n",
       "  </thead>\n",
       "  <tbody>\n",
       "    <tr>\n",
       "      <th>[40, 50)</th>\n",
       "      <td>3</td>\n",
       "      <td>9</td>\n",
       "      <td>1</td>\n",
       "      <td>1</td>\n",
       "      <td>0</td>\n",
       "      <td>22</td>\n",
       "    </tr>\n",
       "    <tr>\n",
       "      <th>[50, 60)</th>\n",
       "      <td>3</td>\n",
       "      <td>10</td>\n",
       "      <td>1</td>\n",
       "      <td>2</td>\n",
       "      <td>2</td>\n",
       "      <td>24</td>\n",
       "    </tr>\n",
       "    <tr>\n",
       "      <th>[60, 70)</th>\n",
       "      <td>4</td>\n",
       "      <td>8</td>\n",
       "      <td>2</td>\n",
       "      <td>1</td>\n",
       "      <td>1</td>\n",
       "      <td>64</td>\n",
       "    </tr>\n",
       "    <tr>\n",
       "      <th>[70, 80)</th>\n",
       "      <td>0</td>\n",
       "      <td>5</td>\n",
       "      <td>1</td>\n",
       "      <td>0</td>\n",
       "      <td>0</td>\n",
       "      <td>69</td>\n",
       "    </tr>\n",
       "    <tr>\n",
       "      <th>[80, 90)</th>\n",
       "      <td>2</td>\n",
       "      <td>0</td>\n",
       "      <td>0</td>\n",
       "      <td>0</td>\n",
       "      <td>0</td>\n",
       "      <td>37</td>\n",
       "    </tr>\n",
       "    <tr>\n",
       "      <th>[90, 125)</th>\n",
       "      <td>0</td>\n",
       "      <td>0</td>\n",
       "      <td>0</td>\n",
       "      <td>0</td>\n",
       "      <td>0</td>\n",
       "      <td>7</td>\n",
       "    </tr>\n",
       "  </tbody>\n",
       "</table>\n",
       "</div>"
      ],
      "text/plain": [
       "Race       Asian  Black  More than one  Nat Amer/Alaskan  Unknown  White\n",
       "AgeGroup                                                                \n",
       "[40, 50)       3      9              1                 1        0     22\n",
       "[50, 60)       3     10              1                 2        2     24\n",
       "[60, 70)       4      8              2                 1        1     64\n",
       "[70, 80)       0      5              1                 0        0     69\n",
       "[80, 90)       2      0              0                 0        0     37\n",
       "[90, 125)      0      0              0                 0        0      7"
      ]
     },
     "execution_count": 58,
     "metadata": {},
     "output_type": "execute_result"
    },
    {
     "data": {
      "image/png": "[encoded data removed]",
      "text/plain": [
       "<Figure size 432x288 with 1 Axes>"
      ]
     },
     "metadata": {
      "needs_background": "light"
     },
     "output_type": "display_data"
    }
   ],
   "source": [
    "pd.crosstab(forplot.AgeGroup,forplot.Race).plot.bar(rot=0,title='AABC')\n",
    "#pd.crosstab(forplot.AgeGroup,forplot.Race).to_csv('Recruitment_Stats',mode='a')\n",
    "pd.crosstab(forplot.AgeGroup,forplot.Race)"
   ]
  },
  {
   "cell_type": "code",
   "execution_count": 59,
   "id": "3e2de1a3",
   "metadata": {},
   "outputs": [
    {
     "data": {
      "text/html": [
       "<div>\n",
       "<style scoped>\n",
       "    .dataframe tbody tr th:only-of-type {\n",
       "        vertical-align: middle;\n",
       "    }\n",
       "\n",
       "    .dataframe tbody tr th {\n",
       "        vertical-align: top;\n",
       "    }\n",
       "\n",
       "    .dataframe thead th {\n",
       "        text-align: right;\n",
       "    }\n",
       "</style>\n",
       "<table border=\"1\" class=\"dataframe\">\n",
       "  <thead>\n",
       "    <tr style=\"text-align: right;\">\n",
       "      <th>Ethnicity</th>\n",
       "      <th>Hispanic</th>\n",
       "      <th>Non-Hispanic</th>\n",
       "      <th>Unknown</th>\n",
       "    </tr>\n",
       "    <tr>\n",
       "      <th>AgeGroup</th>\n",
       "      <th></th>\n",
       "      <th></th>\n",
       "      <th></th>\n",
       "    </tr>\n",
       "  </thead>\n",
       "  <tbody>\n",
       "    <tr>\n",
       "      <th>[40, 50)</th>\n",
       "      <td>4</td>\n",
       "      <td>31</td>\n",
       "      <td>1</td>\n",
       "    </tr>\n",
       "    <tr>\n",
       "      <th>[50, 60)</th>\n",
       "      <td>10</td>\n",
       "      <td>31</td>\n",
       "      <td>1</td>\n",
       "    </tr>\n",
       "    <tr>\n",
       "      <th>[60, 70)</th>\n",
       "      <td>5</td>\n",
       "      <td>74</td>\n",
       "      <td>1</td>\n",
       "    </tr>\n",
       "    <tr>\n",
       "      <th>[70, 80)</th>\n",
       "      <td>4</td>\n",
       "      <td>71</td>\n",
       "      <td>0</td>\n",
       "    </tr>\n",
       "    <tr>\n",
       "      <th>[80, 90)</th>\n",
       "      <td>0</td>\n",
       "      <td>39</td>\n",
       "      <td>0</td>\n",
       "    </tr>\n",
       "    <tr>\n",
       "      <th>[90, 125)</th>\n",
       "      <td>0</td>\n",
       "      <td>7</td>\n",
       "      <td>0</td>\n",
       "    </tr>\n",
       "  </tbody>\n",
       "</table>\n",
       "</div>"
      ],
      "text/plain": [
       "Ethnicity  Hispanic  Non-Hispanic  Unknown\n",
       "AgeGroup                                  \n",
       "[40, 50)          4            31        1\n",
       "[50, 60)         10            31        1\n",
       "[60, 70)          5            74        1\n",
       "[70, 80)          4            71        0\n",
       "[80, 90)          0            39        0\n",
       "[90, 125)         0             7        0"
      ]
     },
     "execution_count": 59,
     "metadata": {},
     "output_type": "execute_result"
    },
    {
     "data": {
      "image/png": "[encoded data removed]",
      "text/plain": [
       "<Figure size 432x288 with 1 Axes>"
      ]
     },
     "metadata": {
      "needs_background": "light"
     },
     "output_type": "display_data"
    }
   ],
   "source": [
    "pd.crosstab(forplot.AgeGroup,forplot.Ethnicity).plot.bar(rot=0,title='AABC')\n",
    "#pd.crosstab(forplot.AgeGroup,forplot.Ethnicity).to_csv('Recruitment_Stats',mode='a')\n",
    "pd.crosstab(forplot.AgeGroup,forplot.Ethnicity)\n"
   ]
  },
  {
   "cell_type": "code",
   "execution_count": 60,
   "id": "136477f7",
   "metadata": {},
   "outputs": [
    {
     "data": {
      "text/html": [
       "<div>\n",
       "<style scoped>\n",
       "    .dataframe tbody tr th:only-of-type {\n",
       "        vertical-align: middle;\n",
       "    }\n",
       "\n",
       "    .dataframe tbody tr th {\n",
       "        vertical-align: top;\n",
       "    }\n",
       "\n",
       "    .dataframe thead th {\n",
       "        text-align: right;\n",
       "    }\n",
       "</style>\n",
       "<table border=\"1\" class=\"dataframe\">\n",
       "  <thead>\n",
       "    <tr style=\"text-align: right;\">\n",
       "      <th>Sex</th>\n",
       "      <th>Female</th>\n",
       "      <th>Male</th>\n",
       "    </tr>\n",
       "    <tr>\n",
       "      <th>AgeGroup</th>\n",
       "      <th></th>\n",
       "      <th></th>\n",
       "    </tr>\n",
       "  </thead>\n",
       "  <tbody>\n",
       "    <tr>\n",
       "      <th>[40, 50)</th>\n",
       "      <td>18</td>\n",
       "      <td>18</td>\n",
       "    </tr>\n",
       "    <tr>\n",
       "      <th>[50, 60)</th>\n",
       "      <td>22</td>\n",
       "      <td>20</td>\n",
       "    </tr>\n",
       "    <tr>\n",
       "      <th>[60, 70)</th>\n",
       "      <td>49</td>\n",
       "      <td>31</td>\n",
       "    </tr>\n",
       "    <tr>\n",
       "      <th>[70, 80)</th>\n",
       "      <td>33</td>\n",
       "      <td>42</td>\n",
       "    </tr>\n",
       "    <tr>\n",
       "      <th>[80, 90)</th>\n",
       "      <td>22</td>\n",
       "      <td>17</td>\n",
       "    </tr>\n",
       "    <tr>\n",
       "      <th>[90, 125)</th>\n",
       "      <td>3</td>\n",
       "      <td>4</td>\n",
       "    </tr>\n",
       "  </tbody>\n",
       "</table>\n",
       "</div>"
      ],
      "text/plain": [
       "Sex        Female  Male\n",
       "AgeGroup               \n",
       "[40, 50)       18    18\n",
       "[50, 60)       22    20\n",
       "[60, 70)       49    31\n",
       "[70, 80)       33    42\n",
       "[80, 90)       22    17\n",
       "[90, 125)       3     4"
      ]
     },
     "execution_count": 60,
     "metadata": {},
     "output_type": "execute_result"
    },
    {
     "data": {
      "image/png": "[encoded data removed]",
      "text/plain": [
       "<Figure size 432x288 with 1 Axes>"
      ]
     },
     "metadata": {
      "needs_background": "light"
     },
     "output_type": "display_data"
    }
   ],
   "source": [
    "pd.crosstab(forplot.AgeGroup,forplot.Sex).plot.bar(rot=0,title='AABC')\n",
    "#pd.crosstab(forplot.AgeGroup,forplot.Sex).to_csv('Recruitment_Stats',mode='a')\n",
    "pd.crosstab(forplot.AgeGroup,forplot.Sex)"
   ]
  },
  {
   "cell_type": "code",
   "execution_count": 61,
   "id": "c2c4ff92",
   "metadata": {},
   "outputs": [
    {
     "data": {
      "text/html": [
       "<div>\n",
       "<style scoped>\n",
       "    .dataframe tbody tr th:only-of-type {\n",
       "        vertical-align: middle;\n",
       "    }\n",
       "\n",
       "    .dataframe tbody tr th {\n",
       "        vertical-align: top;\n",
       "    }\n",
       "\n",
       "    .dataframe thead th {\n",
       "        text-align: right;\n",
       "    }\n",
       "</style>\n",
       "<table border=\"1\" class=\"dataframe\">\n",
       "  <thead>\n",
       "    <tr style=\"text-align: right;\">\n",
       "      <th>Sex</th>\n",
       "      <th>Female</th>\n",
       "      <th>Male</th>\n",
       "    </tr>\n",
       "    <tr>\n",
       "      <th>Race</th>\n",
       "      <th></th>\n",
       "      <th></th>\n",
       "    </tr>\n",
       "  </thead>\n",
       "  <tbody>\n",
       "    <tr>\n",
       "      <th>Asian</th>\n",
       "      <td>4</td>\n",
       "      <td>8</td>\n",
       "    </tr>\n",
       "    <tr>\n",
       "      <th>Black</th>\n",
       "      <td>17</td>\n",
       "      <td>15</td>\n",
       "    </tr>\n",
       "    <tr>\n",
       "      <th>More than one</th>\n",
       "      <td>1</td>\n",
       "      <td>4</td>\n",
       "    </tr>\n",
       "    <tr>\n",
       "      <th>Nat Amer/Alaskan</th>\n",
       "      <td>2</td>\n",
       "      <td>2</td>\n",
       "    </tr>\n",
       "    <tr>\n",
       "      <th>Unknown</th>\n",
       "      <td>2</td>\n",
       "      <td>1</td>\n",
       "    </tr>\n",
       "    <tr>\n",
       "      <th>White</th>\n",
       "      <td>121</td>\n",
       "      <td>102</td>\n",
       "    </tr>\n",
       "  </tbody>\n",
       "</table>\n",
       "</div>"
      ],
      "text/plain": [
       "Sex               Female  Male\n",
       "Race                          \n",
       "Asian                  4     8\n",
       "Black                 17    15\n",
       "More than one          1     4\n",
       "Nat Amer/Alaskan       2     2\n",
       "Unknown                2     1\n",
       "White                121   102"
      ]
     },
     "execution_count": 61,
     "metadata": {},
     "output_type": "execute_result"
    },
    {
     "data": {
      "image/png": "[encoded data removed]",
      "text/plain": [
       "<Figure size 432x288 with 1 Axes>"
      ]
     },
     "metadata": {
      "needs_background": "light"
     },
     "output_type": "display_data"
    }
   ],
   "source": [
    "#Crosstabs\n",
    "pd.crosstab(forplot.Race,forplot.Sex).plot.bar(rot=45,title='AABC')\n",
    "#pd.crosstab(forplot.Race,forplot.Sex).to_csv('Recruitment_Stats',mode='a')\n",
    "pd.crosstab(forplot.Race,forplot.Sex)"
   ]
  },
  {
   "cell_type": "code",
   "execution_count": 62,
   "id": "a00b2d81",
   "metadata": {},
   "outputs": [
    {
     "data": {
      "text/html": [
       "<div>\n",
       "<style scoped>\n",
       "    .dataframe tbody tr th:only-of-type {\n",
       "        vertical-align: middle;\n",
       "    }\n",
       "\n",
       "    .dataframe tbody tr th {\n",
       "        vertical-align: top;\n",
       "    }\n",
       "\n",
       "    .dataframe thead th {\n",
       "        text-align: right;\n",
       "    }\n",
       "</style>\n",
       "<table border=\"1\" class=\"dataframe\">\n",
       "  <thead>\n",
       "    <tr style=\"text-align: right;\">\n",
       "      <th>Sex</th>\n",
       "      <th>Female</th>\n",
       "      <th>Male</th>\n",
       "    </tr>\n",
       "    <tr>\n",
       "      <th>Ethnicity</th>\n",
       "      <th></th>\n",
       "      <th></th>\n",
       "    </tr>\n",
       "  </thead>\n",
       "  <tbody>\n",
       "    <tr>\n",
       "      <th>Hispanic</th>\n",
       "      <td>9</td>\n",
       "      <td>14</td>\n",
       "    </tr>\n",
       "    <tr>\n",
       "      <th>Non-Hispanic</th>\n",
       "      <td>136</td>\n",
       "      <td>117</td>\n",
       "    </tr>\n",
       "    <tr>\n",
       "      <th>Unknown</th>\n",
       "      <td>2</td>\n",
       "      <td>1</td>\n",
       "    </tr>\n",
       "  </tbody>\n",
       "</table>\n",
       "</div>"
      ],
      "text/plain": [
       "Sex           Female  Male\n",
       "Ethnicity                 \n",
       "Hispanic           9    14\n",
       "Non-Hispanic     136   117\n",
       "Unknown            2     1"
      ]
     },
     "execution_count": 62,
     "metadata": {},
     "output_type": "execute_result"
    },
    {
     "data": {
      "image/png": "[encoded data removed]",
      "text/plain": [
       "<Figure size 432x288 with 1 Axes>"
      ]
     },
     "metadata": {
      "needs_background": "light"
     },
     "output_type": "display_data"
    }
   ],
   "source": [
    "#Crosstabs\n",
    "pd.crosstab(forplot.Ethnicity,forplot.Sex).plot.bar(rot=0,title='AABC')\n",
    "#pd.crosstab(forplot.Ethnicity,forplot.Sex).to_csv('Recruitment_Stats',mode='a')\n",
    "pd.crosstab(forplot.Ethnicity,forplot.Sex)"
   ]
  },
  {
   "cell_type": "code",
   "execution_count": 63,
   "id": "ab88352c",
   "metadata": {},
   "outputs": [
    {
     "data": {
      "text/html": [
       "<div>\n",
       "<style scoped>\n",
       "    .dataframe tbody tr th:only-of-type {\n",
       "        vertical-align: middle;\n",
       "    }\n",
       "\n",
       "    .dataframe tbody tr th {\n",
       "        vertical-align: top;\n",
       "    }\n",
       "\n",
       "    .dataframe thead th {\n",
       "        text-align: right;\n",
       "    }\n",
       "</style>\n",
       "<table border=\"1\" class=\"dataframe\">\n",
       "  <thead>\n",
       "    <tr style=\"text-align: right;\">\n",
       "      <th>Sex</th>\n",
       "      <th>Female</th>\n",
       "      <th>Male</th>\n",
       "    </tr>\n",
       "    <tr>\n",
       "      <th>Counterbalance</th>\n",
       "      <th></th>\n",
       "      <th></th>\n",
       "    </tr>\n",
       "  </thead>\n",
       "  <tbody>\n",
       "    <tr>\n",
       "      <th>CB3</th>\n",
       "      <td>76</td>\n",
       "      <td>70</td>\n",
       "    </tr>\n",
       "    <tr>\n",
       "      <th>CB4</th>\n",
       "      <td>71</td>\n",
       "      <td>62</td>\n",
       "    </tr>\n",
       "  </tbody>\n",
       "</table>\n",
       "</div>"
      ],
      "text/plain": [
       "Sex             Female  Male\n",
       "Counterbalance              \n",
       "CB3                 76    70\n",
       "CB4                 71    62"
      ]
     },
     "execution_count": 63,
     "metadata": {},
     "output_type": "execute_result"
    },
    {
     "data": {
      "image/png": "[encoded data removed]",
      "text/plain": [
       "<Figure size 432x288 with 1 Axes>"
      ]
     },
     "metadata": {
      "needs_background": "light"
     },
     "output_type": "display_data"
    }
   ],
   "source": [
    "#Crosstabs\n",
    "pd.crosstab(forplot.Counterbalance,forplot.Sex).plot.bar(rot=0,title='AABC')\n",
    "#pd.crosstab(forplot.Counterbalance,forplot.Sex).to_csv('Recruitment_Stats',mode='a')\n",
    "pd.crosstab(forplot.Counterbalance,forplot.Sex)"
   ]
  },
  {
   "cell_type": "code",
   "execution_count": 64,
   "id": "98bb8cc4",
   "metadata": {},
   "outputs": [
    {
     "data": {
      "text/html": [
       "<div>\n",
       "<style scoped>\n",
       "    .dataframe tbody tr th:only-of-type {\n",
       "        vertical-align: middle;\n",
       "    }\n",
       "\n",
       "    .dataframe tbody tr th {\n",
       "        vertical-align: top;\n",
       "    }\n",
       "\n",
       "    .dataframe thead th {\n",
       "        text-align: right;\n",
       "    }\n",
       "</style>\n",
       "<table border=\"1\" class=\"dataframe\">\n",
       "  <thead>\n",
       "    <tr style=\"text-align: right;\">\n",
       "      <th>Counterbalance</th>\n",
       "      <th>CB3</th>\n",
       "      <th>CB4</th>\n",
       "    </tr>\n",
       "    <tr>\n",
       "      <th>Race</th>\n",
       "      <th></th>\n",
       "      <th></th>\n",
       "    </tr>\n",
       "  </thead>\n",
       "  <tbody>\n",
       "    <tr>\n",
       "      <th>Asian</th>\n",
       "      <td>4</td>\n",
       "      <td>8</td>\n",
       "    </tr>\n",
       "    <tr>\n",
       "      <th>Black</th>\n",
       "      <td>18</td>\n",
       "      <td>14</td>\n",
       "    </tr>\n",
       "    <tr>\n",
       "      <th>More than one</th>\n",
       "      <td>4</td>\n",
       "      <td>1</td>\n",
       "    </tr>\n",
       "    <tr>\n",
       "      <th>Nat Amer/Alaskan</th>\n",
       "      <td>3</td>\n",
       "      <td>1</td>\n",
       "    </tr>\n",
       "    <tr>\n",
       "      <th>Unknown</th>\n",
       "      <td>1</td>\n",
       "      <td>2</td>\n",
       "    </tr>\n",
       "    <tr>\n",
       "      <th>White</th>\n",
       "      <td>116</td>\n",
       "      <td>107</td>\n",
       "    </tr>\n",
       "  </tbody>\n",
       "</table>\n",
       "</div>"
      ],
      "text/plain": [
       "Counterbalance    CB3  CB4\n",
       "Race                      \n",
       "Asian               4    8\n",
       "Black              18   14\n",
       "More than one       4    1\n",
       "Nat Amer/Alaskan    3    1\n",
       "Unknown             1    2\n",
       "White             116  107"
      ]
     },
     "execution_count": 64,
     "metadata": {},
     "output_type": "execute_result"
    },
    {
     "data": {
      "image/png": "[encoded data removed]",
      "text/plain": [
       "<Figure size 432x288 with 1 Axes>"
      ]
     },
     "metadata": {
      "needs_background": "light"
     },
     "output_type": "display_data"
    }
   ],
   "source": [
    "#Crosstabs\n",
    "pd.crosstab(forplot.Race,forplot.Counterbalance).plot.bar(rot=45,title='AABC')\n",
    "#pd.crosstab(forplot.Race,forplot.Counterbalance).to_csv('Recruitment_Stats',mode='a')\n",
    "pd.crosstab(forplot.Race,forplot.Counterbalance)"
   ]
  },
  {
   "cell_type": "code",
   "execution_count": 65,
   "id": "9eb5727c",
   "metadata": {},
   "outputs": [
    {
     "data": {
      "text/html": [
       "<div>\n",
       "<style scoped>\n",
       "    .dataframe tbody tr th:only-of-type {\n",
       "        vertical-align: middle;\n",
       "    }\n",
       "\n",
       "    .dataframe tbody tr th {\n",
       "        vertical-align: top;\n",
       "    }\n",
       "\n",
       "    .dataframe thead th {\n",
       "        text-align: right;\n",
       "    }\n",
       "</style>\n",
       "<table border=\"1\" class=\"dataframe\">\n",
       "  <thead>\n",
       "    <tr style=\"text-align: right;\">\n",
       "      <th>Counterbalance</th>\n",
       "      <th>CB3</th>\n",
       "      <th>CB4</th>\n",
       "    </tr>\n",
       "    <tr>\n",
       "      <th>AgeGroup</th>\n",
       "      <th></th>\n",
       "      <th></th>\n",
       "    </tr>\n",
       "  </thead>\n",
       "  <tbody>\n",
       "    <tr>\n",
       "      <th>[40, 50)</th>\n",
       "      <td>21</td>\n",
       "      <td>15</td>\n",
       "    </tr>\n",
       "    <tr>\n",
       "      <th>[50, 60)</th>\n",
       "      <td>26</td>\n",
       "      <td>16</td>\n",
       "    </tr>\n",
       "    <tr>\n",
       "      <th>[60, 70)</th>\n",
       "      <td>36</td>\n",
       "      <td>44</td>\n",
       "    </tr>\n",
       "    <tr>\n",
       "      <th>[70, 80)</th>\n",
       "      <td>36</td>\n",
       "      <td>39</td>\n",
       "    </tr>\n",
       "    <tr>\n",
       "      <th>[80, 90)</th>\n",
       "      <td>22</td>\n",
       "      <td>17</td>\n",
       "    </tr>\n",
       "    <tr>\n",
       "      <th>[90, 125)</th>\n",
       "      <td>5</td>\n",
       "      <td>2</td>\n",
       "    </tr>\n",
       "  </tbody>\n",
       "</table>\n",
       "</div>"
      ],
      "text/plain": [
       "Counterbalance  CB3  CB4\n",
       "AgeGroup                \n",
       "[40, 50)         21   15\n",
       "[50, 60)         26   16\n",
       "[60, 70)         36   44\n",
       "[70, 80)         36   39\n",
       "[80, 90)         22   17\n",
       "[90, 125)         5    2"
      ]
     },
     "execution_count": 65,
     "metadata": {},
     "output_type": "execute_result"
    },
    {
     "data": {
      "image/png": "[encoded data removed]",
      "text/plain": [
       "<Figure size 432x288 with 1 Axes>"
      ]
     },
     "metadata": {
      "needs_background": "light"
     },
     "output_type": "display_data"
    }
   ],
   "source": [
    "#Crosstabs\n",
    "pd.crosstab(forplot.AgeGroup,forplot.Counterbalance).plot.bar(rot=0,title='AABC')\n",
    "#pd.crosstab(forplot.AgeGroup,forplot.Counterbalance).to_csv('Recruitment_Stats',mode='a')\n",
    "pd.crosstab(forplot.AgeGroup,forplot.Counterbalance)"
   ]
  },
  {
   "cell_type": "code",
   "execution_count": null,
   "id": "8f100468",
   "metadata": {},
   "outputs": [],
   "source": []
  },
  {
   "cell_type": "code",
   "execution_count": null,
   "id": "60468c6e",
   "metadata": {},
   "outputs": [],
   "source": []
  }
 ],
 "metadata": {
  "kernelspec": {
   "display_name": "NDA_submissions",
   "language": "python",
   "name": "nda_submissions"
  },
  "language_info": {
   "codemirror_mode": {
    "name": "ipython",
    "version": 3
   },
   "file_extension": ".py",
   "mimetype": "text/x-python",
   "name": "python",
   "nbconvert_exporter": "python",
   "pygments_lexer": "ipython3",
   "version": "3.9.6"
  }
 },
 "nbformat": 4,
 "nbformat_minor": 5
}
