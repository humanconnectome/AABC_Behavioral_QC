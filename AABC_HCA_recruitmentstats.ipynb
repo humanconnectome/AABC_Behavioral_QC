{
 "cells": [
  {
   "cell_type": "markdown",
   "id": "0ffe76f2",
   "metadata": {},
   "source": [
    "# AABC Cumulative Recruitment Statistics and Visuals\n",
    "\n",
    "\n",
    "# DO NOT PUBLISH THESE NUMBERS \n",
    "### These numbers are 'live' as of the timestamp in their filename.  As such, they are subject to updates as discrepancies are resolved between local and central reporting.  \n",
    "\n"
   ]
  },
  {
   "cell_type": "code",
   "execution_count": null,
   "id": "8cbe61d4",
   "metadata": {},
   "outputs": [],
   "source": [
    "# check out  ~/cron/aabc_recruits.sh\n",
    "#"
   ]
  },
  {
   "cell_type": "code",
   "execution_count": null,
   "id": "d510e8d2",
   "metadata": {},
   "outputs": [],
   "source": [
    "#load some libraries\n",
    "import pandas as pd\n",
    "import seaborn as sns\n",
    "import requests\n",
    "from ccf.box import LifespanBox\n",
    "import yaml\n",
    "from functions import *\n",
    "from config import *\n",
    "import numpy as np\n",
    "import matplotlib.pyplot as plt\n",
    "from datetime import date\n",
    "import warnings\n",
    "from itables import show\n",
    "import itables.options as opt\n",
    "#warnings.filterwarnings('ignore')"
   ]
  },
  {
   "cell_type": "code",
   "execution_count": null,
   "id": "08e000dd",
   "metadata": {},
   "outputs": [],
   "source": [
    "opt.maxBytes = \"512KB\""
   ]
  },
  {
   "cell_type": "code",
   "execution_count": null,
   "id": "a52cf9d8",
   "metadata": {},
   "outputs": [],
   "source": [
    "print(date.today().strftime(\"%m/%d/%Y\"))"
   ]
  },
  {
   "cell_type": "code",
   "execution_count": null,
   "id": "4ead2304",
   "metadata": {},
   "outputs": [],
   "source": [
    "#load HCA inventory \n",
    "config = LoadSettings()\n",
    "secret=pd.read_csv(config['config_files']['secrets'])\n",
    "box = LifespanBox(cache=\"./tmp\")\n",
    "pathp=box.downloadFile(config['hcainventory'])\n",
    "ids=pd.read_csv(pathp)\n",
    "intradb=pd.read_csv(config['config_files']['PCP'])\n"
   ]
  },
  {
   "cell_type": "code",
   "execution_count": null,
   "id": "e630d553",
   "metadata": {},
   "outputs": [],
   "source": [
    "#jdump=curl -X GET \"https://intradb.humanconnectome.org/data/archive/projects/AABC_UMN_ITK/experiments?format=json\"    -u intradb.user[0]:intradb.password[0]      -H \"Content-Type: application/x-www-form-urlencoded\"\n",
    "url = \"https://intradb.humanconnectome.org/data/archive/projects/AABC_UMN_ITK/experiments?format=json\"\n",
    "url2=\"https://intradb.humanconnectome.org/data/archive/projects/AABC_MGH_ITK/experiments?format=json\"\n",
    "response = requests.get(url, auth=(intradb.user[0],intradb.auth[0]), headers={\n",
    "    \"Content-Type\": \"application/x-www-form-urlencoded\"\n",
    "})\n",
    "response2 = requests.get(url2, auth=(intradb.user[0],intradb.auth[0]), headers={\n",
    "    \"Content-Type\": \"application/x-www-form-urlencoded\"\n",
    "})\n",
    "\n",
    "response.raise_for_status()\n",
    "data = response.json()\n",
    "#print(data.keys())  # Temporarily for debugging\n",
    "experiments = data.get('ResultSet', {}).get('Result', [])\n",
    "df = pd.DataFrame(experiments)\n",
    "#df.head()\n",
    "\n",
    "response2.raise_for_status()\n",
    "data2 = response2.json()\n",
    "#print(data2.keys())  # Temporarily for debugging\n",
    "experiments2 = data2.get('ResultSet', {}).get('Result', [])\n",
    "df2 = pd.DataFrame(experiments2)\n",
    "#print(df2.head())\n"
   ]
  },
  {
   "cell_type": "code",
   "execution_count": null,
   "id": "dcf69e9d",
   "metadata": {},
   "outputs": [],
   "source": [
    "#find the 7T folks\n",
    "DF=pd.concat([df,df2],axis=0)\n",
    "DF.head()\n",
    "subjects7T=DF.loc[DF.label.str.contains('7T')][['label']]\n",
    "split_cols = subjects7T['label'].str.split('_', expand=True)\n",
    "subjects7T['subject'] = split_cols[0]\n",
    "subjects7T['redcap_event'] = split_cols[1]\n",
    "\n",
    "subjects7T=subjects7T[['subject','redcap_event']]     \n",
    "subjects7T.head()\n",
    "subjects7T=subjects7T.drop_duplicates()"
   ]
  },
  {
   "cell_type": "code",
   "execution_count": null,
   "id": "f3da8c03",
   "metadata": {},
   "outputs": [],
   "source": [
    "### CHECK WITH ANGELA ##########\n",
    "### DONT FORGET TO DO SOMETHING ABOUT SUBJECT WE SHOULD DELETE\n",
    "### DONT WANT TO ACCIDENTALLY DROP WITHDRAWNS\n",
    "\n",
    "DNR = [\"HCA7787304_V1\", \"HCA6276071_V1\", \"HCA6229365_V1\", \"HCA9191078_V1\", \"HCA6863086_V1\"]\n",
    "#These guys accidentally recruited as V2\n",
    "v2oops=['HCA6686191','HCA7296183']"
   ]
  },
  {
   "cell_type": "code",
   "execution_count": null,
   "id": "a35b1029",
   "metadata": {},
   "outputs": [],
   "source": [
    "hcaids=ids.subject.drop_duplicates()\n",
    "#for later use in getting the last visit for each participant in HCA so that you can later make sure that person is starting subsequent visit and not accidentally enrolled in the wrong arm\n",
    "hca_lastvisits=ids[['subject','redcap_event']].loc[ids.redcap_event.isin(['V1','V2'])].sort_values('redcap_event').drop_duplicates(subset='subject',keep='last')"
   ]
  },
  {
   "cell_type": "code",
   "execution_count": null,
   "id": "2ae34d57",
   "metadata": {},
   "outputs": [],
   "source": [
    "#load AABC report\n",
    "aabcarms = redjson(tok=secret.loc[secret.source=='aabcarms','api_key'].reset_index().drop(columns='index').api_key[0])\n",
    "hcpa = redjson(tok=secret.loc[secret.source=='hcpa','api_key'].reset_index().drop(columns='index').api_key[0])\n",
    "#just a report\n",
    "aabcreport = redreport(tok=secret.loc[secret.source=='aabcarms','api_key'].reset_index().drop(columns='index').api_key[0],reportid='51031')\n"
   ]
  },
  {
   "cell_type": "code",
   "execution_count": null,
   "id": "b4b0bc3d",
   "metadata": {},
   "outputs": [],
   "source": [
    "#download the inventory report from AABC for comparison\n",
    "aabcinvent=getframe(struct=aabcreport,api_url=config['Redcap']['api_url10']).drop(columns='dob')"
   ]
  },
  {
   "cell_type": "code",
   "execution_count": null,
   "id": "1f6a8b03",
   "metadata": {},
   "outputs": [],
   "source": [
    "## CODE RED!"
   ]
  },
  {
   "cell_type": "code",
   "execution_count": null,
   "id": "c92409f9",
   "metadata": {},
   "outputs": [],
   "source": [
    "#find subjectts who have completed a visit and are not in DNR list - save for later\n",
    "reds=aabcinvent.loc[aabcinvent.register_visit_complete =='2'][['study_id']]\n",
    "inperson=list(reds.study_id.unique())\n",
    "reds2=aabcinvent.loc[(aabcinvent.study_id.isin(inperson)) & (~(aabcinvent.subject_id =='')) & (~(aabcinvent.subject_id.isin(DNR)))]\n",
    "inpersonHCAid=list(reds2.subject_id.unique())"
   ]
  },
  {
   "cell_type": "code",
   "execution_count": null,
   "id": "23673d64",
   "metadata": {},
   "outputs": [],
   "source": [
    "##this is too complicated\n",
    "#study_id=config['Redcap']['datasources']['aabcarms']['redcapidvar']\n",
    "#study_id\n"
   ]
  },
  {
   "cell_type": "code",
   "execution_count": null,
   "id": "3726da4d",
   "metadata": {},
   "outputs": [],
   "source": [
    "\n",
    "#slim selects just the registration event (V0) because thats where the ids and legacy information is kept.\n",
    "slim=aabcinvent[['study_id','redcap_event_name','subject_id','legacy_yn','site','v0_date']].loc[(aabcinvent.redcap_event_name.str.contains('register'))]\n",
    "\n",
    "#compare aabc ids against hcaids and whether legacy information is properly accounted for (e.g. legacy variable flags and actual event in which participannt has been enrolled.\n",
    "fortest=pd.merge(hcaids,slim,left_on='subject',right_on='subject_id',how=\"outer\",indicator=True)\n",
    "#fortest._merge.value_counts()\n",
    "legacyarms=['register_arm_1','register_arm_2','register_arm_3','register_arm_4','register_arm_5','register_arm_6','register_arm_7','register_arm_8']"
   ]
  },
  {
   "cell_type": "code",
   "execution_count": null,
   "id": "e473cd8f",
   "metadata": {},
   "outputs": [],
   "source": [
    "# First batch of flags: Look for legacy IDs that don't actually exist in HCA\n",
    "ft=fortest.loc[(fortest._merge=='right_only') & ((fortest.legacy_yn=='1')|(fortest.redcap_event_name.isin(legacyarms)))]\n",
    "#remove the TEST subjects -- probably better to do this first, but sigh.\n",
    "ft=ft.loc[~((ft['subject_id']=='')|(ft['subject_id'].str.upper().str.contains('TEST')))]\n",
    "qlist1=pd.DataFrame()\n",
    "if not ft.empty:\n",
    "    ft['reason']='Subject found in AABC REDCap Database with legacy indications whose ID was not found in HCP-A list'\n",
    "    ft['issueCode']='AE1001'\n",
    "    ft['datatype']='REDCap'\n",
    "    ft['code']='RED'\n",
    "    qlist1=ft[['study_id','subject_id', 'redcap_event_name', 'site','reason','code','v0_date','datatype']]\n",
    "    for s in list(ft['subject_id'].unique()):\n",
    "        print('CODE RED :',s,': Subject found in AABC REDCap Database with legacy indications whose ID was not found in HCP-A list')\n",
    "\n",
    "#2nd batch of flags: if legacy v1 and enrolled as if v3 or v4 or legacy v2 and enrolled v4\n",
    "ft2=fortest.loc[(fortest._merge=='both') & ((fortest.legacy_yn != '1')|(~(fortest.redcap_event_name.isin(legacyarms))))]\n",
    "qlist2=pd.DataFrame()\n",
    "if not ft2.empty:\n",
    "    ft2['reason']='Subject found in AABC REDCap Database with legacy indications whose ID was not found in HCP-A list'\n",
    "    ft2['code']='RED'\n",
    "    ft2['issueCode'] = 'AE1001'\n",
    "    ft2['datatype']='REDCap'\n",
    "    qlist2 = ft2[['study_id','subject_id', 'redcap_event_name', 'site','reason','code','v0_date','datatype']]\n",
    "    for s2 in list(ft2['subject_id'].unique()):\n",
    "        print('CODE RED :',s2,': Subject found in AABC REDCap Database with an ID from HCP-A study but no legacyYN not checked')\n",
    "\n"
   ]
  },
  {
   "cell_type": "code",
   "execution_count": null,
   "id": "30ae41c5",
   "metadata": {},
   "outputs": [],
   "source": [
    "#THIS IS NOT DOING WHAT IT SAYS ITS DOING\n",
    "# Check if subject fail the screen but came in for visit\n",
    "#PASSEDSCREEN:  1, Yes | 0, No | 2, Hold - pending Cohort C\n",
    "\n",
    "#PRESTON'S DEFINITION \n",
    "pass_failed=aabcinvent.loc[(aabcinvent.passedscreen =='2') & (aabcinvent['subject_id'].astype(str).str.strip() != '')][['subject_id', 'study_id', 'redcap_event_name', 'site','v0_date']]\n",
    "qlist4=pd.DataFrame()\n",
    "if not pass_failed.empty:\n",
    "    pass_failed['reason']='subject did not pass screen but came in for imaging - need confirmation'\n",
    "    pass_failed['code']='RED'\n",
    "    pass_failed['issueCode'] = 'AE1001'\n",
    "    pass_failed['datatype']='REDCap'\n",
    "    qlist4 = pass_failed[['subject_id', 'study_id', 'redcap_event_name', 'site','reason','code','v0_date','datatype']]\n",
    "    for s4 in list(pass_failed[study_id].unique()):\n",
    "        print('CODE RED :',s4,': subject did not pass screen but came in for imaging - need confirmation')"
   ]
  },
  {
   "cell_type": "code",
   "execution_count": null,
   "id": "be63199b",
   "metadata": {},
   "outputs": [],
   "source": [
    "#if legacy v1 and enrolled as if v3 or v4 or legacy v2 and enrolled v4\n",
    "#get last visit\n",
    "hca_lastvisits[\"next_visit\"]=''\n",
    "#idvisits rolls out the subject ids to all visits. get subects current visit for comparison with last visit\n",
    "aabcidvisits=idvisits(aabcinvent,keepsies=['study_id','redcap_event_name','site','subject_id','v0_date','event_date'])\n",
    "sortaabc=aabcidvisits.sort_values(['study_id','redcap_event_name'])\n",
    "sortaabcv=sortaabc.loc[~(sortaabc.redcap_event_name.str.contains('register'))]\n",
    "sortaabcv.drop_duplicates(subset=['study_id'],keep='first')\n",
    "#print(\"OOOPSs:\",sortaabcv.loc[sortaabcv.subject.isin(v2oops)])\n",
    "#add 1 to last visit from HCA\n",
    "#also set up for checking to make sure not initiating same visit\n",
    "hca_lastvisits.next_visit=hca_lastvisits.redcap_event.str.replace('V','').astype('int') +1\n",
    "hca_lastvisits[\"next_visit2\"]=\"V\"+hca_lastvisits.next_visit.astype(str)\n",
    "hca_lastvisits2=hca_lastvisits.drop(columns=['redcap_event','next_visit'])"
   ]
  },
  {
   "cell_type": "code",
   "execution_count": null,
   "id": "c8520963",
   "metadata": {},
   "outputs": [],
   "source": [
    "#check that current visit in AABC is the last visit in HCA + 1\n",
    "check=pd.merge(hca_lastvisits2,sortaabcv,left_on=['subject','next_visit2'],right_on=['subject','redcap_event'],how='outer',indicator=True)\n",
    "check=check.loc[check._merge !='left_only']\n",
    "wrongvisit=check.loc[check._merge=='right_only']\n",
    "wrongvisit=wrongvisit.loc[~(wrongvisit.redcap_event.isin(['AP']))]#,'v1_inperson_arm_10','v1_inperson_arm_12']))]\n",
    "wrongvisit=wrongvisit.loc[wrongvisit.next_visit2.isnull()==False]"
   ]
  },
  {
   "cell_type": "code",
   "execution_count": null,
   "id": "cd042b8a",
   "metadata": {},
   "outputs": [],
   "source": [
    "qlist3=pd.DataFrame()\n",
    "if not wrongvisit.empty:\n",
    "    wrongvisit['reason']='Subject found in AABC REDCap Database initiating the wrong visit sequence (e.g. V3 insteady of V2'\n",
    "    wrongvisit['code']='RED'\n",
    "    wrongvisit['issueCode'] = 'AE1001'\n",
    "    wrongvisit['datatype']='REDCap'\n",
    "    qlist3 = wrongvisit[['subject', 'study_id', 'redcap_event_name', 'site','reason','code','v0_date','event_date','datatype']]\n",
    "    qlist3=qlist3.rename(columns={'subject':'subject_id'})\n",
    "    for s3 in list(wrongvisit['subject'].unique()):\n",
    "        if s3 !='':\n",
    "            print('CODE RED (if HCA6911778 ignore) :',s3,': Subject found in AABC REDCap Database initiating the wrong visit sequence (e.g. V3 insteady of V2')\n",
    "            qlist3=qlist3.loc[~(qlist3.subject_id=='HCA6911778')].copy()"
   ]
  },
  {
   "cell_type": "code",
   "execution_count": null,
   "id": "d7e8c9ee",
   "metadata": {},
   "outputs": [],
   "source": [
    "#check to make sure they aren't initiating the same visit.\n",
    "check2=pd.merge(hca_lastvisits[['subject','redcap_event']],sortaabcv,left_on=['subject','redcap_event'],right_on=['subject','redcap_event'],how='inner')\n",
    "check2=check2.loc[~(check2.subject.isin(v2oops))]\n",
    "qlist32=pd.DataFrame()\n",
    "if not check2.empty:\n",
    "    check2['reason']='Subject found in AABC REDCap Database initiating the wrong visit sequence (e.g. V3 insteady of V2'\n",
    "    check2['code']='RED'\n",
    "    check2['issueCode'] = 'AE1001'\n",
    "    check2['datatype']='REDCap'\n",
    "    qlist32 = check2[['subject', 'study_id', 'redcap_event_name', 'site','reason','code','v0_date','event_date','datatype']]\n",
    "    qlist32=qlist32.rename(columns={'subject':'subject_id'})\n",
    "    for s3 in list(check2['subject'].unique()):\n",
    "        if s3 !='':\n",
    "            print('CODE RED (if HCA6911778 ignore) :',s3,': Subject found in AABC REDCap Database initiating the wrong visit sequence (e.g. V3 insteady of V2')\n",
    "            qlist32=qlist32.loc[~(qlist32.subject_id=='HCA6911778')].copy()"
   ]
  },
  {
   "cell_type": "code",
   "execution_count": null,
   "id": "d4fd32f9",
   "metadata": {},
   "outputs": [],
   "source": [
    "#test subjects that need to be deleted\n",
    "tests=aabcinvent.loc[(aabcinvent['subject_id'].str.upper().str.contains('TEST')) | (aabcinvent['subject_id'].str.upper().str.contains('PRAC')) | (aabcinvent['subject_id'].str.upper().str.contains('DEMO'))][['study_id','subject_id','redcap_event_name']]\n",
    "qlist5=pd.DataFrame()\n",
    "if not tests.empty:\n",
    "    tests['reason']='HOUSEKEEPING : Please delete test subject.  Use test database when practicing'\n",
    "    tests['code']='HOUSEKEEPING'\n",
    "    tests['datatype']='REDCap'\n",
    "    tests['issueCode'] = 'AE6001'\n",
    "    qlist5 = tests[['subject_id', 'study_id', 'redcap_event_name', 'site','reason','code','v0_date','event_date','datatype']]\n",
    "    for s5 in list(tests['subject_id'].unique()):\n",
    "        print('HOUSEKEEPING : Please delete test subject:', s5)"
   ]
  },
  {
   "cell_type": "code",
   "execution_count": null,
   "id": "33c5de5a",
   "metadata": {},
   "outputs": [],
   "source": [
    "## End of CODE RED"
   ]
  },
  {
   "cell_type": "code",
   "execution_count": null,
   "id": "0bde1788",
   "metadata": {},
   "outputs": [],
   "source": [
    "\n",
    "#download the inventory report from AABC for comparison\n",
    "print(\"Connecting to REDCap\")\n",
    "aabcinvent=getframe(struct=aabcreport,api_url=config['Redcap']['api_url10']).drop(columns='dob')\n"
   ]
  },
  {
   "cell_type": "code",
   "execution_count": null,
   "id": "5e6cfd7c",
   "metadata": {},
   "outputs": [],
   "source": [
    "#aabcinvent.shape"
   ]
  },
  {
   "cell_type": "code",
   "execution_count": null,
   "id": "c6f94bf9",
   "metadata": {},
   "outputs": [],
   "source": [
    "### PPPPP\n",
    "#CLEAN UP OPTION FOR PRODUCING PLOTS BY VISIT instead of SUBJECT\n",
    "\n",
    "\n",
    "#api metadata\n",
    "#aabcarms = redjson(tok=secret.loc[secret.source=='aabcarms','api_key'].reset_index().drop(columns='index').api_key[0])\n",
    "#hcpa = redjson(tok=secret.loc[secret.source=='hcpa','api_key'].reset_index().drop(columns='index').api_key[0])\n",
    "\n",
    "#report deets\n",
    "#aabcreport = redreport(tok=secret.loc[secret.source=='aabcarms','api_key'].reset_index().drop(columns='index').api_key[0],reportid='51031')\n",
    "\n",
    "#download the inventory report from AABC\n",
    "#aabcinvent=getframe(struct=aabcreport,api_url=config['Redcap']['api_url10']).drop(columns='dob')\n",
    "#print(\"shape of inventory before filters or merges\",aabcinvent.shape)\n",
    "\n",
    "\n",
    "aabcinventbak=aabcinvent.copy()"
   ]
  },
  {
   "cell_type": "code",
   "execution_count": null,
   "id": "2dbd849d",
   "metadata": {},
   "outputs": [],
   "source": [
    "#aabcinventbak.redcap_event_name.value_counts()"
   ]
  },
  {
   "cell_type": "code",
   "execution_count": null,
   "id": "2482b843",
   "metadata": {},
   "outputs": [],
   "source": [
    "aabcinvent=aabcinventbak.copy()\n",
    "rollupvars=['subject_id','site','sex','ethnic','racial','croms_income','counterbalance_1st', 'passedscreen']\n",
    "rolldownvars=['withdrawal','withdrawal_pt_reason','withdraw_ptsite','withdraw_other','date_last_visit','date_pmnotify',\n",
    "'croms_stopinterven','croms_intervenstopreason','croms_stopstudy','croms_stopstudyreason']\n",
    "#roll up variables that only exist in registration so that you can produce stats by visits\n",
    "#righ to filter on empty study id or should we be filtering on registration?\n",
    "aabcinvent=aabcinvent.drop(columns=rollupvars).merge(aabcinvent.loc[aabcinvent['redcap_event_name'].str.contains('register')][['study_id']+rollupvars],on='study_id',how='left')\n",
    "aabcinvent=aabcinvent.drop(columns=rolldownvars).merge(aabcinvent.loc[aabcinvent['redcap_event_name'].str.contains('end_of_study')][['study_id']+rolldownvars],on='study_id',how='left')\n",
    "aabcenroll=aabcinvent.loc[(aabcinvent.redcap_event_name.str.contains('inperson'))].drop_duplicates(subset='study_id',keep='first')#.register_visit_complete.value_counts()\n",
    "#aabcenroll.register_visit_complete.value_counts()\n",
    "#aabcenroll.loc[~(aabcenroll.register_visit_complete=='0')].passedscreen.value_counts()\n",
    "\n",
    "\n",
    "#aabcenroll.loc[aabcenroll.passedscreen==''][['study_id','redcap_event_name','event_date','subject_id','site']]#,'register_visit_complete','passedscreen']]\n",
    "#aabcinvent=aabcinvent.drop(columns=rollupvars).merge(aabcinvent.loc[~(aabcinvent.subject_id =='')][['study_id']+rollupvars],on='study_id',how='left')\n",
    "#print(aabcinvent.shape)\n",
    "\n",
    "#print(\"double check shape of inventory before filters:\",aabcinvent.shape)\n",
    "#print(\"number of unique REDCap IDs:\",str(len(aabcinvent.study_id.unique())))\n",
    "#print(\"number of unique subjects before filters:\",str(len(aabcinvent.loc[~(aabcinvent.subject_id.str.strip()=='')].subject_id.unique())))\n",
    "\n"
   ]
  },
  {
   "cell_type": "code",
   "execution_count": null,
   "id": "e701c5b7",
   "metadata": {},
   "outputs": [],
   "source": [
    "#passed screen \n",
    "aabcinventpass = aabcinvent.loc[aabcinvent.passedscreen.isin(['1','2'])]# == '1'] \n",
    "#print(\"shape of inventory passed screen\",aabcinventpass.shape)\n",
    "print(\"shape of regsitrations passed screen\",aabcinventpass.loc[aabcinventpass['redcap_event_name'].str.contains('register')].shape)"
   ]
  },
  {
   "cell_type": "code",
   "execution_count": null,
   "id": "77ed633a",
   "metadata": {},
   "outputs": [],
   "source": [
    "aabcinventpass.loc[(aabcinventpass.redcap_event_name.str.contains('inperson'))].register_visit_complete.value_counts()\n",
    "\n",
    "aabcinventpass.loc[(aabcinventpass.passedscreen=='1') & (aabcinventpass.redcap_event_name.str.contains('inperson'))]\n",
    "x=aabcinventpass.loc[(aabcinventpass.passedscreen=='1') & (aabcinventpass.redcap_event_name.str.contains('inperson'))]\n",
    "y=x.drop_duplicates(subset='study_id',keep='first').copy()\n",
    "#x.head()\n",
    "#list(x.columns)\n",
    "#print(x.shape)\n",
    "#aabcinventpass.loc[(aabcinventpass.passedscreen!='1') & (aabcinventpass.event_date.isnull()==False)]"
   ]
  },
  {
   "cell_type": "code",
   "execution_count": null,
   "id": "c55e6e0f",
   "metadata": {},
   "outputs": [],
   "source": [
    "\n",
    "## Define the date range\n",
    "#start_date = '2023-09-01'\n",
    "##end_date = '2025-01-15'\n",
    "#print(x.shape)\n",
    "## Filter rows with event_date in the specified range\n",
    "#filtered_x = x[(x['event_date'] >= start_date) & (x['event_date'] <= end_date)]\n",
    "#filtered_x=filtered_x[['subject_id','event_date','redcap_event','Site']].sort_values(['subject_id','event_date']).copy()\n",
    "#print(filtered_x.shape)\n",
    "#filtered_x.redcap_event.value_counts()\n",
    "#pd.crosstab(filtered_x.redcap_event,filtered_x.Site,margins=True)\n",
    "## Count rows for each subject_id\n",
    "##result_df = filtered_x.groupby('subject_id').size().reset_index(name='count')\n",
    "##print(result_df.shape)\n",
    "##result_df.columns=['subject_id','visits']\n",
    "##result_df.head()\n",
    "##result_df.visits.value_counts()"
   ]
  },
  {
   "cell_type": "code",
   "execution_count": null,
   "id": "df94ec32",
   "metadata": {},
   "outputs": [],
   "source": [
    "#aabcinventpass.loc[(aabcinventpass.register_visit_complete=='2')].drop_duplicates(subset='study_id')# & (aabcinventpass.redcap_event_name.str.contains('inperson'))].drop_duplicates(subset='study_id')"
   ]
  },
  {
   "cell_type": "code",
   "execution_count": null,
   "id": "ad0993f5",
   "metadata": {},
   "outputs": [],
   "source": [
    "aabcinvent=aabcinventpass.copy()\n",
    "aabcinvent['todaydate']=date.today()\n",
    "#BAD formula:\n",
    "#aabcinvent['dayspassed']=(pd.to_datetime(aabcinvent.todaydate) - pd.to_datetime(aabcinvent.event_date)).dt.days\n",
    "\n",
    "#GOOD FORMULA:\n",
    "aabcinvent['dayspassed']=(pd.to_datetime(aabcinvent.event_date)- pd.to_datetime('05/22/2022')).dt.days\n",
    "aabcinvent=aabcinvent.sort_values('dayspassed')\n",
    "#aabcinvent.to_csv('test.csv')\n",
    "#print('data shape: ', str(aabcinvent.shape))\n",
    "##print('selecting visits with completed registration (indicates they actually came in)')\n",
    "#accrued=aabcinvent.loc[(aabcinvent.register_visit_complete=='2') & (aabcinvent.redcap_event_name.str.contains('inperson'))]\n",
    "accrued = aabcinvent.loc[aabcinvent.redcap_event_name.str.contains('inperson')].drop_duplicates(subset='subject_id', keep='first')\n",
    "\n",
    "#print('select first in-person visit: ', str(accrued.shape))\n",
    "accrued = accrued.loc[accrued.register_visit_complete == '2'] \n",
    "#print('select visits with completed registration: ', str(accrued.shape))\n",
    "#print('now the shape of the data is:',str(accrued.shape))\n",
    "\n",
    "#uncomment if you want to get the event counts\n",
    "#print(accrued.redcap_event_name.value_counts())\n",
    "#accrued.loc[accrued.redcap_event_name.str.contains('v4')]"
   ]
  },
  {
   "cell_type": "code",
   "execution_count": null,
   "id": "3d752ad9",
   "metadata": {},
   "outputs": [],
   "source": [
    "print(\"Total number of unique subjects now:\",str(len(accrued.subject_id.unique())))"
   ]
  },
  {
   "cell_type": "code",
   "execution_count": null,
   "id": "700d5da9",
   "metadata": {},
   "outputs": [],
   "source": [
    "#THIS NO LONGER Necessary, but keeping just in case:\n",
    "#DNR = [\"HCA7787304_V1\", \"HCA6276071_V1\", \"HCA6229365_V1\", \"HCA9191078_V1\", \"HCA6863086_V1\"]\n",
    "##These guys accidentally recruited as V2\n",
    "#v2oops=['HCA6686191','HCA7296183']\n",
    "\n",
    "#droplist=['HCA7787304','HCA7142156','HCA6863086','HCA6276071','HCA6229365','HCA9191078']\n",
    "#droplist=['HCA7787304','HCA7142156','HCA6863086','HCA6276071','HCA6229365','HCA9191078', 'HCA8743995','HCA62276071',\n",
    "#          'HCA6418974', 'HCA9841899', 'HCA6298788', 'HCA9515381']\n",
    "#accruedclean=accrued.loc[~(accrued.subject_id.isin(droplist))]\n",
    "#accruedclean=accruedclean.loc[~(accruedclean.passedscreen.isna())]\n",
    "#print('drop any stragglers that failed screening or withdrew')\n",
    "#print(accruedclean.shape)\n",
    "\n",
    "#select subjects visit before Oct 1\n",
    "#accruedclean = accruedclean[accruedclean['event_date'] < '2024-10-01']\n",
    "#print(accruedclean.shape)\n",
    "\n",
    "#forplot=accruedclean.copy()\n",
    "forplot=accrued.copy()\n",
    "#use age at visit (age_visit) instead of age at baseline (age).\n",
    "forplot=forplot.drop(columns=['age']).rename(columns={'age_visit':'age'})\n",
    "#print(list(forplot.columns))\n"
   ]
  },
  {
   "cell_type": "code",
   "execution_count": null,
   "id": "0cc15e7a",
   "metadata": {},
   "outputs": [],
   "source": [
    "print(forplot.shape)\n",
    "print(\"drop the grifter\")\n",
    "forplot=forplot.loc[~(forplot.subject_id=='HCA6539885')]\n",
    "forplot.shape"
   ]
  },
  {
   "cell_type": "code",
   "execution_count": null,
   "id": "d9e78f70",
   "metadata": {},
   "outputs": [],
   "source": [
    "forplot.event_date\n",
    "#jan14 = forplot.loc[forplot.event_date < '2025-01-15']['subject_id'].unique()\n",
    "#jan15 = forplot.loc[forplot.event_date <= '2025-01-15']['subject_id'].unique()\n",
    "#diff = [i for i in jan15 if i not in jan14]\n",
    "#diff\n",
    "#'HCA6539885 is grifter '\n",
    "may2025 =forplot.loc[(forplot.event_date <= '2025-04-30') | (~(forplot.subject_id=='HCA6539885'))]\n",
    "print(len(may2025.subject_id.unique()))\n",
    "apr2025 =forplot.loc[(forplot.event_date <= '2025-03-31') & (~(forplot.subject_id=='HCA6539885'))]\n",
    "print(len(apr2025.subject_id.unique()))"
   ]
  },
  {
   "cell_type": "code",
   "execution_count": null,
   "id": "231461a8",
   "metadata": {},
   "outputs": [],
   "source": [
    "#PREPARE DATA FOR CUMULATIVE PLOTS  \n",
    "S=pd.get_dummies(forplot.sex, prefix='sex')\n",
    "\n",
    "#forplot['sexsum']=pd.to_numeric(forplot.sex, errors='coerce').cumsum()\n",
    "forplot['malesum']=pd.to_numeric(S.sex_1, errors='coerce').cumsum()\n",
    "forplot['femalesum']=pd.to_numeric(S.sex_2, errors='coerce').cumsum()\n",
    "forplot['Sex']=forplot.sex.replace({'1':'Male','2':'Female'})\n",
    "\n",
    "S0=pd.get_dummies(forplot.counterbalance_1st, prefix='CB')\n",
    "forplot['CB3sum']=pd.to_numeric(S0.CB_3, errors='coerce').cumsum()\n",
    "forplot['CB4sum']=pd.to_numeric(S0.CB_4, errors='coerce').cumsum()\n",
    "forplot['Counterbalance']=forplot.counterbalance_1st.replace({'3':'CB3','4':'CB4'})\n",
    "\n",
    "#forplot[['subject_id','dayspassed','malesum','femalesum','Sex']].head(20)"
   ]
  },
  {
   "cell_type": "code",
   "execution_count": null,
   "id": "dfc476a3",
   "metadata": {},
   "outputs": [],
   "source": [
    "#forplot.redcap_event_name.value_counts()\n",
    "forplot['Cohort']=''\n",
    "forplot.loc[(forplot.redcap_event_name.str.contains(\"arm_1\")) | (forplot.redcap_event_name.str.contains(\"arm_2\")) |(forplot.redcap_event_name.str.contains(\"arm_3\")) |(forplot.redcap_event_name.str.contains(\"arm_4\")) ,'Cohort']='A'\n",
    "forplot.loc[(forplot.redcap_event_name.str.contains(\"arm_5\")) | (forplot.redcap_event_name.str.contains(\"arm_6\")) |(forplot.redcap_event_name.str.contains(\"arm_7\")) |(forplot.redcap_event_name.str.contains(\"arm_8\")) ,'Cohort']='B'\n",
    "forplot.loc[(forplot.redcap_event_name.str.contains(\"arm_9\")) | (forplot.redcap_event_name.str.contains(\"arm_10\")) |(forplot.redcap_event_name.str.contains(\"arm_11\")) |(forplot.redcap_event_name.str.contains(\"arm_12\")) ,'Cohort']='New'\n",
    "#forplot.Cohort"
   ]
  },
  {
   "cell_type": "code",
   "execution_count": null,
   "id": "bb607d10",
   "metadata": {},
   "outputs": [],
   "source": [
    "forplot.subject_id\n",
    "forplotbak=forplot.copy()"
   ]
  },
  {
   "cell_type": "code",
   "execution_count": null,
   "id": "e1f4c57f",
   "metadata": {},
   "outputs": [],
   "source": [
    "#1, Native American/Alaskan Native | 2, Asian | 3, Black or African American | 4, Native Hawaiian or Other Pacific Is | 5, White | 6, More than one race | 99, Unknown or Not reported\n",
    "S2=pd.get_dummies(forplot.racial, prefix='race')\n",
    "#print(S2.head())\n",
    "forplot['whitesum']=pd.to_numeric(S2.race_5, errors='coerce').cumsum()\n",
    "#forplot['natpacsum']=pd.to_numeric(S2.race_4, errors='coerce').cumsum()\n",
    "forplot['blacksum']=pd.to_numeric(S2.race_3, errors='coerce').cumsum()\n",
    "forplot['asiansum']=pd.to_numeric(S2.race_2, errors='coerce').cumsum()\n",
    "forplot['natamersum']=pd.to_numeric(S2.race_1, errors='coerce').cumsum()\n",
    "forplot['moret1sum']=pd.to_numeric(S2.race_6, errors='coerce').cumsum()\n",
    "forplot['nasum']=pd.to_numeric(S2.race_99, errors='coerce').cumsum()\n",
    "forplot['Race']=forplot.racial.replace({'1':'Nat Amer/Alaskan','2':'Asian','3':'Black','4':'Nat Hawaiian/PI','5':'White','6':'More than one','99':'Unknown'})\n",
    "\n",
    "#thnicity\n",
    "S3=pd.get_dummies(forplot.ethnic, prefix='ethnicity')\n",
    "forplot['hispanicsum']=pd.to_numeric(S3.ethnicity_1, errors='coerce').cumsum()\n",
    "forplot['nonhispanicsum']=pd.to_numeric(S3.ethnicity_2, errors='coerce').cumsum()\n",
    "forplot['unkhispsum']=pd.to_numeric(S3.ethnicity_3, errors='coerce').cumsum()\n",
    "forplot['Ethnicity']=forplot.ethnic.replace({'1':'Hispanic','2':'Non-Hispanic','3':'Unknown'})\n",
    "\n",
    "#sites\n",
    "S4=pd.get_dummies(forplot.site, prefix='site')\n",
    "forplot['wusum']=pd.to_numeric(S4.site_4, errors='coerce').cumsum()\n",
    "forplot['umnsum']=pd.to_numeric(S4.site_3, errors='coerce').cumsum()\n",
    "forplot['mghsum']=pd.to_numeric(S4.site_1, errors='coerce').cumsum()\n",
    "forplot['uclasum']=pd.to_numeric(S4.site_2, errors='coerce').cumsum()\n",
    "forplot['Site']=forplot.site.replace({'1':'MGH','2':'UCLA','3':'UMN','4':'WashU'})\n",
    "\n"
   ]
  },
  {
   "cell_type": "code",
   "execution_count": null,
   "id": "e870470c",
   "metadata": {},
   "outputs": [],
   "source": [
    "                               \n",
    "##ages\n",
    "bins= [30,40,50,60,70,80,90,125]\n",
    "\n",
    "forplot['ages']=pd.to_numeric(forplot.age)\n",
    "forplot['AgeGroup'] = pd.cut(forplot['ages'], bins=bins,right=False)# labels=labels,\n",
    "S5=pd.get_dummies(forplot.AgeGroup, prefix='age')\n",
    "\n",
    "forplot['age30sum']=pd.to_numeric(S5['age_[30, 40)'], errors='coerce').cumsum()\n",
    "forplot['age40sum']=pd.to_numeric(S5['age_[40, 50)'], errors='coerce').cumsum()\n",
    "forplot['age50sum']=pd.to_numeric(S5['age_[50, 60)'], errors='coerce').cumsum()\n",
    "forplot['age60sum']=pd.to_numeric(S5['age_[60, 70)'], errors='coerce').cumsum()\n",
    "forplot['age70sum']=pd.to_numeric(S5['age_[70, 80)'], errors='coerce').cumsum()\n",
    "forplot['age80sum']=pd.to_numeric(S5['age_[80, 90)'], errors='coerce').cumsum()\n",
    "forplot['age90sum']=pd.to_numeric(S5['age_[90, 125)'],errors='coerce').cumsum()"
   ]
  },
  {
   "cell_type": "code",
   "execution_count": null,
   "id": "ebb3a5b6",
   "metadata": {},
   "outputs": [],
   "source": [
    "bins5= [35,40,45,50,55,60,65,70,75,80,85,90,125]\n",
    "\n",
    "forplot['AgeGroup5'] = pd.cut(forplot['ages'], bins=bins5,right=False)# labels=labels,\n",
    "S55=pd.get_dummies(forplot.AgeGroup5, prefix='age5')\n",
    "\n",
    "forplot['age35sum5']=pd.to_numeric(S55['age5_[35, 40)'], errors='coerce').cumsum()\n",
    "forplot['age40sum5']=pd.to_numeric(S55['age5_[40, 45)'], errors='coerce').cumsum()\n",
    "forplot['age45sum5']=pd.to_numeric(S55['age5_[45, 50)'], errors='coerce').cumsum()\n",
    "forplot['age50sum5']=pd.to_numeric(S55['age5_[50, 55)'], errors='coerce').cumsum()\n",
    "forplot['age55sum5']=pd.to_numeric(S55['age5_[55, 60)'], errors='coerce').cumsum()\n",
    "forplot['age60sum5']=pd.to_numeric(S55['age5_[60, 65)'], errors='coerce').cumsum()\n",
    "forplot['age65sum5']=pd.to_numeric(S55['age5_[65, 70)'], errors='coerce').cumsum()\n",
    "forplot['age70sum5']=pd.to_numeric(S55['age5_[70, 75)'], errors='coerce').cumsum()\n",
    "forplot['age75sum5']=pd.to_numeric(S55['age5_[75, 80)'],errors='coerce').cumsum()\n",
    "forplot['age80sum5']=pd.to_numeric(S55['age5_[80, 85)'],errors='coerce').cumsum()\n",
    "forplot['age85sum5']=pd.to_numeric(S55['age5_[85, 90)'],errors='coerce').cumsum()\n",
    "forplot['age90sum5']=pd.to_numeric(S55['age5_[90, 125)'],errors='coerce').cumsum()\n",
    "\n",
    "#forplot.subject_id"
   ]
  },
  {
   "cell_type": "code",
   "execution_count": null,
   "id": "f184df73",
   "metadata": {},
   "outputs": [],
   "source": [
    "##ages\n",
    "bins60= [0,60,125]\n",
    "\n",
    "forplot['AgeGroup60'] = pd.cut(forplot['ages'], bins=bins60,right=False)# labels=labels,\n",
    "S60=pd.get_dummies(forplot.AgeGroup60, prefix='age60')\n",
    "\n",
    "forplot['age1sum60']=pd.to_numeric(S60['age60_[0, 60)'], errors='coerce').cumsum()\n",
    "forplot['age2sum60']=pd.to_numeric(S60['age60_[60, 125)'],errors='coerce').cumsum()"
   ]
  },
  {
   "cell_type": "code",
   "execution_count": null,
   "id": "a5a72692",
   "metadata": {},
   "outputs": [],
   "source": [
    "print(forplot.shape)\n",
    "len(forplot.subject_id.unique())"
   ]
  },
  {
   "cell_type": "code",
   "execution_count": null,
   "id": "37527f2e",
   "metadata": {},
   "outputs": [],
   "source": [
    "##need to omit this until pull request is finished\n",
    "## croms income\n",
    "\n",
    "#bins_income= [0,20000,50000,100000, np.inf]\n",
    "#labels_income = ['0-20k', '20k-50k', '50k-100k', '100k+']\n",
    "\n",
    "#forplot['income']=pd.to_numeric(forplot.croms_income)\n",
    "#forplot['IncomeGroup'] = pd.cut(forplot['income'], bins=bins_income,labels=labels_income,right=False)# labels=labels,\n",
    "#forplot['IncomeGroup'] = forplot['IncomeGroup'].cat.add_categories('Don\\'t know').fillna('Don\\'t know')\n",
    "\n",
    "#S6=pd.get_dummies(forplot.IncomeGroup, prefix='income')\n"
   ]
  },
  {
   "cell_type": "code",
   "execution_count": null,
   "id": "2c6011cb",
   "metadata": {},
   "outputs": [],
   "source": [
    "## education level\n",
    "bins_edu = [0, 13, 15, 77, np.inf]\n",
    "labels_edu = ['Below Highschool', 'Highschool or GED', 'Above Highschool or GED', 'Refused or do not know']\n",
    "\n",
    "forplot['moca_edu']=pd.to_numeric(forplot.moca_edu)\n",
    "forplot['EduGroup'] = pd.cut(forplot['moca_edu'], bins=bins_edu,labels=labels_edu,right=False)# labels=labels,\n",
    "forplot['EduGroup'] = forplot['EduGroup'].cat.add_categories('Don\\'t know').fillna('Don\\'t know')\n",
    "S6=pd.get_dummies(forplot.EduGroup, prefix='moca_edu')"
   ]
  },
  {
   "cell_type": "markdown",
   "id": "776cefbb",
   "metadata": {},
   "source": [
    "## ALL participants accrued in AABC, by cohort (subjects, not visits)"
   ]
  },
  {
   "cell_type": "code",
   "execution_count": null,
   "id": "baa002ec",
   "metadata": {},
   "outputs": [],
   "source": []
  },
  {
   "cell_type": "code",
   "execution_count": null,
   "id": "4788671a",
   "metadata": {},
   "outputs": [],
   "source": [
    "## Cohort x sex\n",
    "pd.crosstab(forplot.Cohort,forplot.Sex,margins=True)#.plot.bar(rot=45,title='AABC')"
   ]
  },
  {
   "cell_type": "code",
   "execution_count": null,
   "id": "ab82c39b",
   "metadata": {},
   "outputs": [],
   "source": [
    "#Cohort x Age\n",
    "pd.crosstab(forplot.Cohort,forplot.AgeGroup5,margins=True)#.plot.bar(rot=45,title='AABC')"
   ]
  },
  {
   "cell_type": "code",
   "execution_count": null,
   "id": "01a171fe",
   "metadata": {},
   "outputs": [],
   "source": [
    "## Cohort x race\n",
    "pd.crosstab(forplot.Cohort,forplot.Race,margins=True)#.plot.bar(rot=45,title='AABC')"
   ]
  },
  {
   "cell_type": "code",
   "execution_count": null,
   "id": "0410afd2",
   "metadata": {},
   "outputs": [],
   "source": [
    "## Cohort x ethnicity\n",
    "pd.crosstab(forplot.Cohort,forplot.Ethnicity,margins=True)#.plot.bar(rot=45,title='AABC')"
   ]
  },
  {
   "cell_type": "code",
   "execution_count": null,
   "id": "a0afe7e8",
   "metadata": {},
   "outputs": [],
   "source": [
    "# need to omit this until pull request is finished\n",
    "#Cohort x Income\n",
    "#pd.crosstab(forplot.Cohort,forplot.IncomeGroup,margins=True)#.plot.bar(rot=45,title='AABC')"
   ]
  },
  {
   "cell_type": "code",
   "execution_count": null,
   "id": "afbab34a",
   "metadata": {},
   "outputs": [],
   "source": [
    "#Cohort x Education\n",
    "pd.crosstab(forplot.Cohort,forplot.EduGroup,margins=True)#.plot.bar(rot=45,title='AABC')"
   ]
  },
  {
   "cell_type": "markdown",
   "id": "c2aea68c",
   "metadata": {},
   "source": [
    "\n",
    "\n",
    "### AABC Female participants, by age and cohort"
   ]
  },
  {
   "cell_type": "code",
   "execution_count": null,
   "id": "3c1bfb6d",
   "metadata": {},
   "outputs": [],
   "source": [
    "#make a table by cohort, 5-year age\n",
    "#FeMALES\n",
    "females=forplot.loc[forplot.Sex=='Female'].copy()\n",
    "pd.crosstab(females.Cohort,females.AgeGroup5,margins=True)#.plot.bar(rot=45,title='AABC')"
   ]
  },
  {
   "cell_type": "markdown",
   "id": "c12d6fbf",
   "metadata": {},
   "source": [
    "### AABC Male participants, by age and cohort "
   ]
  },
  {
   "cell_type": "code",
   "execution_count": null,
   "id": "f35597ea",
   "metadata": {},
   "outputs": [],
   "source": [
    "#make a table by cohort, 5-year age\n",
    "males=forplot.loc[forplot.Sex=='Male'].copy()\n",
    "pd.crosstab(males.Cohort,males.AgeGroup5,margins=True)#.plot.bar(rot=45,title='AABC')"
   ]
  },
  {
   "cell_type": "markdown",
   "id": "36b63dcf",
   "metadata": {},
   "source": [
    "### AABC Female participants, by race and cohort"
   ]
  },
  {
   "cell_type": "code",
   "execution_count": null,
   "id": "74f7b94a",
   "metadata": {},
   "outputs": [],
   "source": [
    "#make a table by cohort, race\n",
    "#FeMALES\n",
    "females=forplot.loc[forplot.Sex=='Female'].copy()\n",
    "pd.crosstab(females.Cohort,females.Race,margins=True)#.plot.bar(rot=45,title='AABC')"
   ]
  },
  {
   "cell_type": "markdown",
   "id": "95a6780f",
   "metadata": {},
   "source": [
    "### AABC Male participants, by race and cohort "
   ]
  },
  {
   "cell_type": "code",
   "execution_count": null,
   "id": "551ef1d2",
   "metadata": {},
   "outputs": [],
   "source": [
    "#make a table by cohort, race\n",
    "#FeMALES\n",
    "males=forplot.loc[forplot.Sex=='Male'].copy()\n",
    "pd.crosstab(males.Cohort,males.Race,margins=True)#.plot.bar(rot=45,title='AABC')"
   ]
  },
  {
   "cell_type": "markdown",
   "id": "5b8e56fc",
   "metadata": {},
   "source": [
    "### AABC Female participants, by ethnicity and cohort"
   ]
  },
  {
   "cell_type": "code",
   "execution_count": null,
   "id": "39c4e77a",
   "metadata": {},
   "outputs": [],
   "source": [
    "#make a table by cohort, ethnicity\n",
    "#FeMALES\n",
    "females=forplot.loc[forplot.Sex=='Female'].copy()\n",
    "pd.crosstab(females.Cohort,females.Ethnicity,margins=True)#.plot.bar(rot=45,title='AABC')"
   ]
  },
  {
   "cell_type": "markdown",
   "id": "bb8eb521",
   "metadata": {},
   "source": [
    "### AABC Male participants, by ethnicity and cohort"
   ]
  },
  {
   "cell_type": "code",
   "execution_count": null,
   "id": "0afed0ec",
   "metadata": {},
   "outputs": [],
   "source": [
    "#make a table by cohort, ethnicity\n",
    "#FeMALES\n",
    "males=forplot.loc[forplot.Sex=='Male'].copy()\n",
    "pd.crosstab(males.Cohort,males.Ethnicity,margins=True)#.plot.bar(rot=45,title='AABC')"
   ]
  },
  {
   "cell_type": "code",
   "execution_count": null,
   "id": "cc8afdac",
   "metadata": {},
   "outputs": [],
   "source": [
    "## Project 3 crosstabs, Females 40-60 - move to separate report"
   ]
  },
  {
   "cell_type": "code",
   "execution_count": null,
   "id": "b77acee7",
   "metadata": {},
   "outputs": [],
   "source": [
    "#Proj3=forplot[['Cohort','Sex','Race','Ethnicity','age','Site','AgeGroup5']].loc[(forplot.age.astype('float64')>=40) & (forplot.age.astype('float64')<=60) & (forplot.Sex=='Female')].copy()\n",
    "#pd.crosstab(Proj3.Cohort,Proj3.Race,margins=True)#.plot.bar(rot=45,title='AABC')"
   ]
  },
  {
   "cell_type": "code",
   "execution_count": null,
   "id": "19a9e43c",
   "metadata": {},
   "outputs": [],
   "source": [
    "#pd.crosstab(Proj3.Cohort,Proj3.Ethnicity,margins=True)#.plot.bar(rot=45,title='AABC')"
   ]
  },
  {
   "cell_type": "code",
   "execution_count": null,
   "id": "2f1fa420",
   "metadata": {},
   "outputs": [],
   "source": [
    "#pd.crosstab(Proj3.Cohort,Proj3.AgeGroup5,margins=True)#.plot.bar(rot=45,title='AABC')"
   ]
  },
  {
   "cell_type": "code",
   "execution_count": null,
   "id": "1d719284",
   "metadata": {},
   "outputs": [],
   "source": [
    "#pd.crosstab(Proj3.Site,Proj3.AgeGroup5,margins=True)"
   ]
  },
  {
   "cell_type": "code",
   "execution_count": null,
   "id": "765c2ed8",
   "metadata": {},
   "outputs": [],
   "source": [
    "#pd.crosstab(Proj3.Race,Proj3.AgeGroup5,margins=True)"
   ]
  },
  {
   "cell_type": "markdown",
   "id": "bcd1e3c0",
   "metadata": {},
   "source": [
    "## Accrued AABC site stats, by cohort"
   ]
  },
  {
   "cell_type": "markdown",
   "id": "2f262ebd",
   "metadata": {},
   "source": [
    "### MGH"
   ]
  },
  {
   "cell_type": "code",
   "execution_count": null,
   "id": "e6793695",
   "metadata": {},
   "outputs": [],
   "source": [
    "#make a table by cohort, sex\n",
    "mgh=forplot.loc[forplot.Site=='MGH'].copy()\n",
    "pd.crosstab(mgh.Cohort,mgh.Sex,margins=True)#.plot.bar(rot=45,title='AABC')"
   ]
  },
  {
   "cell_type": "code",
   "execution_count": null,
   "id": "3f11d882",
   "metadata": {},
   "outputs": [],
   "source": [
    "#make a table by cohort, 5-year age\n",
    "#print(\"*******************\")\n",
    "#print(\"**** MGH ONLY *****\")\n",
    "mgh=forplot.loc[forplot.Site=='MGH'].copy()\n",
    "pd.crosstab(mgh.Cohort,mgh.AgeGroup5,margins=True)#.plot.bar(rot=45,title='AABC')"
   ]
  },
  {
   "cell_type": "code",
   "execution_count": null,
   "id": "ed901a12",
   "metadata": {},
   "outputs": [],
   "source": [
    "#make a table by cohort, race\n",
    "mgh=forplot.loc[forplot.Site=='MGH'].copy()\n",
    "pd.crosstab(mgh.Cohort,mgh.Race,margins=True)#.plot.bar(rot=45,title='AABC')"
   ]
  },
  {
   "cell_type": "code",
   "execution_count": null,
   "id": "8c81e3a3",
   "metadata": {},
   "outputs": [],
   "source": [
    "#make a table by cohort, ethnicity\n",
    "mgh=forplot.loc[forplot.Site=='MGH'].copy()\n",
    "pd.crosstab(mgh.Cohort,mgh.Ethnicity,margins=True)#.plot.bar(rot=45,title='AABC')"
   ]
  },
  {
   "cell_type": "markdown",
   "id": "1f248648",
   "metadata": {},
   "source": [
    "### UCLA"
   ]
  },
  {
   "cell_type": "code",
   "execution_count": null,
   "id": "a1ccec9c",
   "metadata": {},
   "outputs": [],
   "source": [
    "#make a table by cohort, sex\n",
    "ucla=forplot.loc[forplot.Site=='UCLA'].copy()\n",
    "pd.crosstab(ucla.Cohort,ucla.Sex,margins=True)#.plot.bar(rot=45,title='AABC')"
   ]
  },
  {
   "cell_type": "code",
   "execution_count": null,
   "id": "893d6f89",
   "metadata": {},
   "outputs": [],
   "source": [
    "#make a table by cohort, 5-year age\n",
    "#print(\"*******************\")\n",
    "#print(\"**** UCLA ONLY *****\")\n",
    "ucla=forplot.loc[forplot.Site=='UCLA'].copy()\n",
    "pd.crosstab(ucla.Cohort,ucla.AgeGroup5,margins=True)#.plot.bar(rot=45,title='AABC')"
   ]
  },
  {
   "cell_type": "code",
   "execution_count": null,
   "id": "9b5b3d0b",
   "metadata": {},
   "outputs": [],
   "source": [
    "#make a table by cohort, race\n",
    "ucla=forplot.loc[forplot.Site=='UCLA'].copy()\n",
    "pd.crosstab(ucla.Cohort,ucla.Race,margins=True)#.plot.bar(rot=45,title='AABC')"
   ]
  },
  {
   "cell_type": "code",
   "execution_count": null,
   "id": "679770c3",
   "metadata": {},
   "outputs": [],
   "source": [
    "#make a table by cohort, ethnicity\n",
    "ucla=forplot.loc[forplot.Site=='UCLA'].copy()\n",
    "pd.crosstab(ucla.Cohort,ucla.Ethnicity,margins=True)#.plot.bar(rot=45,title='AABC')"
   ]
  },
  {
   "cell_type": "markdown",
   "id": "7c90548d",
   "metadata": {},
   "source": [
    "### WashU"
   ]
  },
  {
   "cell_type": "code",
   "execution_count": null,
   "id": "53ca66b0",
   "metadata": {},
   "outputs": [],
   "source": [
    "#make a table by cohort, sex\n",
    "wu=forplot.loc[forplot.Site=='WashU'].copy()\n",
    "pd.crosstab(wu.Cohort,wu.Sex,margins=True)#.plot.bar(rot=45,title='AABC')"
   ]
  },
  {
   "cell_type": "code",
   "execution_count": null,
   "id": "7c6f4b6c",
   "metadata": {},
   "outputs": [],
   "source": [
    "#print(\"*******************\")\n",
    "#print(\"**** WU ONLY *****\")\n",
    "wu=forplot.loc[forplot.Site=='WashU'].copy()\n",
    "pd.crosstab(wu.Cohort,wu.AgeGroup5,margins=True)#.plot.bar(rot=45,title='AABC')"
   ]
  },
  {
   "cell_type": "code",
   "execution_count": null,
   "id": "fff2b9d9",
   "metadata": {},
   "outputs": [],
   "source": [
    "#make a table by cohort, race\n",
    "wu=forplot.loc[forplot.Site=='WashU'].copy()\n",
    "pd.crosstab(wu.Cohort,wu.Race,margins=True)#.plot.bar(rot=45,title='AABC')"
   ]
  },
  {
   "cell_type": "code",
   "execution_count": null,
   "id": "845ca442",
   "metadata": {},
   "outputs": [],
   "source": [
    "#make a table by cohort, ethnicity\n",
    "wu=forplot.loc[forplot.Site=='WashU'].copy()\n",
    "pd.crosstab(wu.Cohort,wu.Ethnicity,margins=True)#.plot.bar(rot=45,title='AABC')"
   ]
  },
  {
   "cell_type": "markdown",
   "id": "c6eddc55",
   "metadata": {},
   "source": [
    "### UMN"
   ]
  },
  {
   "cell_type": "code",
   "execution_count": null,
   "id": "a89c768c",
   "metadata": {},
   "outputs": [],
   "source": [
    "#make a table by cohort, Sex\n",
    "umn=forplot.loc[forplot.Site=='UMN'].copy()\n",
    "pd.crosstab(umn.Cohort,umn.Sex,margins=True)#.plot.bar(rot=45,title='AABC')"
   ]
  },
  {
   "cell_type": "code",
   "execution_count": null,
   "id": "40bde6be",
   "metadata": {},
   "outputs": [],
   "source": [
    "umn=forplot.loc[forplot.Site=='UMN'].copy()\n",
    "pd.crosstab(umn.Cohort,umn.AgeGroup5,margins=True)#.plot.bar(rot=45,title='AABC')"
   ]
  },
  {
   "cell_type": "code",
   "execution_count": null,
   "id": "e4a0dbad",
   "metadata": {},
   "outputs": [],
   "source": [
    "#make a table by cohort, race\n",
    "umn=forplot.loc[forplot.Site=='UMN'].copy()\n",
    "pd.crosstab(umn.Cohort,umn.Race,margins=True)#.plot.bar(rot=45,title='AABC')"
   ]
  },
  {
   "cell_type": "code",
   "execution_count": null,
   "id": "bbf4999d",
   "metadata": {
    "scrolled": true
   },
   "outputs": [],
   "source": [
    "#make a table by cohort, ethnicity\n",
    "umn=forplot.loc[forplot.Site=='UMN'].copy()\n",
    "pd.crosstab(umn.Cohort,umn.Ethnicity,margins=True)#.plot.bar(rot=45,title='AABC')"
   ]
  },
  {
   "cell_type": "markdown",
   "id": "cae38243",
   "metadata": {},
   "source": [
    "## Section for date cutoff numbers, such as renewals, freezes etc. DO NOT USE...only accurate once\n"
   ]
  },
  {
   "cell_type": "code",
   "execution_count": null,
   "id": "7aea2fb7",
   "metadata": {},
   "outputs": [],
   "source": [
    "## May 1st 2025 ACCRUED NUMBERS (not visits)\n",
    "len(may2025.subject_id.unique())\n",
    "forplot.shape\n",
    "#forplot[['subject_id','redcap_event']].drop_duplicates()"
   ]
  },
  {
   "cell_type": "code",
   "execution_count": null,
   "id": "b229ec31",
   "metadata": {},
   "outputs": [],
   "source": [
    "\n",
    "#forplot.loc[forplot.subject_id.isin(list(may2025.subject_id.unique()))][['Race','Ethnicity','Sex','ages','Cohort']].to_csv('./NIH_Participant_Level_Table_930.csv',index=False)\n",
    "print(forplot.shape)\n",
    "forplotmay2025=forplot.loc[forplot.subject_id.isin(list(may2025.subject_id))].copy()\n"
   ]
  },
  {
   "cell_type": "code",
   "execution_count": null,
   "id": "6502367e",
   "metadata": {},
   "outputs": [],
   "source": [
    "forplotmay2025['redcap_event']=''\n",
    "forplotmay2025.loc[forplotmay2025.redcap_event_name.str.contains('v1_'),'redcap_event']='V1'\n",
    "forplotmay2025.loc[forplotmay2025.redcap_event_name.str.contains('v2_'),'redcap_event']='V2'\n",
    "forplotmay2025.loc[forplotmay2025.redcap_event_name.str.contains('v3_'),'redcap_event']='V3'\n",
    "forplotmay2025.loc[forplotmay2025.redcap_event_name.str.contains('v4_'),'redcap_event']='V4'\n",
    "\n"
   ]
  },
  {
   "cell_type": "code",
   "execution_count": null,
   "id": "279c8d20",
   "metadata": {},
   "outputs": [],
   "source": [
    "print(\"*******************\")\n",
    "print(\"**** Race x Sex in Non-Hispanics  *****\")\n",
    "nhisp=forplotmay2025.loc[forplotmay2025.Ethnicity=='Non-Hispanic'].copy()\n",
    "pd.crosstab(nhisp.Race,nhisp.Sex,margins=True)#.plot.bar(rot=45,title='AABC')\n",
    "n=pd.crosstab(nhisp.Race,nhisp.Sex,margins=True)#.plot.bar(rot=45,title='AABC')\n",
    "n.to_csv('Non-Hispanic.csv')\n",
    "n"
   ]
  },
  {
   "cell_type": "code",
   "execution_count": null,
   "id": "15391887",
   "metadata": {},
   "outputs": [],
   "source": [
    "print(\"*******************\")\n",
    "print(\"**** Race x Sex in Hispanics  *****\")\n",
    "hisp=forplotmay2025.loc[forplotmay2025.Ethnicity=='Hispanic'].copy()\n",
    "pd.crosstab(hisp.Race,hisp.Sex,margins=True)#.plot.bar(rot=45,title='AABC')\n",
    "h=pd.crosstab(hisp.Race,hisp.Sex,margins=True)#.plot.bar(rot=45,title='AABC')\n",
    "h.to_csv('Hispanic.csv')\n",
    "h"
   ]
  },
  {
   "cell_type": "code",
   "execution_count": null,
   "id": "e9e2271d",
   "metadata": {},
   "outputs": [],
   "source": [
    "print(\"*******************\")\n",
    "print(\"**** Race x Sex for Unknown Ethnicities  *****\")\n",
    "unk=forplotmay2025.loc[forplotmay2025.Ethnicity=='Unknown'].copy()\n",
    "pd.crosstab(unk.Race,unk.Sex,margins=True)#.plot.bar(rot=45,title='AABC')\n",
    "u=pd.crosstab(unk.Race,unk.Sex,margins=True)#.plot.bar(rot=45,title='AABC')\n",
    "u.to_csv('Unknown.csv')\n",
    "u"
   ]
  },
  {
   "cell_type": "markdown",
   "id": "181d1560",
   "metadata": {},
   "source": [
    "### End Section for Cutoff NUMBERS"
   ]
  },
  {
   "cell_type": "markdown",
   "id": "6b1a0406",
   "metadata": {},
   "source": [
    "## AABC Accrual PLOTS (subjects, not visits)\n"
   ]
  },
  {
   "cell_type": "code",
   "execution_count": null,
   "id": "b631b2c7",
   "metadata": {},
   "outputs": [],
   "source": [
    "#pd.crosstab(forplot.Counterbalance,forplot.Site,margins=True)#.plot.bar(rot=45,title='AABC')"
   ]
  },
  {
   "cell_type": "code",
   "execution_count": null,
   "id": "ea407be9",
   "metadata": {},
   "outputs": [],
   "source": [
    "### create plot of AABC recruitment stats by SEX\n",
    "# Create data\n",
    "x=list(forplot.dayspassed) #range(1,6)\n",
    "y1=list(forplot.CB3sum) #[1,4,6,8,9]\n",
    "y2=list(forplot.CB4sum)#[2,2,7,10,12]\n",
    "\n",
    "# Basic stacked area chart.\n",
    "#plt.stackplot(x,y1, y2, labels=['CB3:'+str(max(y1)),'CB4:'+str(max(y2))])\n",
    "#plt.title(\"AABC\")\n",
    "#plt.legend(loc='upper left')\n",
    "#plt.xlabel('Days Passed Since 1st Recruit')\n",
    "#plt.ylabel('Number of Subjects');"
   ]
  },
  {
   "cell_type": "code",
   "execution_count": null,
   "id": "bf6dcfbf",
   "metadata": {},
   "outputs": [],
   "source": [
    "#PPP  \n",
    "\n",
    "\n",
    "### create plot of AABC recruitment stats by SEX\n",
    "# Create data\n",
    "x=list(forplot.dayspassed) #range(1,6)\n",
    "y1=list(forplot.malesum) #[1,4,6,8,9]\n",
    "y2=list(forplot.femalesum)#[2,2,7,10,12]\n",
    "\n",
    "# Basic stacked area chart.\n",
    "plt.stackplot(x,y1, y2, labels=['Male:'+str(max(y1)),'Female:'+str(max(y2))])\n",
    "#plt.stackplot(x,y1, y2, labels=['Male: 346','Female: 468'])\n",
    "plt.legend(loc='upper left')\n",
    "plt.title(\"AABC\")\n",
    "plt.xlabel('Days Passed Since 1st Recruit')\n",
    "plt.ylabel('Number of Subjects');\n",
    "\n"
   ]
  },
  {
   "cell_type": "code",
   "execution_count": null,
   "id": "d8b0ced6",
   "metadata": {
    "scrolled": true
   },
   "outputs": [],
   "source": [
    "#By Age Bin\n",
    "x=list(forplot.dayspassed) #range(1,6)\n",
    "y2=list(forplot.age30sum)#[2,2,7,10,12]\n",
    "y3=list(forplot.age40sum)\n",
    "y4=list(forplot.age50sum)\n",
    "y5=list(forplot.age60sum)\n",
    "y6=list(forplot.age70sum)\n",
    "y7=list(forplot.age80sum)\n",
    "y8=list(forplot.age90sum)\n",
    "\n",
    "# Basic stacked area chart.\n",
    "plt.stackplot(x,y2,y3,y4,y5,y6,y7,y8, labels=['Age [30-40):'+str(max(y2)),'Age [40-50):'+str(max(y3)),'Age [50-60):'+str(max(y4)),'Age [60-70):'+str(max(y5)),'Age [70-80):'+str(max(y6)),'Age [80-90):'+str(max(y7)),'Age [90+):'+str(max(y8))])\n",
    "plt.legend(loc='upper left')\n",
    "plt.title(\"AABC\")\n",
    "plt.xlabel('Days Passed Since 1st Recruit')\n",
    "plt.ylabel('Number of Subjects');"
   ]
  },
  {
   "cell_type": "code",
   "execution_count": null,
   "id": "aa0d77c5",
   "metadata": {},
   "outputs": [],
   "source": [
    "#By Age Bin\n",
    "x=list(forplot.dayspassed) #range(1,6)\n",
    "y2=list(forplot.age1sum60)#[2,2,7,10,12]\n",
    "y3=list(forplot.age2sum60)\n",
    "\n",
    "\n",
    "# Basic stacked area chart.\n",
    "plt.stackplot(x,y2,y3, labels=['Age < 60: '+str(max(y2)), 'Age >= 60: '+str(max(y3))])\n",
    "plt.legend(loc='upper left')\n",
    "plt.title(\"AABC\")\n",
    "plt.xlabel('Days Passed Since 1st Recruit')\n",
    "plt.ylabel('Number of Subjects');"
   ]
  },
  {
   "cell_type": "code",
   "execution_count": null,
   "id": "1ff25852",
   "metadata": {},
   "outputs": [],
   "source": [
    "#BY RACE\n",
    "x=list(forplot.dayspassed) #range(1,6)\n",
    "y1=list(forplot.whitesum) #[1,4,6,8,9]\n",
    "y2=list(forplot.blacksum)#[2,2,7,10,12]\n",
    "y3=list(forplot.asiansum)\n",
    "y4=list(forplot.moret1sum)\n",
    "#y5=list(forplot.natpacsum)\n",
    "y6=list(forplot['natamersum'])\n",
    "y7=list(forplot['nasum'])\n",
    "\n",
    "\n",
    "\n",
    "# Basic stacked area chart.\n",
    "plt.stackplot(x,y1,y2,y3,y4,y6,y7,labels=['White:'+str(max(y1)),'Black:'+str(max(y2)),'Asian:'+str(max(y3)),'More than one Race:'+str(max(y4)),'Nat American/Alaskan:'+str(max(y6)),'Unknown/Unreported:'+str(max(y7))])\n",
    "#plt.stackplot(x,y1,y2,y3,y4,y6,y7,labels=['White: 550','Black: 171','Asian: 50','More than one Race: 22','Nat American/Alaskan: 5','Unknown/Unreported: 15'])\n",
    "\n",
    "plt.legend(loc='upper left')\n",
    "plt.title(\"AABC\")\n",
    "plt.xlabel('Days Passed Since 1st Recruit')\n",
    "plt.ylabel('Number of Subjects');"
   ]
  },
  {
   "cell_type": "code",
   "execution_count": null,
   "id": "29fed086",
   "metadata": {},
   "outputs": [],
   "source": [
    "#BY ETHNICITY\n",
    "x=list(forplot.dayspassed) #range(1,6)\n",
    "y1=list(forplot.nonhispanicsum) #[1,4,6,8,9]\n",
    "y2=list(forplot.hispanicsum)#[2,2,7,10,12]\n",
    "y3=list(forplot.unkhispsum)\n",
    "# Basic stacked area chart.\n",
    "plt.stackplot(x,y1, y2,y3, labels=['Non-Hispanic:'+str(max(y1)),'Hispanic:'+str(max(y2)),'Unknown or Not Reported:'+str(max(y3))])\n",
    "#plt.stackplot(x,y1, y2,y3, labels=['Non-Hispanic: 734','Hispanic: 75','Unknown or Not Reported: 5'])\n",
    "plt.legend(loc='upper left')\n",
    "plt.title(\"AABC\")\n",
    "plt.xlabel('Days Passed Since 1st Recruit')\n",
    "plt.ylabel('Number of Subjects');"
   ]
  },
  {
   "cell_type": "code",
   "execution_count": null,
   "id": "30afbdd6",
   "metadata": {},
   "outputs": [],
   "source": [
    "#By Site\n",
    "x=list(forplot.dayspassed) #range(1,6)\n",
    "y1=list(forplot.wusum) #[1,4,6,8,9]\n",
    "y2=list(forplot.umnsum)#[2,2,7,10,12]\n",
    "y3=list(forplot.mghsum)\n",
    "y4=list(forplot.uclasum)\n",
    "# Basic stacked area chart.\n",
    "plt.stackplot(x,y1, y2,y3, y4,labels=['WU:'+str(max(y1)),'UMN:'+str(max(y2)),'MGH:'+str(max(y3)),'UCLA:'+str(max(y4))])\n",
    "#plt.stackplot(x,y1, y2,y3, y4,labels=['WU: 282','UMN: 198','MGH: 180','UCLA: 154'])\n",
    "plt.legend(loc='upper left')\n",
    "plt.title(\"AABC\")\n",
    "plt.xlabel('Days Passed Since 1st Recruit')\n",
    "plt.ylabel('Number of Subjects');\n"
   ]
  },
  {
   "cell_type": "markdown",
   "id": "3832e7d5",
   "metadata": {},
   "source": [
    "## AABC Crosstabulations"
   ]
  },
  {
   "cell_type": "code",
   "execution_count": null,
   "id": "84dbf4d9",
   "metadata": {},
   "outputs": [],
   "source": [
    "pd.crosstab(forplot.AgeGroup,forplot.Site).plot.bar(rot=0,title='AABC')\n",
    "#pd.crosstab(forplot.AgeGroup,forplot.Site).to_csv('Recruitment_Stats',mode='a')\n",
    "pd.crosstab(forplot.AgeGroup,forplot.Site,margins=True)"
   ]
  },
  {
   "cell_type": "code",
   "execution_count": null,
   "id": "338f5b93",
   "metadata": {},
   "outputs": [],
   "source": [
    "pd.crosstab(forplot.AgeGroup,forplot.Race).plot.bar(rot=0,title='AABC')\n",
    "#pd.crosstab(forplot.AgeGroup,forplot.Race).to_csv('Recruitment_Stats',mode='a')\n",
    "pd.crosstab(forplot.AgeGroup,forplot.Race,margins=True)"
   ]
  },
  {
   "cell_type": "code",
   "execution_count": null,
   "id": "3e2de1a3",
   "metadata": {},
   "outputs": [],
   "source": [
    "pd.crosstab(forplot.AgeGroup,forplot.Ethnicity).plot.bar(rot=0,title='AABC')\n",
    "#pd.crosstab(forplot.AgeGroup,forplot.Ethnicity).to_csv('Recruitment_Stats',mode='a')\n",
    "pd.crosstab(forplot.AgeGroup,forplot.Ethnicity,margins=True)\n"
   ]
  },
  {
   "cell_type": "code",
   "execution_count": null,
   "id": "136477f7",
   "metadata": {},
   "outputs": [],
   "source": [
    "pd.crosstab(forplot.AgeGroup,forplot.Sex).plot.bar(rot=0,title='AABC')\n",
    "#pd.crosstab(forplot.AgeGroup,forplot.Sex).to_csv('Recruitment_Stats',mode='a')\n",
    "pd.crosstab(forplot.AgeGroup,forplot.Sex,margins=True)"
   ]
  },
  {
   "cell_type": "code",
   "execution_count": null,
   "id": "d9e3fa2d",
   "metadata": {},
   "outputs": [],
   "source": [
    "pd.crosstab(forplot.Sex,forplot.Site).plot.bar(rot=0,title='AABC')\n",
    "#pd.crosstab(forplot.Sex,forplot.Site).to_csv('Recruitment_Stats',mode='a')\n",
    "pd.crosstab(forplot.Sex,forplot.Site,margins=True)"
   ]
  },
  {
   "cell_type": "code",
   "execution_count": null,
   "id": "8fad94e6",
   "metadata": {},
   "outputs": [],
   "source": [
    "#Crosstabs x Site\n",
    "\n",
    "pd.crosstab(forplot.Race,forplot.Site).plot.bar(rot=45,title='AABC')\n",
    "#pd.crosstab(forplot.Race,forplot.Site).to_csv('Recruitment_Stats',mode='a')\n",
    "pd.crosstab(forplot.Race,forplot.Site,margins=True)"
   ]
  },
  {
   "cell_type": "code",
   "execution_count": null,
   "id": "2cd6e9bd",
   "metadata": {},
   "outputs": [],
   "source": [
    "pd.crosstab(forplot.Ethnicity,forplot.Site).plot.bar(rot=0,title='AABC')\n",
    "#pd.crosstab(forplot.Ethnicity,forplot.Site).to_csv('Recruitment_Stats',mode='a')\n",
    "pd.crosstab(forplot.Ethnicity,forplot.Site,margins=True)"
   ]
  },
  {
   "cell_type": "code",
   "execution_count": null,
   "id": "c2c4ff92",
   "metadata": {},
   "outputs": [],
   "source": [
    "#Crosstabs\n",
    "pd.crosstab(forplot.Race,forplot.Sex).plot.bar(rot=45,title='AABC')\n",
    "#pd.crosstab(forplot.Race,forplot.Sex).to_csv('Recruitment_Stats',mode='a')\n",
    "pd.crosstab(forplot.Race,forplot.Sex,margins=True)"
   ]
  },
  {
   "cell_type": "code",
   "execution_count": null,
   "id": "a00b2d81",
   "metadata": {},
   "outputs": [],
   "source": [
    "#Crosstabs\n",
    "pd.crosstab(forplot.Ethnicity,forplot.Sex).plot.bar(rot=0,title='AABC')\n",
    "#pd.crosstab(forplot.Ethnicity,forplot.Sex).to_csv('Recruitment_Stats',mode='a')\n",
    "pd.crosstab(forplot.Ethnicity,forplot.Sex,margins=True)"
   ]
  },
  {
   "cell_type": "markdown",
   "id": "fcbf414c",
   "metadata": {},
   "source": [
    "## AABC only Visit Counts (not accrued subjects)"
   ]
  },
  {
   "cell_type": "markdown",
   "id": "9c5b713c",
   "metadata": {},
   "source": [
    "### Visit Counts during AABC"
   ]
  },
  {
   "cell_type": "code",
   "execution_count": null,
   "id": "993f7d25",
   "metadata": {},
   "outputs": [],
   "source": [
    "\n",
    "x=aabcinvent.loc[(aabcinvent.passedscreen=='1') & (aabcinvent.redcap_event_name.str.contains('inperson')) & (aabcinvent.register_visit_complete=='2')].copy()\n",
    "x =x.loc[~(x.subject_id==\"HCA6539885\")]\n",
    "#print(x.shape)\n",
    "#print(str(len(x.subject_id.unique())))\n",
    "x['event_date'] = pd.to_datetime(x['event_date'])\n",
    "x.columns\n",
    "x['redcap_event']=''\n",
    "x.loc[x.redcap_event_name.str.contains('v1_'),'redcap_event']='V1'\n",
    "x.loc[x.redcap_event_name.str.contains('v2_'),'redcap_event']='V2'\n",
    "x.loc[x.redcap_event_name.str.contains('v3_'),'redcap_event']='V3'\n",
    "x.loc[x.redcap_event_name.str.contains('v4_'),'redcap_event']='V4'\n",
    "#x.redcap_event.value_counts()"
   ]
  },
  {
   "cell_type": "code",
   "execution_count": null,
   "id": "b1aeaddf",
   "metadata": {},
   "outputs": [],
   "source": [
    "#sites\n",
    "S4=pd.get_dummies(x.site, prefix='site')\n",
    "x['wusum']=pd.to_numeric(S4.site_4, errors='coerce').cumsum()\n",
    "x['umnsum']=pd.to_numeric(S4.site_3, errors='coerce').cumsum()\n",
    "x['mghsum']=pd.to_numeric(S4.site_1, errors='coerce').cumsum()\n",
    "x['uclasum']=pd.to_numeric(S4.site_2, errors='coerce').cumsum()\n",
    "\n",
    "xvar=list(x.dayspassed) #range(1,6)\n",
    "y1=list(x.wusum) #[1,4,6,8,9]\n",
    "y2=list(x.umnsum)#[2,2,7,10,12]\n",
    "y3=list(x.mghsum)\n",
    "y4=list(x.uclasum)\n",
    "# Basic stacked area chart.\n",
    "plt.stackplot(xvar,y1, y2,y3, y4,labels=['WU:'+str(max(y1)),'UMN:'+str(max(y2)),'MGH:'+str(max(y3)),'UCLA:'+str(max(y4))])\n",
    "#plt.stackplot(x,y1, y2,y3, y4,labels=['WU: 282','UMN: 198','MGH: 180','UCLA: 154'])\n",
    "plt.legend(loc='upper left')\n",
    "plt.title(\"AABC: \"+str(x.shape[0])+ \" Visits in \"+str(len(x.subject_id.unique()))+\" subjects\")\n",
    "plt.xlabel('Days Passed Since 1st Recruit')\n",
    "plt.ylabel('Number of Visits');\n",
    "\n",
    "#x.dayspassed"
   ]
  },
  {
   "cell_type": "code",
   "execution_count": null,
   "id": "65271d65",
   "metadata": {},
   "outputs": [],
   "source": [
    "x['Site']=x.site.astype('str').replace({'1':'MGH','2':'UCLA','3':'UMN','4':'WashU'})\n",
    "x['Race']=x.racial.replace({'1':'Nat Amer/Alaskan','2':'Asian','3':'Black','4':'Nat Hawaiian/PI','5':'White','6':'More than one','99':'Unknown'})\n",
    "x['Ethnicity']=x.ethnic.replace({'1':'Hispanic','2':'Non-Hispanic','3':'Unknown'})\n",
    "x['Sex']=x.sex.replace({'1':'Male','2':'Female'})\n",
    "\n",
    "#forplot['Sex']=forplot.sex.replace({'1':'Male','2':'Female'})\n",
    "\n",
    "x.groupby(['redcap_event', 'site']).size().reset_index(name='counts')\n",
    "pd.crosstab(x.redcap_event,x.Site,margins=True)"
   ]
  },
  {
   "cell_type": "code",
   "execution_count": null,
   "id": "6eae75f7",
   "metadata": {},
   "outputs": [],
   "source": [
    "A=x.groupby(['subject_id']).count()#[['subject_id','study_id']]\n",
    "B=pd.DataFrame(A).reset_index()[['subject_id','study_id']].rename(columns={'study_id':'number_visits'})\n",
    "C=pd.DataFrame(B.groupby(['number_visits']).count()).reset_index().rename(columns={'subject_id':'number_subjects'})\n",
    "C[['number_subjects','number_visits']].style.hide(axis=\"index\")"
   ]
  },
  {
   "cell_type": "code",
   "execution_count": null,
   "id": "d41b8fab",
   "metadata": {},
   "outputs": [],
   "source": [
    "x.age_visit"
   ]
  },
  {
   "cell_type": "code",
   "execution_count": null,
   "id": "1a5ad60e",
   "metadata": {},
   "outputs": [],
   "source": [
    "#basic demographics and ids/visits currently available \n",
    "x[['subject_id','redcap_event','site','age_visit','Sex','Race','Ethnicity']].head()\n",
    "y=x[['subject_id','redcap_event','site','age_visit','Sex','Race','Ethnicity']].copy()\n",
    "import numpy as np\n",
    "import pandas as pd\n",
    "\n",
    "y['age_visit'] = pd.to_numeric(y['age_visit'], errors='coerce')\n",
    "\n",
    "\n",
    "# Round age_visit to 1 decimal place, only if it's a float\n",
    "y['age_visit'] = y['age_visit'].apply(lambda x: round(x, 0) if isinstance(x, float) else x)\n",
    "\n",
    "# Cap age_visit at 90\n",
    "y['age_visit'] = y['age_visit'].apply(lambda x: 90 if isinstance(x, (int, float)) and x > 90 else x)\n",
    "\n",
    "y['age_visit'] = y['age_visit'].astype('Int64')"
   ]
  },
  {
   "cell_type": "code",
   "execution_count": null,
   "id": "48c25654",
   "metadata": {},
   "outputs": [],
   "source": [
    "#y.to_csv('AABC_accrued_2025Jun4_basicdemog.csv',index=False)"
   ]
  },
  {
   "cell_type": "markdown",
   "id": "e011080b",
   "metadata": {},
   "source": [
    "### MRS visits "
   ]
  },
  {
   "cell_type": "code",
   "execution_count": null,
   "id": "fea6d087",
   "metadata": {},
   "outputs": [],
   "source": [
    "subjects7T=subjects7T.drop_duplicates()\n",
    "print(subjects7T.shape)\n",
    "MRS=pd.merge(x,subjects7T,left_on=['subject_id','redcap_event'],right_on=['subject','redcap_event'],how='outer',indicator=True)\n",
    "\n",
    "MRS._merge.value_counts()\n",
    "MRS=MRS.loc[MRS._merge=='both']\n",
    "print(\"Subjects with MRS: Race x Sex\")\n",
    "#A=MRSMay2025.groupby(['subject']).count()#[['subject_id','study_id']]\n",
    "#B=pd.DataFrame(A).reset_index()[['subject','redcap_event']].rename(columns={'redcap_event':'number_visits'})\n",
    "#C=pd.DataFrame(B.groupby(['number_visits']).count()).reset_index().rename(columns={'subject':'number_subjects'})\n",
    "#C[['number_subjects','number_visits']].style.hide(axis=\"index\")\n",
    "pd.crosstab(MRS.redcap_event,MRS.Site,margins=True)#.plot.bar(rot=45,title='AABC')\n"
   ]
  },
  {
   "cell_type": "markdown",
   "id": "fe657ad1",
   "metadata": {},
   "source": [
    "## MRS subjects"
   ]
  },
  {
   "cell_type": "code",
   "execution_count": null,
   "id": "6a677526",
   "metadata": {},
   "outputs": [],
   "source": [
    "MRSsubs=MRS.drop_duplicates(subset='subject_id')\n",
    "pd.crosstab(MRSsubs.Race,MRSsubs.Sex,margins=True)#.plot.bar(rot=45,title='AABC')\n"
   ]
  },
  {
   "cell_type": "code",
   "execution_count": null,
   "id": "4ba1bfdd",
   "metadata": {},
   "outputs": [],
   "source": [
    "pd.crosstab(MRSsubs.Race,MRSsubs.Site,margins=True)#.plot.bar(rot=45,title='AABC')\n"
   ]
  },
  {
   "cell_type": "markdown",
   "id": "4869a56c",
   "metadata": {},
   "source": [
    "## Visit Counts in the UNION of HCA and AABC"
   ]
  },
  {
   "cell_type": "code",
   "execution_count": null,
   "id": "3471e12d",
   "metadata": {},
   "outputs": [],
   "source": [
    "idsV=ids.loc[ids.redcap_event.isin(['V1','V2'])].copy()\n",
    "idsV.columns\n",
    "#idsV[['subject','redcap_event','site','race','ethnic_group','M/F']]"
   ]
  },
  {
   "cell_type": "code",
   "execution_count": null,
   "id": "0a097726",
   "metadata": {},
   "outputs": [],
   "source": [
    "x.loc[x.sex=='2','M/F']='F'\n",
    "x.loc[x.sex=='1','M/F']='M'\n",
    "x['site']=x.site.astype('str').replace({'1':'MGH','2':'UCLA','3':'UMN','4':'WashU'})\n",
    "x['race']=x.racial.replace({'1':'Nat Amer/Alaskan','2':'Asian','3':'Black','4':'Nat Hawaiian/PI','5':'White','6':'More than one','99':'Unknown'})\n",
    "x['subject']=x.subject_id\n",
    "#thnicity\n",
    "x['ethnic_group']=x.ethnic.replace({'1':'Hispanic','2':'Non-Hispanic','3':'Unknown'})\n",
    "\n",
    "#x[['subject','redcap_event','M/F','race','ethnic_group','site']]\n"
   ]
  },
  {
   "cell_type": "code",
   "execution_count": null,
   "id": "8518527d",
   "metadata": {},
   "outputs": [],
   "source": [
    "Union=pd.concat([idsV[['subject','redcap_event','M/F','race','ethnic_group','site']],x[['subject','redcap_event','M/F','race','ethnic_group','site']]])\n",
    "Union.loc[Union.site=='UMinn','site']=\"UMN\"\n",
    "A=Union.groupby(['subject']).count()#[['subject_id','study_id']]\n",
    "B=pd.DataFrame(A).reset_index()[['subject','redcap_event']].rename(columns={'redcap_event':'number_visits'})\n",
    "C=pd.DataFrame(B.groupby(['number_visits']).count()).reset_index().rename(columns={'subject':'number_subjects'})\n",
    "C[['number_subjects','number_visits']].style.hide(axis=\"index\")\n"
   ]
  },
  {
   "cell_type": "code",
   "execution_count": null,
   "id": "63809ac8",
   "metadata": {},
   "outputs": [],
   "source": [
    "#Union[['subject','redcap_event','M/F','race','ethnic_group','site']]\n"
   ]
  },
  {
   "cell_type": "code",
   "execution_count": null,
   "id": "bec16f71",
   "metadata": {},
   "outputs": [],
   "source": [
    "#Union.groupby(['redcap_event', 'site']).size().reset_index(name='counts')\n",
    "pd.crosstab(Union.redcap_event,Union.site,margins=True)"
   ]
  },
  {
   "cell_type": "code",
   "execution_count": null,
   "id": "561de92b",
   "metadata": {},
   "outputs": [],
   "source": [
    "#tasks based on current recruitment.  #define function which merges x with the aabc redcap data, using specified list of variables as input, and named output"
   ]
  },
  {
   "cell_type": "code",
   "execution_count": null,
   "id": "16d7c2b6",
   "metadata": {},
   "outputs": [],
   "source": [
    "rid='66151'\n",
    "keepcols=['study_id','redcap_event_name','bld_drawresults','bld_draw','bld_draw_nc','bld_serum','bld_serum_centrifuge','bld_serum_cryovials','bld_serum_miss']\n",
    "outfile='MergeStatus_AMH_4June2025.csv'\n",
    "\n",
    "aabcreport = redreport(tok=secret.loc[secret.source=='aabcarms','api_key'].reset_index().drop(columns='index').api_key[0],reportid=rid)\n",
    "aabc=getframe(struct=aabcreport,api_url=config['Redcap']['api_url10'])\n",
    "xspecial=x[['subject','subject_id','study_id','redcap_event','redcap_event_name','site','Site','M/F','sex','age','age_visit']].merge(aabc[keepcols],on=['study_id','redcap_event_name'],how='left')\n",
    "xspecial.to_csv(outfile,index=False)"
   ]
  },
  {
   "cell_type": "code",
   "execution_count": null,
   "id": "c051c9c8",
   "metadata": {},
   "outputs": [],
   "source": [
    "#[j for j in x.columns if 'age' in j] \n",
    "#print(xspecial.shape)\n",
    "#xspecial.head()"
   ]
  },
  {
   "cell_type": "code",
   "execution_count": null,
   "id": "2a9e24ad",
   "metadata": {},
   "outputs": [],
   "source": []
  },
  {
   "cell_type": "code",
   "execution_count": null,
   "id": "fcbc0783",
   "metadata": {},
   "outputs": [],
   "source": []
  }
 ],
 "metadata": {
  "kernelspec": {
   "display_name": "NDA_submissions",
   "language": "python",
   "name": "nda_submissions"
  },
  "language_info": {
   "codemirror_mode": {
    "name": "ipython",
    "version": 3
   },
   "file_extension": ".py",
   "mimetype": "text/x-python",
   "name": "python",
   "nbconvert_exporter": "python",
   "pygments_lexer": "ipython3",
   "version": "3.9.6"
  }
 },
 "nbformat": 4,
 "nbformat_minor": 5
}
