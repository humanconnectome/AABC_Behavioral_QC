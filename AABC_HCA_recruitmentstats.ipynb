{
 "cells": [
  {
   "cell_type": "markdown",
   "id": "0ffe76f2",
   "metadata": {},
   "source": [
    "## AABC cumulative recruitment stats and visuals\n"
   ]
  },
  {
   "cell_type": "code",
   "execution_count": null,
   "id": "8cbe61d4",
   "metadata": {},
   "outputs": [],
   "source": [
    "# run all and then, from the command line:\n",
    "#jupyter nbconvert --to html --no-input AABC_HCA_recruitmentstats.ipynb --html report.html\n"
   ]
  },
  {
   "cell_type": "code",
   "execution_count": null,
   "id": "d510e8d2",
   "metadata": {},
   "outputs": [],
   "source": [
    "#load some libraries\n",
    "import pandas as pd\n",
    "import seaborn as sns\n",
    "from ccf.box import LifespanBox\n",
    "import yaml\n",
    "from functions import *\n",
    "from config import *\n",
    "import numpy as np\n",
    "import matplotlib.pyplot as plt\n",
    "from datetime import date"
   ]
  },
  {
   "cell_type": "code",
   "execution_count": null,
   "id": "a52cf9d8",
   "metadata": {},
   "outputs": [],
   "source": [
    "print(date.today().strftime(\"%m/%d/%Y\"))"
   ]
  },
  {
   "cell_type": "code",
   "execution_count": null,
   "id": "4ead2304",
   "metadata": {},
   "outputs": [],
   "source": [
    "#load HCA inventory \n",
    "config = LoadSettings()\n",
    "secret=pd.read_csv(config['config_files']['secrets'])\n",
    "box = LifespanBox(cache=\"./tmp\")\n",
    "pathp=box.downloadFile(config['hcainventory'])\n",
    "ids=pd.read_csv(pathp)"
   ]
  },
  {
   "cell_type": "code",
   "execution_count": null,
   "id": "2ae34d57",
   "metadata": {},
   "outputs": [],
   "source": [
    "#load AABC report\n",
    "aabcarms = redjson(tok=secret.loc[secret.source=='aabcarms','api_key'].reset_index().drop(columns='index').api_key[0])\n",
    "hcpa = redjson(tok=secret.loc[secret.source=='hcpa','api_key'].reset_index().drop(columns='index').api_key[0])\n",
    "#just a report\n",
    "aabcreport = redreport(tok=secret.loc[secret.source=='aabcarms','api_key'].reset_index().drop(columns='index').api_key[0],reportid='51031')\n",
    "\n",
    "#download the inventory report from AABC for comparison\n",
    "aabcinvent=getframe(struct=aabcreport,api_url=config['Redcap']['api_url10'])\n"
   ]
  },
  {
   "cell_type": "code",
   "execution_count": null,
   "id": "e9270211",
   "metadata": {},
   "outputs": [],
   "source": [
    "aabcinvent['todaydate']=date.today()\n",
    "aabcinvent['dayspassed']=(pd.to_datetime(aabcinvent.todaydate) - pd.to_datetime(aabcinvent.v0_date)).dt.days\n",
    "\n",
    "\n",
    "#get list of subjects who passed recruitment and registered for a visit\n",
    "#for i in list(aabcinvent.columns):\n",
    "#    print(i)\n",
    "    \n",
    "subjects=aabcinvent[['study_id','subject_id','redcap_event_name','passedscreen','register_subject_complete','register_visit_complete']]\n",
    "#print(subjects.shape)\n",
    "subjects=subjects.loc[subjects.register_visit_complete =='2'][['study_id']]\n",
    "subs=list(subjects.study_id)\n"
   ]
  },
  {
   "cell_type": "code",
   "execution_count": null,
   "id": "fa8f5d03",
   "metadata": {
    "scrolled": true
   },
   "outputs": [],
   "source": [
    "\n",
    "forplot=aabcinvent.loc[(aabcinvent.study_id.isin(subs)) & (aabcinvent.redcap_event_name.str.contains('register'))][['v0_date','dayspassed','age','sex','racial','ethnic','site','counterbalance_1st']]\n",
    "forplot=forplot.sort_values('dayspassed')\n",
    "\n",
    "#forplot.head()"
   ]
  },
  {
   "cell_type": "code",
   "execution_count": null,
   "id": "231461a8",
   "metadata": {},
   "outputs": [],
   "source": [
    "#PREPARE DATA FOR PLOTS\n",
    "#forplot['sexsum']=\n",
    "S=pd.get_dummies(forplot.sex, prefix='sex')\n",
    "\n",
    "#forplot['sexsum']=pd.to_numeric(forplot.sex, errors='coerce').cumsum()\n",
    "forplot['malesum']=pd.to_numeric(S.sex_1, errors='coerce').cumsum()\n",
    "forplot['femalesum']=pd.to_numeric(S.sex_2, errors='coerce').cumsum()\n",
    "forplot['Sex']=forplot.sex.replace({'1':'Male','2':'Female'})\n",
    "\n",
    "S0=pd.get_dummies(forplot.counterbalance_1st, prefix='CB')\n",
    "forplot['CB3sum']=pd.to_numeric(S0.CB_3, errors='coerce').cumsum()\n",
    "forplot['CB4sum']=pd.to_numeric(S0.CB_4, errors='coerce').cumsum()\n",
    "forplot['Counterbalance']=forplot.counterbalance_1st.replace({'3':'CB3','4':'CB4'})\n",
    "\n",
    "#forplot.head()"
   ]
  },
  {
   "cell_type": "code",
   "execution_count": null,
   "id": "e1f4c57f",
   "metadata": {},
   "outputs": [],
   "source": [
    "#1, Native American/Alaskan Native | 2, Asian | 3, Black or African American | 4, Native Hawaiian or Other Pacific Is | 5, White | 6, More than one race | 99, Unknown or Not reported\n",
    "S2=pd.get_dummies(forplot.racial, prefix='race')\n",
    "#print(S2.head())\n",
    "forplot['whitesum']=pd.to_numeric(S2.race_5, errors='coerce').cumsum()\n",
    "#forplot['natpacsum']=pd.to_numeric(S2.race_4, errors='coerce').cumsum()\n",
    "forplot['blacksum']=pd.to_numeric(S2.race_3, errors='coerce').cumsum()\n",
    "forplot['asiansum']=pd.to_numeric(S2.race_2, errors='coerce').cumsum()\n",
    "forplot['natamersum']=pd.to_numeric(S2.race_1, errors='coerce').cumsum()\n",
    "forplot['moret1sum']=pd.to_numeric(S2.race_6, errors='coerce').cumsum()\n",
    "#forplot['nasum']=pd.to_numeric(S2.race_7, errors='coerce').cumsum()\n",
    "forplot['Race']=forplot.racial.replace({'1':'Nat Amer/Alaskan','2':'Asian','3':'Black','4':'Nat Hawaiian/PI','5':'White','6':'More than one','7':'Unknown'})\n",
    "\n",
    "#thnicity\n",
    "S3=pd.get_dummies(forplot.ethnic, prefix='ethnicity')\n",
    "forplot['hispanicsum']=pd.to_numeric(S3.ethnicity_1, errors='coerce').cumsum()\n",
    "forplot['nonhispanicsum']=pd.to_numeric(S3.ethnicity_2, errors='coerce').cumsum()\n",
    "forplot['unkhispsum']=pd.to_numeric(S3.ethnicity_3, errors='coerce').cumsum()\n",
    "forplot['Ethnicity']=forplot.ethnic.replace({'1':'Hispanic','2':'Non-Hispanic','3':'Unknown'})\n",
    "\n",
    "#sites\n",
    "S4=pd.get_dummies(forplot.site, prefix='site')\n",
    "forplot['wusum']=pd.to_numeric(S4.site_4, errors='coerce').cumsum()\n",
    "forplot['umnsum']=pd.to_numeric(S4.site_3, errors='coerce').cumsum()\n",
    "forplot['mghsum']=pd.to_numeric(S4.site_1, errors='coerce').cumsum()\n",
    "forplot['uclasum']=pd.to_numeric(S4.site_2, errors='coerce').cumsum()\n",
    "forplot['Site']=forplot.site.replace({'1':'MGH','2':'UCLA','3':'UMN','4':'WashU'})"
   ]
  },
  {
   "cell_type": "code",
   "execution_count": null,
   "id": "ebb3a5b6",
   "metadata": {},
   "outputs": [],
   "source": [
    "                                       \n",
    "##ages\n",
    "bins= [30,40,50,60,70,80,90,120]\n",
    "forplot['ages']=pd.to_numeric(forplot.age)\n",
    "forplot['AgeGroup'] = pd.cut(forplot['ages'], bins=bins,right=False)# labels=labels,\n",
    "S5=pd.get_dummies(forplot.AgeGroup, prefix='age')\n",
    "forplot['age30sum']=pd.to_numeric(S5['age_[30, 40)'], errors='coerce').cumsum()\n",
    "forplot['age40sum']=pd.to_numeric(S5['age_[40, 50)'], errors='coerce').cumsum()\n",
    "forplot['age50sum']=pd.to_numeric(S5['age_[50, 60)'], errors='coerce').cumsum()\n",
    "forplot['age60sum']=pd.to_numeric(S5['age_[60, 70)'], errors='coerce').cumsum()\n",
    "forplot['age70sum']=pd.to_numeric(S5['age_[70, 80)'], errors='coerce').cumsum()\n",
    "forplot['age80sum']=pd.to_numeric(S5['age_[80, 90)'], errors='coerce').cumsum()\n",
    "forplot['age90sum']=pd.to_numeric(S5['age_[90, 120)'],errors='coerce').cumsum()\n",
    "#forplot.columns"
   ]
  },
  {
   "cell_type": "markdown",
   "id": "6b1a0406",
   "metadata": {},
   "source": [
    "## AABC Univariate Counts"
   ]
  },
  {
   "cell_type": "code",
   "execution_count": null,
   "id": "bf6dcfbf",
   "metadata": {},
   "outputs": [],
   "source": [
    "### create plot of AABC recruitment stats by SEX\n",
    "# Create data\n",
    "x=list(forplot.dayspassed) #range(1,6)\n",
    "y1=list(forplot.malesum) #[1,4,6,8,9]\n",
    "y2=list(forplot.femalesum)#[2,2,7,10,12]\n",
    "\n",
    "# Basic stacked area chart.\n",
    "plt.stackplot(x,y1, y2, labels=['Male:'+str(max(y1)),'Female:'+str(max(y2))])\n",
    "plt.legend(loc='upper left')\n",
    "plt.xlabel('Days Passed Since 1st Recruit')\n",
    "plt.ylabel('Number of Subjects')\n",
    "\n"
   ]
  },
  {
   "cell_type": "code",
   "execution_count": null,
   "id": "ea407be9",
   "metadata": {},
   "outputs": [],
   "source": [
    "### create plot of AABC recruitment stats by SEX\n",
    "# Create data\n",
    "x=list(forplot.dayspassed) #range(1,6)\n",
    "y1=list(forplot.CB3sum) #[1,4,6,8,9]\n",
    "y2=list(forplot.CB4sum)#[2,2,7,10,12]\n",
    "\n",
    "# Basic stacked area chart.\n",
    "plt.stackplot(x,y1, y2, labels=['CB3:'+str(max(y1)),'CB4:'+str(max(y2))])\n",
    "plt.legend(loc='upper left')\n",
    "plt.xlabel('Days Passed Since 1st Recruit')\n",
    "plt.ylabel('Number of Subjects')"
   ]
  },
  {
   "cell_type": "code",
   "execution_count": null,
   "id": "1ff25852",
   "metadata": {},
   "outputs": [],
   "source": [
    "#BY RACE\n",
    "x=list(forplot.dayspassed) #range(1,6)\n",
    "y1=list(forplot.whitesum) #[1,4,6,8,9]\n",
    "y2=list(forplot.blacksum)#[2,2,7,10,12]\n",
    "y3=list(forplot.asiansum)\n",
    "y4=list(forplot.moret1sum)\n",
    "#y5=list(forplot.natpacsum)\n",
    "y6=list(forplot['natamersum'])\n",
    "#y7=list(forplot['nasum'])\n",
    "\n",
    "\n",
    "\n",
    "# Basic stacked area chart.\n",
    "plt.stackplot(x,y1,y2,y3,y4,y6,labels=['White:'+str(max(y1)),'Black:'+str(max(y2)),'Asian:'+str(max(y3)),'More than one Race:'+str(max(y4)),'Nat Hawiaan/PI:'+str(max(y5)),'Nat American/Alaskan:'+str(max(y6))])\n",
    "plt.legend(loc='upper left')\n",
    "plt.xlabel('Days Passed Since 1st Recruit')\n",
    "plt.ylabel('Number of Subjects')"
   ]
  },
  {
   "cell_type": "code",
   "execution_count": null,
   "id": "29fed086",
   "metadata": {},
   "outputs": [],
   "source": [
    "#BY ETHNICITY\n",
    "x=list(forplot.dayspassed) #range(1,6)\n",
    "y1=list(forplot.nonhispanicsum) #[1,4,6,8,9]\n",
    "y2=list(forplot.hispanicsum)#[2,2,7,10,12]\n",
    "y3=list(forplot.unkhispsum)\n",
    "# Basic stacked area chart.\n",
    "plt.stackplot(x,y1, y2,y3, labels=['Non-Hispanic:'+str(max(y1)),'Hispanic:'+str(max(y2)),'Unknown or Not Reported:'+str(max(y3))])\n",
    "plt.legend(loc='upper left')\n",
    "plt.xlabel('Days Passed Since 1st Recruit')\n",
    "plt.ylabel('Number of Subjects')"
   ]
  },
  {
   "cell_type": "code",
   "execution_count": null,
   "id": "30afbdd6",
   "metadata": {},
   "outputs": [],
   "source": [
    "#By Site\n",
    "x=list(forplot.dayspassed) #range(1,6)\n",
    "y1=list(forplot.wusum) #[1,4,6,8,9]\n",
    "y2=list(forplot.umnsum)#[2,2,7,10,12]\n",
    "y3=list(forplot.mghsum)\n",
    "y4=list(forplot.uclasum)\n",
    "# Basic stacked area chart.\n",
    "plt.stackplot(x,y1, y2,y3, y4,labels=['WU:'+str(max(y1)),'UMN:'+str(max(y2)),'MGH:'+str(max(y3)),'UCLA:'+str(max(y4))])\n",
    "plt.legend(loc='upper left')\n",
    "plt.xlabel('Days Passed Since 1st Recruit')\n",
    "plt.ylabel('Number of Subjects')\n"
   ]
  },
  {
   "cell_type": "code",
   "execution_count": null,
   "id": "d8b0ced6",
   "metadata": {
    "scrolled": true
   },
   "outputs": [],
   "source": [
    "#By Age Bin\n",
    "x=list(forplot.dayspassed) #range(1,6)\n",
    "y2=list(forplot.age30sum)#[2,2,7,10,12]\n",
    "y3=list(forplot.age40sum)\n",
    "y4=list(forplot.age50sum)\n",
    "y5=list(forplot.age60sum)\n",
    "y6=list(forplot.age70sum)\n",
    "y7=list(forplot.age80sum)\n",
    "y8=list(forplot.age90sum)\n",
    "\n",
    "# Basic stacked area chart.\n",
    "plt.stackplot(x,y2,y3,y4,y5,y6,y7,y8, labels=['Age [30-40):'+str(max(y2)),'Age [40-50):'+str(max(y3)),'Age [50-60):'+str(max(y4)),'Age [60-70):'+str(max(y5)),'Age [70-80):'+str(max(y6)),'Age [80-90):'+str(max(y7)),'Age [90+):'+str(max(y8))])\n",
    "plt.legend(loc='upper left')\n",
    "\n",
    "plt.xlabel('Days Passed Since 1st Recruit')\n",
    "plt.ylabel('Number of Subjects')"
   ]
  },
  {
   "cell_type": "markdown",
   "id": "3832e7d5",
   "metadata": {},
   "source": [
    "## AABC Crosstabulations\n"
   ]
  },
  {
   "cell_type": "code",
   "execution_count": null,
   "id": "8fad94e6",
   "metadata": {},
   "outputs": [],
   "source": [
    "#Crosstabs x Site\n",
    "\n",
    "pd.crosstab(forplot.Race,forplot.Site).plot.bar(rot=45)\n",
    "#pd.crosstab(forplot.Race,forplot.Site).to_csv('Recruitment_Stats',mode='a')\n",
    "pd.crosstab(forplot.Race,forplot.Site)"
   ]
  },
  {
   "cell_type": "code",
   "execution_count": null,
   "id": "2cd6e9bd",
   "metadata": {},
   "outputs": [],
   "source": [
    "pd.crosstab(forplot.Ethnicity,forplot.Site).plot.bar(rot=45)\n",
    "#pd.crosstab(forplot.Ethnicity,forplot.Site).to_csv('Recruitment_Stats',mode='a')\n",
    "pd.crosstab(forplot.Ethnicity,forplot.Site)"
   ]
  },
  {
   "cell_type": "code",
   "execution_count": null,
   "id": "84dbf4d9",
   "metadata": {},
   "outputs": [],
   "source": [
    "pd.crosstab(forplot.AgeGroup,forplot.Site).plot.bar(rot=45)\n",
    "#pd.crosstab(forplot.AgeGroup,forplot.Site).to_csv('Recruitment_Stats',mode='a')\n",
    "pd.crosstab(forplot.AgeGroup,forplot.Site)"
   ]
  },
  {
   "cell_type": "code",
   "execution_count": null,
   "id": "d9e3fa2d",
   "metadata": {},
   "outputs": [],
   "source": [
    "pd.crosstab(forplot.Sex,forplot.Site).plot.bar(rot=45)\n",
    "#pd.crosstab(forplot.Sex,forplot.Site).to_csv('Recruitment_Stats',mode='a')\n",
    "pd.crosstab(forplot.Sex,forplot.Site)"
   ]
  },
  {
   "cell_type": "code",
   "execution_count": null,
   "id": "338f5b93",
   "metadata": {},
   "outputs": [],
   "source": [
    "pd.crosstab(forplot.AgeGroup,forplot.Race).plot.bar(rot=45)\n",
    "#pd.crosstab(forplot.AgeGroup,forplot.Race).to_csv('Recruitment_Stats',mode='a')\n",
    "pd.crosstab(forplot.AgeGroup,forplot.Race)"
   ]
  },
  {
   "cell_type": "code",
   "execution_count": null,
   "id": "3e2de1a3",
   "metadata": {},
   "outputs": [],
   "source": [
    "pd.crosstab(forplot.AgeGroup,forplot.Ethnicity).plot.bar(rot=45)\n",
    "#pd.crosstab(forplot.AgeGroup,forplot.Ethnicity).to_csv('Recruitment_Stats',mode='a')\n",
    "pd.crosstab(forplot.AgeGroup,forplot.Ethnicity)\n"
   ]
  },
  {
   "cell_type": "code",
   "execution_count": null,
   "id": "136477f7",
   "metadata": {},
   "outputs": [],
   "source": [
    "pd.crosstab(forplot.AgeGroup,forplot.Sex).plot.bar(rot=45)\n",
    "#pd.crosstab(forplot.AgeGroup,forplot.Sex).to_csv('Recruitment_Stats',mode='a')\n",
    "pd.crosstab(forplot.AgeGroup,forplot.Sex)"
   ]
  },
  {
   "cell_type": "code",
   "execution_count": null,
   "id": "c2c4ff92",
   "metadata": {},
   "outputs": [],
   "source": [
    "#Crosstabs\n",
    "pd.crosstab(forplot.Race,forplot.Sex).plot.bar(rot=45)\n",
    "#pd.crosstab(forplot.Race,forplot.Sex).to_csv('Recruitment_Stats',mode='a')\n",
    "pd.crosstab(forplot.Race,forplot.Sex)"
   ]
  },
  {
   "cell_type": "code",
   "execution_count": null,
   "id": "a00b2d81",
   "metadata": {},
   "outputs": [],
   "source": [
    "#Crosstabs\n",
    "pd.crosstab(forplot.Ethnicity,forplot.Sex).plot.bar(rot=45)\n",
    "#pd.crosstab(forplot.Ethnicity,forplot.Sex).to_csv('Recruitment_Stats',mode='a')\n",
    "pd.crosstab(forplot.Ethnicity,forplot.Sex)"
   ]
  },
  {
   "cell_type": "code",
   "execution_count": null,
   "id": "ab88352c",
   "metadata": {},
   "outputs": [],
   "source": [
    "#Crosstabs\n",
    "pd.crosstab(forplot.Counterbalance,forplot.Sex).plot.bar(rot=0)\n",
    "#pd.crosstab(forplot.Counterbalance,forplot.Sex).to_csv('Recruitment_Stats',mode='a')\n",
    "pd.crosstab(forplot.Counterbalance,forplot.Sex)"
   ]
  },
  {
   "cell_type": "code",
   "execution_count": null,
   "id": "98bb8cc4",
   "metadata": {},
   "outputs": [],
   "source": [
    "#Crosstabs\n",
    "pd.crosstab(forplot.Race,forplot.Counterbalance).plot.bar(rot=45)\n",
    "#pd.crosstab(forplot.Race,forplot.Counterbalance).to_csv('Recruitment_Stats',mode='a')\n",
    "pd.crosstab(forplot.Race,forplot.Counterbalance)"
   ]
  },
  {
   "cell_type": "code",
   "execution_count": null,
   "id": "9eb5727c",
   "metadata": {},
   "outputs": [],
   "source": [
    "#Crosstabs\n",
    "pd.crosstab(forplot.AgeGroup,forplot.Counterbalance).plot.bar(rot=45)\n",
    "#pd.crosstab(forplot.AgeGroup,forplot.Counterbalance).to_csv('Recruitment_Stats',mode='a')\n",
    "pd.crosstab(forplot.AgeGroup,forplot.Counterbalance)"
   ]
  },
  {
   "cell_type": "code",
   "execution_count": null,
   "id": "fdb4f918",
   "metadata": {},
   "outputs": [],
   "source": [
    "\n"
   ]
  },
  {
   "cell_type": "code",
   "execution_count": null,
   "id": "8d269ebb",
   "metadata": {},
   "outputs": [],
   "source": [
    "## UNIVARIATE HCA demographic stats"
   ]
  },
  {
   "cell_type": "code",
   "execution_count": null,
   "id": "23c24d3c",
   "metadata": {},
   "outputs": [],
   "source": [
    "#request or load REDCAP API Key"
   ]
  },
  {
   "cell_type": "code",
   "execution_count": null,
   "id": "06662be8",
   "metadata": {},
   "outputs": [],
   "source": [
    "##subset to v1 for recruitment stats\n",
    "#forstats=ids[['subject','redcap_event','event_age','site','M/F','race','ethnic_group','pedid']].loc[ids.redcap_event.isin(['V1','V2'])].sort_values('redcap_event').drop_duplicates(subset='subject',keep='first')\n"
   ]
  },
  {
   "cell_type": "code",
   "execution_count": null,
   "id": "df386116",
   "metadata": {},
   "outputs": [],
   "source": [
    "#bin ages\n",
    "#bins= [20,30,40,50,60,70,80,90,100,110]\n",
    "#forstats['AgeGroup'] = pd.cut(forstats['event_age'], bins=bins,right=False)# labels=labels,"
   ]
  },
  {
   "cell_type": "code",
   "execution_count": null,
   "id": "f1eb0bc0",
   "metadata": {},
   "outputs": [],
   "source": [
    "#a=pd.DataFrame(forstats.groupby(['site']).count().pedid).rename(columns={'pedid':'count'})\n",
    "#a.to_csv('HCA_Site.csv')\n",
    "#b=pd.DataFrame(forstats.groupby(['AgeGroup']).count().pedid).rename(columns={'pedid':'count'})\n",
    "#b.to_csv('HCA_Age.csv')\n",
    "#c=pd.DataFrame(forstats.groupby(['M/F']).count().pedid).rename(columns={'pedid':'count'})\n",
    "#c.to_csv('HCA_Sex.csv')\n",
    "#d=pd.DataFrame(forstats.groupby(['race']).count().pedid).rename(columns={'pedid':'count'})\n",
    "#d.to_csv('HCA_Race.csv')\n",
    "#e=pd.DataFrame(forstats.groupby(['ethnic_group']).count().pedid).rename(columns={'pedid':'count'})\n",
    "#e.to_csv('HCA_Ethnicity.csv')\n"
   ]
  },
  {
   "cell_type": "code",
   "execution_count": null,
   "id": "3cb3cadf",
   "metadata": {},
   "outputs": [],
   "source": [
    "## HCA demographics by Age"
   ]
  },
  {
   "cell_type": "code",
   "execution_count": null,
   "id": "3fc34836",
   "metadata": {},
   "outputs": [],
   "source": [
    "#print('************  BY AGE  ********************')\n",
    "#print(forstats.groupby(['AgeGroup','site']).count().pedid)\n",
    "#pd.DataFrame(pd.crosstab(forstats['AgeGroup'], [forstats.site])).to_csv('HCA_Age_x_Site.csv',index=True)\n",
    "#print('*******************************************************')\n",
    "#print(forstats.groupby(['AgeGroup','M/F']).count().pedid)\n",
    "#pd.DataFrame(pd.crosstab(forstats['AgeGroup'], forstats['M/F'])).to_csv('HCA_Age_x_Sex.csv',index=True)\n",
    "#print('*******************************************************')\n",
    "#print(forstats.groupby(['AgeGroup','race']).count().pedid)\n",
    "#pd.DataFrame(pd.crosstab(forstats['AgeGroup'], [forstats.race])).to_csv('HCA_Age_x_Race.csv',index=True)\n",
    "#print('*******************************************************')\n",
    "#print(forstats.groupby(['AgeGroup','ethnic_group']).count().pedid)\n",
    "#pd.DataFrame(pd.crosstab(forstats['AgeGroup'], [forstats.ethnic_group])).to_csv('HCA_Age_x_Ethnicity.csv',index=True)\n",
    "#print('*******************************************************')"
   ]
  },
  {
   "cell_type": "code",
   "execution_count": null,
   "id": "1f014bed",
   "metadata": {},
   "outputs": [],
   "source": [
    "# # HCA demographics by Site"
   ]
  },
  {
   "cell_type": "code",
   "execution_count": null,
   "id": "65a959bb",
   "metadata": {},
   "outputs": [],
   "source": [
    "#print('************* BY SITE *********************')\n",
    "#print(forstats.groupby(['site','M/F']).count().pedid)\n",
    "#pd.DataFrame(pd.crosstab(forstats['site'], [forstats['M/F']])).to_csv('HCA_Site_x_Sex.csv',index=True)\n",
    "#print('*******************************************************')\n",
    "#print(forstats.groupby(['site','race']).count().pedid)\n",
    "#pd.DataFrame(pd.crosstab(forstats['site'], [forstats.race])).to_csv('HCA_Site_x_Race.csv',index=True)\n",
    "#print('*******************************************************')\n",
    "#print(forstats.groupby(['site','ethnic_group']).count().pedid)\n",
    "#pd.DataFrame(pd.crosstab(forstats['site'], [forstats.ethnic_group])).to_csv('HCA_Site_x_Ethnicity.csv',index=True)\n",
    "#print('*******************************************************')\n",
    "#\n",
    "#print('************ BY SEX **********************')\n",
    "#pd.DataFrame(pd.crosstab(forstats['M/F'], [forstats['race']])).to_csv('HCA_Sex_x_Race.csv',index=True)\n",
    "#print('*******************************************************')\n",
    "#pd.DataFrame(pd.crosstab(forstats['M/F'], [forstats['ethnic_group']])).to_csv('HCA_Sex_x_Ethnicity.csv',index=True)\n",
    "#print('*******************************************************')\n",
    "\n",
    "#print('************ BY RACE **********************')\n",
    "#pd.DataFrame(pd.crosstab(forstats['race'], [forstats['ethnic_group']])).to_csv('HCA_Race_x_Ethnicity.csv',index=True)\n",
    "#print('*******************************************************')"
   ]
  },
  {
   "cell_type": "code",
   "execution_count": null,
   "id": "9f752ab5",
   "metadata": {},
   "outputs": [],
   "source": []
  }
 ],
 "metadata": {
  "kernelspec": {
   "display_name": "NDA_submissions",
   "language": "python",
   "name": "nda_submissions"
  },
  "language_info": {
   "codemirror_mode": {
    "name": "ipython",
    "version": 3
   },
   "file_extension": ".py",
   "mimetype": "text/x-python",
   "name": "python",
   "nbconvert_exporter": "python",
   "pygments_lexer": "ipython3",
   "version": "3.9.6"
  }
 },
 "nbformat": 4,
 "nbformat_minor": 5
}
