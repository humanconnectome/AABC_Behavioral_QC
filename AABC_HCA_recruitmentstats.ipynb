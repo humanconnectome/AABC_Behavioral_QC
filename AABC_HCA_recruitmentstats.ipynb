{
 "cells": [
  {
   "cell_type": "markdown",
   "id": "0ffe76f2",
   "metadata": {},
   "source": [
    "# Notebook to generate AABC cumulative recruitment stats and historical HCA stats by key demographic variables (draft)"
   ]
  },
  {
   "cell_type": "markdown",
   "id": "df7604db",
   "metadata": {},
   "source": [
    "## TO DO add same plots filtered down to those who actually came in ... also merge HCA REDCap race with phone arm to compare demographic breakdown of those who re-enrolled vs. not.  Also check demographics of participants who didn't pass screening.  \n"
   ]
  },
  {
   "cell_type": "code",
   "execution_count": null,
   "id": "d510e8d2",
   "metadata": {},
   "outputs": [],
   "source": [
    "#load some libraries\n",
    "import pandas as pd\n",
    "import seaborn as sns\n",
    "from ccf.box import LifespanBox\n",
    "import yaml\n",
    "from functions import *\n",
    "from config import *\n",
    "import numpy as np\n",
    "import matplotlib.pyplot as plt\n",
    "\n"
   ]
  },
  {
   "cell_type": "code",
   "execution_count": null,
   "id": "4ead2304",
   "metadata": {},
   "outputs": [],
   "source": [
    "#load HCA inventory \n",
    "config = LoadSettings()\n",
    "secret=pd.read_csv(config['config_files']['secrets'])\n",
    "box = LifespanBox(cache=\"./tmp\")\n",
    "pathp=box.downloadFile(config['hcainventory'])\n",
    "ids=pd.read_csv(pathp)"
   ]
  },
  {
   "cell_type": "code",
   "execution_count": null,
   "id": "2ae34d57",
   "metadata": {},
   "outputs": [],
   "source": [
    "#load AABC report\n",
    "aabcarms = redjson(tok=secret.loc[secret.source=='aabcarms','api_key'].reset_index().drop(columns='index').api_key[0])\n",
    "hcpa = redjson(tok=secret.loc[secret.source=='hcpa','api_key'].reset_index().drop(columns='index').api_key[0])\n",
    "#just a report\n",
    "aabcreport = redreport(tok=secret.loc[secret.source=='aabcarms','api_key'].reset_index().drop(columns='index').api_key[0],reportid='51031')\n",
    "\n",
    "#download the inventory report from AABC for comparison\n",
    "aabcinvent=getframe(struct=aabcreport,api_url=config['Redcap']['api_url10'])\n"
   ]
  },
  {
   "cell_type": "code",
   "execution_count": null,
   "id": "fa8f5d03",
   "metadata": {},
   "outputs": [],
   "source": [
    "#(pd.to_datetime(aabcinvent.v0_date)-today()).days\n",
    "from datetime import date\n",
    "aabcinvent['todaydate']=date.today()\n",
    "aabcinvent['dayspassed']=(pd.to_datetime(aabcinvent.todaydate) - pd.to_datetime(aabcinvent.v0_date)).dt.days\n",
    "#(pd.to_datetime(aabcinvent.v0_date)\n",
    "aabcinvent.dayspassed\n",
    "# - date.today()).days()"
   ]
  },
  {
   "cell_type": "code",
   "execution_count": null,
   "id": "ebb3a5b6",
   "metadata": {},
   "outputs": [],
   "source": [
    "#PREPARE DATA FOR PLOTS\n",
    "forplot=aabcinvent.loc[aabcinvent.redcap_event_name.str.contains('register')][['v0_date','dayspassed','age','sex','racial','ethnic','site']]\n",
    "forplot=forplot.sort_values('dayspassed')\n",
    "\n",
    "#forplot['sexsum']=\n",
    "S=pd.get_dummies(forplot.sex, prefix='sex')\n",
    "#forplot['sexsum']=pd.to_numeric(forplot.sex, errors='coerce').cumsum()\n",
    "forplot['malesum']=pd.to_numeric(S.sex_1, errors='coerce').cumsum()\n",
    "forplot['femalesum']=pd.to_numeric(S.sex_2, errors='coerce').cumsum()\n",
    "\n",
    "#1, Native American/Alaskan Native | 2, Asian | 3, Black or African American | 4, Native Hawaiian or Other Pacific Is | 5, White | 6, More than one race | 99, Unknown or Not reported\n",
    "S2=pd.get_dummies(forplot.racial, prefix='race')\n",
    "forplot['whitesum']=pd.to_numeric(S2.race_5, errors='coerce').cumsum()\n",
    "#forplot['natpacsum']=pd.to_numeric(S2.race_4, errors='coerce').cumsum()\n",
    "forplot['blacksum']=pd.to_numeric(S2.race_3, errors='coerce').cumsum()\n",
    "forplot['asiansum']=pd.to_numeric(S2.race_2, errors='coerce').cumsum()\n",
    "#forplot['natamersum']=pd.to_numeric(S2.race_1, errors='coerce').cumsum()\n",
    "forplot['moret1sum']=pd.to_numeric(S2.race_6, errors='coerce').cumsum()\n",
    "#forplot['nasum']=pd.to_numeric(S2.race_7, errors='coerce').cumsum()\n",
    "\n",
    "#thnicity\n",
    "S3=pd.get_dummies(forplot.ethnic, prefix='ethnicity')\n",
    "forplot['hispanicsum']=pd.to_numeric(S3.ethnicity_1, errors='coerce').cumsum()\n",
    "forplot['nonhispanicsum']=pd.to_numeric(S3.ethnicity_2, errors='coerce').cumsum()\n",
    "forplot['unkhispsum']=pd.to_numeric(S3.ethnicity_3, errors='coerce').cumsum()\n",
    "\n",
    "\n",
    "\n",
    "#sites\n",
    "S4=pd.get_dummies(forplot.site, prefix='site')\n",
    "forplot['wusum']=pd.to_numeric(S4.site_4, errors='coerce').cumsum()\n",
    "forplot['umnsum']=pd.to_numeric(S4.site_3, errors='coerce').cumsum()\n",
    "forplot['mghsum']=pd.to_numeric(S4.site_1, errors='coerce').cumsum()\n",
    "#forplot['uclasum']=pd.to_numeric(S4.site_2, errors='coerce').cumsum()\n",
    "\n",
    "forplot.age\n",
    "\n",
    "##ages\n",
    "bins= [20,40,60,80,100]\n",
    "forplot['ages']=pd.to_numeric(forplot.age)\n",
    "forplot['AgeGroup'] = pd.cut(forplot['ages'], bins=bins,right=False)# labels=labels,\n",
    "S5=pd.get_dummies(forplot.AgeGroup, prefix='age')\n",
    "forplot['age20sum']=pd.to_numeric(S5['age_[20, 40)'], errors='coerce').cumsum()\n",
    "forplot['age40sum']=pd.to_numeric(S5['age_[40, 60)'], errors='coerce').cumsum()\n",
    "forplot['age60sum']=pd.to_numeric(S5['age_[60, 80)'], errors='coerce').cumsum()\n",
    "forplot['age80sum']=pd.to_numeric(S5['age_[80, 100)'],errors='coerce').cumsum()\n",
    "\n"
   ]
  },
  {
   "cell_type": "code",
   "execution_count": null,
   "id": "bf6dcfbf",
   "metadata": {},
   "outputs": [],
   "source": [
    "### create plot of AABC recruitment stats by SEX\n",
    "# Create data\n",
    "x=list(forplot.dayspassed) #range(1,6)\n",
    "y1=list(forplot.malesum) #[1,4,6,8,9]\n",
    "y2=list(forplot.femalesum)#[2,2,7,10,12]\n",
    "\n",
    "# Basic stacked area chart.\n",
    "plt.stackplot(x,y1, y2, labels=['Male','Female'])\n",
    "plt.legend(loc='upper left')\n",
    "plt.xlabel('Days Passed Since 1st Recruit')\n",
    "plt.ylabel('Number of Subjects')"
   ]
  },
  {
   "cell_type": "code",
   "execution_count": null,
   "id": "1ff25852",
   "metadata": {},
   "outputs": [],
   "source": [
    "#BY RACE\n",
    "x=list(forplot.dayspassed) #range(1,6)\n",
    "y1=list(forplot.whitesum) #[1,4,6,8,9]\n",
    "y2=list(forplot.blacksum)#[2,2,7,10,12]\n",
    "y3=list(forplot.asiansum)\n",
    "y4=list(forplot.moret1sum)\n",
    "# Basic stacked area chart.\n",
    "plt.stackplot(x,y1, y2,y3,y4, labels=['White','Black','Asian','More than one Race'])\n",
    "plt.legend(loc='upper left')\n",
    "plt.xlabel('Days Passed Since 1st Recruit')\n",
    "plt.ylabel('Number of Subjects')"
   ]
  },
  {
   "cell_type": "code",
   "execution_count": null,
   "id": "29fed086",
   "metadata": {},
   "outputs": [],
   "source": [
    "#BY ETHNICITY\n",
    "x=list(forplot.dayspassed) #range(1,6)\n",
    "y1=list(forplot.nonhispanicsum) #[1,4,6,8,9]\n",
    "y2=list(forplot.hispanicsum)#[2,2,7,10,12]\n",
    "y3=list(forplot.unkhispsum)\n",
    "# Basic stacked area chart.\n",
    "plt.stackplot(x,y1, y2,y3, labels=['Non-Hispanic','Hispanic','Unknown or Not Reported'])\n",
    "plt.legend(loc='upper left')\n",
    "plt.xlabel('Days Passed Since 1st Recruit')\n",
    "plt.ylabel('Number of Subjects')"
   ]
  },
  {
   "cell_type": "code",
   "execution_count": null,
   "id": "30afbdd6",
   "metadata": {},
   "outputs": [],
   "source": [
    "#By Site\n",
    "x=list(forplot.dayspassed) #range(1,6)\n",
    "y1=list(forplot.wusum) #[1,4,6,8,9]\n",
    "y2=list(forplot.umnsum)#[2,2,7,10,12]\n",
    "y3=list(forplot.mghsum)\n",
    "# Basic stacked area chart.\n",
    "plt.stackplot(x,y1, y2,y3, labels=['WU','UMN','MGH'])\n",
    "plt.legend(loc='upper left')\n",
    "plt.xlabel('Days Passed Since 1st Recruit')\n",
    "plt.ylabel('Number of Subjects')\n"
   ]
  },
  {
   "cell_type": "code",
   "execution_count": null,
   "id": "d8b0ced6",
   "metadata": {},
   "outputs": [],
   "source": [
    "#By Age Bin\n",
    "x=list(forplot.dayspassed) #range(1,6)\n",
    "y1=list(forplot.age20sum) #[1,4,6,8,9]\n",
    "y2=list(forplot.age40sum)#[2,2,7,10,12]\n",
    "y3=list(forplot.age60sum)\n",
    "y4=list(forplot.age80sum)\n",
    "# Basic stacked area chart.\n",
    "plt.stackplot(x,y1, y2,y3,y4, labels=['Age [20-40)','Age [40-60)','Age [60-80)','Age [80-100)'])\n",
    "plt.legend(loc='upper left')\n",
    "\n",
    "plt.xlabel('Days Passed Since 1st Recruit')\n",
    "plt.ylabel('Number of Subjects')"
   ]
  },
  {
   "cell_type": "code",
   "execution_count": null,
   "id": "23c24d3c",
   "metadata": {},
   "outputs": [],
   "source": [
    "#request or load AABC REDCAP API Key"
   ]
  },
  {
   "cell_type": "code",
   "execution_count": null,
   "id": "06662be8",
   "metadata": {},
   "outputs": [],
   "source": [
    "#subset to v1 for recruitment stats\n",
    "forstats=ids[['subject','redcap_event','event_age','site','M/F','race','ethnic_group','pedid']].loc[ids.redcap_event.isin(['V1','V2'])].sort_values('redcap_event').drop_duplicates(subset='subject',keep='first')\n"
   ]
  },
  {
   "cell_type": "code",
   "execution_count": null,
   "id": "df386116",
   "metadata": {},
   "outputs": [],
   "source": [
    "#bin ages\n",
    "bins= [20,30,40,50,60,70,80,90,100,110]\n",
    "forstats['AgeGroup'] = pd.cut(forstats['event_age'], bins=bins,right=False)# labels=labels,"
   ]
  },
  {
   "cell_type": "markdown",
   "id": "f1d52739",
   "metadata": {},
   "source": [
    "## produce some UNIVARIATE HCA demographic stats"
   ]
  },
  {
   "cell_type": "code",
   "execution_count": null,
   "id": "f8c5a3ae",
   "metadata": {},
   "outputs": [],
   "source": [
    "a=pd.DataFrame(forstats.groupby(['site']).count().pedid).rename(columns={'pedid':'count'})\n",
    "a.to_csv('HCA_Site.csv')\n",
    "a"
   ]
  },
  {
   "cell_type": "code",
   "execution_count": null,
   "id": "f1893536",
   "metadata": {},
   "outputs": [],
   "source": [
    "b=pd.DataFrame(forstats.groupby(['AgeGroup']).count().pedid).rename(columns={'pedid':'count'})\n",
    "b.to_csv('HCA_Age.csv')\n",
    "b"
   ]
  },
  {
   "cell_type": "code",
   "execution_count": null,
   "id": "f1eb0bc0",
   "metadata": {},
   "outputs": [],
   "source": [
    "c=pd.DataFrame(forstats.groupby(['M/F']).count().pedid).rename(columns={'pedid':'count'})\n",
    "c.to_csv('HCA_Sex.csv')\n",
    "c"
   ]
  },
  {
   "cell_type": "code",
   "execution_count": null,
   "id": "b24350d7",
   "metadata": {},
   "outputs": [],
   "source": [
    "d=pd.DataFrame(forstats.groupby(['race']).count().pedid).rename(columns={'pedid':'count'})\n",
    "d.to_csv('HCA_Race.csv')\n",
    "d"
   ]
  },
  {
   "cell_type": "code",
   "execution_count": null,
   "id": "9c091d86",
   "metadata": {},
   "outputs": [],
   "source": [
    "e=pd.DataFrame(forstats.groupby(['ethnic_group']).count().pedid).rename(columns={'pedid':'count'})\n",
    "e.to_csv('HCA_Ethnicity.csv')\n",
    "e"
   ]
  },
  {
   "cell_type": "markdown",
   "id": "79e55d7c",
   "metadata": {},
   "source": [
    "## HCA demographics by Age"
   ]
  },
  {
   "cell_type": "code",
   "execution_count": null,
   "id": "3fc34836",
   "metadata": {},
   "outputs": [],
   "source": [
    "print('************  BY AGE  ********************')\n",
    "print(forstats.groupby(['AgeGroup','site']).count().pedid)\n",
    "pd.DataFrame(pd.crosstab(forstats['AgeGroup'], [forstats.site])).to_csv('HCA_Age_x_Site.csv',index=True)\n",
    "print('*******************************************************')\n",
    "print(forstats.groupby(['AgeGroup','M/F']).count().pedid)\n",
    "pd.DataFrame(pd.crosstab(forstats['AgeGroup'], forstats['M/F'])).to_csv('HCA_Age_x_Sex.csv',index=True)\n",
    "print('*******************************************************')\n",
    "print(forstats.groupby(['AgeGroup','race']).count().pedid)\n",
    "pd.DataFrame(pd.crosstab(forstats['AgeGroup'], [forstats.race])).to_csv('HCA_Age_x_Race.csv',index=True)\n",
    "print('*******************************************************')\n",
    "print(forstats.groupby(['AgeGroup','ethnic_group']).count().pedid)\n",
    "pd.DataFrame(pd.crosstab(forstats['AgeGroup'], [forstats.ethnic_group])).to_csv('HCA_Age_x_Ethnicity.csv',index=True)\n",
    "print('*******************************************************')"
   ]
  },
  {
   "cell_type": "code",
   "execution_count": null,
   "id": "1f014bed",
   "metadata": {},
   "outputs": [],
   "source": [
    "# # HCA demographics by Site"
   ]
  },
  {
   "cell_type": "code",
   "execution_count": null,
   "id": "65a959bb",
   "metadata": {},
   "outputs": [],
   "source": [
    "print('************* BY SITE *********************')\n",
    "print(forstats.groupby(['site','M/F']).count().pedid)\n",
    "pd.DataFrame(pd.crosstab(forstats['site'], [forstats['M/F']])).to_csv('HCA_Site_x_Sex.csv',index=True)\n",
    "print('*******************************************************')\n",
    "print(forstats.groupby(['site','race']).count().pedid)\n",
    "pd.DataFrame(pd.crosstab(forstats['site'], [forstats.race])).to_csv('HCA_Site_x_Race.csv',index=True)\n",
    "print('*******************************************************')\n",
    "print(forstats.groupby(['site','ethnic_group']).count().pedid)\n",
    "pd.DataFrame(pd.crosstab(forstats['site'], [forstats.ethnic_group])).to_csv('HCA_Site_x_Ethnicity.csv',index=True)\n",
    "print('*******************************************************')\n",
    "\n",
    "print('************ BY SEX **********************')\n",
    "pd.DataFrame(pd.crosstab(forstats['M/F'], [forstats['race']])).to_csv('HCA_Sex_x_Race.csv',index=True)\n",
    "print('*******************************************************')\n",
    "pd.DataFrame(pd.crosstab(forstats['M/F'], [forstats['ethnic_group']])).to_csv('HCA_Sex_x_Ethnicity.csv',index=True)\n",
    "print('*******************************************************')\n",
    "\n",
    "print('************ BY RACE **********************')\n",
    "pd.DataFrame(pd.crosstab(forstats['race'], [forstats['ethnic_group']])).to_csv('HCA_Race_x_Ethnicity.csv',index=True)\n",
    "print('*******************************************************')"
   ]
  }
 ],
 "metadata": {
  "kernelspec": {
   "display_name": "NDA_Submissions",
   "language": "python",
   "name": "nda_submissions"
  },
  "language_info": {
   "codemirror_mode": {
    "name": "ipython",
    "version": 3
   },
   "file_extension": ".py",
   "mimetype": "text/x-python",
   "name": "python",
   "nbconvert_exporter": "python",
   "pygments_lexer": "ipython3",
   "version": "3.8.10"
  }
 },
 "nbformat": 4,
 "nbformat_minor": 5
}
