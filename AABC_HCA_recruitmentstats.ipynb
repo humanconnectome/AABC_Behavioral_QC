{
 "cells": [
  {
   "cell_type": "markdown",
   "id": "0ffe76f2",
   "metadata": {},
   "source": [
    "# Notebook to generate AABC cumulative recruitment stats and historical HCA stats by key demographic variables (draft)"
   ]
  },
  {
   "cell_type": "code",
   "execution_count": 14,
   "id": "d510e8d2",
   "metadata": {},
   "outputs": [],
   "source": [
    "#load some libraries\n",
    "import pandas as pd\n",
    "import seaborn as sns\n",
    "from ccf.box import LifespanBox\n",
    "import yaml\n"
   ]
  },
  {
   "cell_type": "code",
   "execution_count": 36,
   "id": "23c24d3c",
   "metadata": {},
   "outputs": [],
   "source": [
    "#request or load AABC REDCAP API Key"
   ]
  },
  {
   "cell_type": "code",
   "execution_count": 37,
   "id": "4ead2304",
   "metadata": {},
   "outputs": [],
   "source": [
    "#load HCA inventory\n",
    "filename=\"./config.yml\"\n",
    "with open(filename, 'r') as fd:\n",
    "        config=yaml.load(fd, Loader=yaml.SafeLoader)\n",
    "secret=pd.read_csv(config['config_files']['secrets'])\n",
    "\n",
    "box = LifespanBox(cache=\"./tmp\")\n",
    "pathp=box.downloadFile(config['hcainventory'])\n",
    "ids=pd.read_csv(pathp)"
   ]
  },
  {
   "cell_type": "code",
   "execution_count": 38,
   "id": "06662be8",
   "metadata": {},
   "outputs": [],
   "source": [
    "#subset to v1 for recruitment stats\n",
    "forstats=ids[['subject','redcap_event','event_age','site','M/F','race','ethnic_group','pedid']].loc[ids.redcap_event.isin(['V1','V2'])].sort_values('redcap_event').drop_duplicates(subset='subject',keep='first')\n"
   ]
  },
  {
   "cell_type": "code",
   "execution_count": 39,
   "id": "df386116",
   "metadata": {},
   "outputs": [],
   "source": [
    "#bin ages\n",
    "bins= [20,30,40,50,60,70,80,90,100,110]\n",
    "forstats['AgeGroup'] = pd.cut(forstats['event_age'], bins=bins,right=False)# labels=labels,"
   ]
  },
  {
   "cell_type": "markdown",
   "id": "f1d52739",
   "metadata": {},
   "source": [
    "## produce some UNIVARIATE HCA demographic stats"
   ]
  },
  {
   "cell_type": "code",
   "execution_count": 40,
   "id": "f8c5a3ae",
   "metadata": {},
   "outputs": [
    {
     "data": {
      "text/html": [
       "<div>\n",
       "<style scoped>\n",
       "    .dataframe tbody tr th:only-of-type {\n",
       "        vertical-align: middle;\n",
       "    }\n",
       "\n",
       "    .dataframe tbody tr th {\n",
       "        vertical-align: top;\n",
       "    }\n",
       "\n",
       "    .dataframe thead th {\n",
       "        text-align: right;\n",
       "    }\n",
       "</style>\n",
       "<table border=\"1\" class=\"dataframe\">\n",
       "  <thead>\n",
       "    <tr style=\"text-align: right;\">\n",
       "      <th></th>\n",
       "      <th>count</th>\n",
       "    </tr>\n",
       "    <tr>\n",
       "      <th>site</th>\n",
       "      <th></th>\n",
       "    </tr>\n",
       "  </thead>\n",
       "  <tbody>\n",
       "    <tr>\n",
       "      <th>MGH</th>\n",
       "      <td>292</td>\n",
       "    </tr>\n",
       "    <tr>\n",
       "      <th>UCLA</th>\n",
       "      <td>298</td>\n",
       "    </tr>\n",
       "    <tr>\n",
       "      <th>UMinn</th>\n",
       "      <td>307</td>\n",
       "    </tr>\n",
       "    <tr>\n",
       "      <th>WashU</th>\n",
       "      <td>318</td>\n",
       "    </tr>\n",
       "  </tbody>\n",
       "</table>\n",
       "</div>"
      ],
      "text/plain": [
       "       count\n",
       "site        \n",
       "MGH      292\n",
       "UCLA     298\n",
       "UMinn    307\n",
       "WashU    318"
      ]
     },
     "execution_count": 40,
     "metadata": {},
     "output_type": "execute_result"
    }
   ],
   "source": [
    "a=pd.DataFrame(forstats.groupby(['site']).count().pedid).rename(columns={'pedid':'count'})\n",
    "a.to_csv('HCA_Site.csv')\n",
    "a"
   ]
  },
  {
   "cell_type": "code",
   "execution_count": 41,
   "id": "f1893536",
   "metadata": {},
   "outputs": [
    {
     "data": {
      "text/html": [
       "<div>\n",
       "<style scoped>\n",
       "    .dataframe tbody tr th:only-of-type {\n",
       "        vertical-align: middle;\n",
       "    }\n",
       "\n",
       "    .dataframe tbody tr th {\n",
       "        vertical-align: top;\n",
       "    }\n",
       "\n",
       "    .dataframe thead th {\n",
       "        text-align: right;\n",
       "    }\n",
       "</style>\n",
       "<table border=\"1\" class=\"dataframe\">\n",
       "  <thead>\n",
       "    <tr style=\"text-align: right;\">\n",
       "      <th></th>\n",
       "      <th>count</th>\n",
       "    </tr>\n",
       "    <tr>\n",
       "      <th>AgeGroup</th>\n",
       "      <th></th>\n",
       "    </tr>\n",
       "  </thead>\n",
       "  <tbody>\n",
       "    <tr>\n",
       "      <th>[20, 30)</th>\n",
       "      <td>11</td>\n",
       "    </tr>\n",
       "    <tr>\n",
       "      <th>[30, 40)</th>\n",
       "      <td>104</td>\n",
       "    </tr>\n",
       "    <tr>\n",
       "      <th>[40, 50)</th>\n",
       "      <td>234</td>\n",
       "    </tr>\n",
       "    <tr>\n",
       "      <th>[50, 60)</th>\n",
       "      <td>233</td>\n",
       "    </tr>\n",
       "    <tr>\n",
       "      <th>[60, 70)</th>\n",
       "      <td>210</td>\n",
       "    </tr>\n",
       "    <tr>\n",
       "      <th>[70, 80)</th>\n",
       "      <td>184</td>\n",
       "    </tr>\n",
       "    <tr>\n",
       "      <th>[80, 90)</th>\n",
       "      <td>194</td>\n",
       "    </tr>\n",
       "    <tr>\n",
       "      <th>[90, 100)</th>\n",
       "      <td>45</td>\n",
       "    </tr>\n",
       "    <tr>\n",
       "      <th>[100, 110)</th>\n",
       "      <td>0</td>\n",
       "    </tr>\n",
       "  </tbody>\n",
       "</table>\n",
       "</div>"
      ],
      "text/plain": [
       "            count\n",
       "AgeGroup         \n",
       "[20, 30)       11\n",
       "[30, 40)      104\n",
       "[40, 50)      234\n",
       "[50, 60)      233\n",
       "[60, 70)      210\n",
       "[70, 80)      184\n",
       "[80, 90)      194\n",
       "[90, 100)      45\n",
       "[100, 110)      0"
      ]
     },
     "execution_count": 41,
     "metadata": {},
     "output_type": "execute_result"
    }
   ],
   "source": [
    "b=pd.DataFrame(forstats.groupby(['AgeGroup']).count().pedid).rename(columns={'pedid':'count'})\n",
    "b.to_csv('HCA_Age.csv')\n",
    "b"
   ]
  },
  {
   "cell_type": "code",
   "execution_count": 42,
   "id": "f1eb0bc0",
   "metadata": {},
   "outputs": [
    {
     "data": {
      "text/html": [
       "<div>\n",
       "<style scoped>\n",
       "    .dataframe tbody tr th:only-of-type {\n",
       "        vertical-align: middle;\n",
       "    }\n",
       "\n",
       "    .dataframe tbody tr th {\n",
       "        vertical-align: top;\n",
       "    }\n",
       "\n",
       "    .dataframe thead th {\n",
       "        text-align: right;\n",
       "    }\n",
       "</style>\n",
       "<table border=\"1\" class=\"dataframe\">\n",
       "  <thead>\n",
       "    <tr style=\"text-align: right;\">\n",
       "      <th></th>\n",
       "      <th>count</th>\n",
       "    </tr>\n",
       "    <tr>\n",
       "      <th>M/F</th>\n",
       "      <th></th>\n",
       "    </tr>\n",
       "  </thead>\n",
       "  <tbody>\n",
       "    <tr>\n",
       "      <th>F</th>\n",
       "      <td>690</td>\n",
       "    </tr>\n",
       "    <tr>\n",
       "      <th>M</th>\n",
       "      <td>525</td>\n",
       "    </tr>\n",
       "  </tbody>\n",
       "</table>\n",
       "</div>"
      ],
      "text/plain": [
       "     count\n",
       "M/F       \n",
       "F      690\n",
       "M      525"
      ]
     },
     "execution_count": 42,
     "metadata": {},
     "output_type": "execute_result"
    }
   ],
   "source": [
    "c=pd.DataFrame(forstats.groupby(['M/F']).count().pedid).rename(columns={'pedid':'count'})\n",
    "c.to_csv('HCA_Sex.csv')\n",
    "c"
   ]
  },
  {
   "cell_type": "code",
   "execution_count": 43,
   "id": "b24350d7",
   "metadata": {},
   "outputs": [
    {
     "data": {
      "text/html": [
       "<div>\n",
       "<style scoped>\n",
       "    .dataframe tbody tr th:only-of-type {\n",
       "        vertical-align: middle;\n",
       "    }\n",
       "\n",
       "    .dataframe tbody tr th {\n",
       "        vertical-align: top;\n",
       "    }\n",
       "\n",
       "    .dataframe thead th {\n",
       "        text-align: right;\n",
       "    }\n",
       "</style>\n",
       "<table border=\"1\" class=\"dataframe\">\n",
       "  <thead>\n",
       "    <tr style=\"text-align: right;\">\n",
       "      <th></th>\n",
       "      <th>count</th>\n",
       "    </tr>\n",
       "    <tr>\n",
       "      <th>race</th>\n",
       "      <th></th>\n",
       "    </tr>\n",
       "  </thead>\n",
       "  <tbody>\n",
       "    <tr>\n",
       "      <th>American Indian/Alaska Native</th>\n",
       "      <td>3</td>\n",
       "    </tr>\n",
       "    <tr>\n",
       "      <th>Asian</th>\n",
       "      <td>77</td>\n",
       "    </tr>\n",
       "    <tr>\n",
       "      <th>Black or African American</th>\n",
       "      <td>167</td>\n",
       "    </tr>\n",
       "    <tr>\n",
       "      <th>Hawaiian or Pacific Islander</th>\n",
       "      <td>3</td>\n",
       "    </tr>\n",
       "    <tr>\n",
       "      <th>More than one race</th>\n",
       "      <td>46</td>\n",
       "    </tr>\n",
       "    <tr>\n",
       "      <th>Unknown or not reported</th>\n",
       "      <td>23</td>\n",
       "    </tr>\n",
       "    <tr>\n",
       "      <th>White</th>\n",
       "      <td>896</td>\n",
       "    </tr>\n",
       "  </tbody>\n",
       "</table>\n",
       "</div>"
      ],
      "text/plain": [
       "                               count\n",
       "race                                \n",
       "American Indian/Alaska Native      3\n",
       "Asian                             77\n",
       "Black or African American        167\n",
       "Hawaiian or Pacific Islander       3\n",
       "More than one race                46\n",
       "Unknown or not reported           23\n",
       "White                            896"
      ]
     },
     "execution_count": 43,
     "metadata": {},
     "output_type": "execute_result"
    }
   ],
   "source": [
    "d=pd.DataFrame(forstats.groupby(['race']).count().pedid).rename(columns={'pedid':'count'})\n",
    "d.to_csv('HCA_Race.csv')\n",
    "d"
   ]
  },
  {
   "cell_type": "code",
   "execution_count": 44,
   "id": "9c091d86",
   "metadata": {},
   "outputs": [
    {
     "data": {
      "text/html": [
       "<div>\n",
       "<style scoped>\n",
       "    .dataframe tbody tr th:only-of-type {\n",
       "        vertical-align: middle;\n",
       "    }\n",
       "\n",
       "    .dataframe tbody tr th {\n",
       "        vertical-align: top;\n",
       "    }\n",
       "\n",
       "    .dataframe thead th {\n",
       "        text-align: right;\n",
       "    }\n",
       "</style>\n",
       "<table border=\"1\" class=\"dataframe\">\n",
       "  <thead>\n",
       "    <tr style=\"text-align: right;\">\n",
       "      <th></th>\n",
       "      <th>count</th>\n",
       "    </tr>\n",
       "    <tr>\n",
       "      <th>ethnic_group</th>\n",
       "      <th></th>\n",
       "    </tr>\n",
       "  </thead>\n",
       "  <tbody>\n",
       "    <tr>\n",
       "      <th>Hispanic or Latino</th>\n",
       "      <td>139</td>\n",
       "    </tr>\n",
       "    <tr>\n",
       "      <th>Not Hispanic or Latino</th>\n",
       "      <td>1074</td>\n",
       "    </tr>\n",
       "    <tr>\n",
       "      <th>unknown or not reported</th>\n",
       "      <td>2</td>\n",
       "    </tr>\n",
       "  </tbody>\n",
       "</table>\n",
       "</div>"
      ],
      "text/plain": [
       "                         count\n",
       "ethnic_group                  \n",
       "Hispanic or Latino         139\n",
       "Not Hispanic or Latino    1074\n",
       "unknown or not reported      2"
      ]
     },
     "execution_count": 44,
     "metadata": {},
     "output_type": "execute_result"
    }
   ],
   "source": [
    "e=pd.DataFrame(forstats.groupby(['ethnic_group']).count().pedid).rename(columns={'pedid':'count'})\n",
    "e.to_csv('HCA_Ethnicity.csv')\n",
    "e"
   ]
  },
  {
   "cell_type": "markdown",
   "id": "79e55d7c",
   "metadata": {},
   "source": [
    "## HCA demographics by Age"
   ]
  },
  {
   "cell_type": "code",
   "execution_count": null,
   "id": "3fc34836",
   "metadata": {},
   "outputs": [],
   "source": [
    "print('************  BY AGE  ********************')\n",
    "print(forstats.groupby(['AgeGroup','site']).count().pedid)\n",
    "pd.DataFrame(pd.crosstab(forstats['AgeGroup'], [forstats.site])).to_csv('HCA_Age_x_Site.csv',index=True)\n",
    "print('*******************************************************')\n",
    "print(forstats.groupby(['AgeGroup','M/F']).count().pedid)\n",
    "pd.DataFrame(pd.crosstab(forstats['AgeGroup'], forstats['M/F'])).to_csv('HCA_Age_x_Sex.csv',index=True)\n",
    "print('*******************************************************')\n",
    "print(forstats.groupby(['AgeGroup','race']).count().pedid)\n",
    "pd.DataFrame(pd.crosstab(forstats['AgeGroup'], [forstats.race])).to_csv('HCA_Age_x_Race.csv',index=True)\n",
    "print('*******************************************************')\n",
    "print(forstats.groupby(['AgeGroup','ethnic_group']).count().pedid)\n",
    "pd.DataFrame(pd.crosstab(forstats['AgeGroup'], [forstats.ethnic_group])).to_csv('HCA_Age_x_Ethnicity.csv',index=True)\n",
    "print('*******************************************************')"
   ]
  },
  {
   "cell_type": "code",
   "execution_count": null,
   "id": "1f014bed",
   "metadata": {},
   "outputs": [],
   "source": [
    "# # HCA demographics by Site"
   ]
  },
  {
   "cell_type": "code",
   "execution_count": null,
   "id": "65a959bb",
   "metadata": {},
   "outputs": [],
   "source": [
    "print('************* BY SITE *********************')\n",
    "print(forstats.groupby(['site','M/F']).count().pedid)\n",
    "pd.DataFrame(pd.crosstab(forstats['site'], [forstats['M/F']])).to_csv('HCA_Site_x_Sex.csv',index=True)\n",
    "print('*******************************************************')\n",
    "print(forstats.groupby(['site','race']).count().pedid)\n",
    "pd.DataFrame(pd.crosstab(forstats['site'], [forstats.race])).to_csv('HCA_Site_x_Race.csv',index=True)\n",
    "print('*******************************************************')\n",
    "print(forstats.groupby(['site','ethnic_group']).count().pedid)\n",
    "pd.DataFrame(pd.crosstab(forstats['site'], [forstats.ethnic_group])).to_csv('HCA_Site_x_Ethnicity.csv',index=True)\n",
    "print('*******************************************************')\n",
    "\n",
    "print('************ BY SEX **********************')\n",
    "pd.DataFrame(pd.crosstab(forstats['M/F'], [forstats['race']])).to_csv('HCA_Sex_x_Race.csv',index=True)\n",
    "print('*******************************************************')\n",
    "pd.DataFrame(pd.crosstab(forstats['M/F'], [forstats['ethnic_group']])).to_csv('HCA_Sex_x_Ethnicity.csv',index=True)\n",
    "print('*******************************************************')\n",
    "\n",
    "print('************ BY RACE **********************')\n",
    "pd.DataFrame(pd.crosstab(forstats['race'], [forstats['ethnic_group']])).to_csv('HCA_Race_x_Ethnicity.csv',index=True)\n",
    "print('*******************************************************')"
   ]
  }
 ],
 "metadata": {
  "kernelspec": {
   "display_name": "NDA_Submissions",
   "language": "python",
   "name": "nda_submissions"
  },
  "language_info": {
   "codemirror_mode": {
    "name": "ipython",
    "version": 3
   },
   "file_extension": ".py",
   "mimetype": "text/x-python",
   "name": "python",
   "nbconvert_exporter": "python",
   "pygments_lexer": "ipython3",
   "version": "3.8.10"
  }
 },
 "nbformat": 4,
 "nbformat_minor": 5
}
