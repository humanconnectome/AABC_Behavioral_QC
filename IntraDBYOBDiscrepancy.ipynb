{
 "cells": [
  {
   "cell_type": "code",
   "execution_count": null,
   "id": "7d45df7b",
   "metadata": {},
   "outputs": [],
   "source": [
    "import pandas as pd\n",
    "import numpy as np\n",
    "import matplotlib.pyplot as plt\n",
    "from functions import *\n",
    "from config import *\n",
    "import os\n",
    "from datetime import date\n",
    "import json\n",
    "from datetime import datetime"
   ]
  },
  {
   "cell_type": "code",
   "execution_count": null,
   "id": "d4ccfa46",
   "metadata": {},
   "outputs": [],
   "source": [
    "# get configuration files\n",
    "outp=\"/Users/w.zijian/AABC_Behavioral_QC-main/tmp/\"\n",
    "config = LoadSettings(\"/Users/w.zijian/AABC_Behavioral_QC-main/config.yml\")\n",
    "secret=pd.read_csv(config['config_files']['secrets'])\n",
    "intradb=pd.read_csv(config['config_files']['PCP'])\n",
    "user = intradb.user[0]\n",
    "passw = intradb.auth[0]\n",
    "HOST = \"hcpi-shadow22.nrg.wustl.edu\"\n",
    "projects=[\"AABC_UMN_ITK\",\"AABC_UCLA_ITK\",\"AABC_MGH_ITK\",\"AABC_STG\",\"AABC_WU_ITK\"]#\"AABC_WU_ITK\","
   ]
  },
  {
   "cell_type": "code",
   "execution_count": null,
   "id": "410f3515",
   "metadata": {},
   "outputs": [],
   "source": [
    "# load intraDB dataset\n",
    "Alldf=pd.DataFrame()\n",
    "for PROJECT in projects:\n",
    "    curlcmd = f\"\"\"curl -s -k -u {user}:{passw} \"https://intradb.humanconnectome.org/data/subjects?xsiType=xnat:subjectData&format=csv&columns=ID,gender,dob,handedness,label,yob&project={PROJECT}\" -X GET > {outp}{PROJECT}.csv\"\"\"\n",
    "    os.system(curlcmd)\n",
    "    projdf=pd.read_csv(outp+PROJECT+\".csv\")\n",
    "    projdf['PROJECT']=PROJECT\n",
    "    Alldf=pd.concat([Alldf,projdf],axis=0)\n",
    "Alldf"
   ]
  },
  {
   "cell_type": "code",
   "execution_count": null,
   "id": "bcb099b4",
   "metadata": {},
   "outputs": [],
   "source": [
    "# Step 1: Merge 'dob' and 'yob' into a single 'yob' column\n",
    "Alldf['yob'] = Alldf.apply(lambda row: pd.to_datetime(row['dob']).year if pd.notnull(row['dob']) else row['yob'], axis=1)\n",
    "# Convert 'yob' to integer to remove the decimal and zero after the year\n",
    "Alldf['yob'] = Alldf['yob'].fillna(0).astype(int)\n",
    "\n",
    "\n",
    "# Step 2: Drop the 'dob', 'ID', and 'URI' columns\n",
    "Alldf = Alldf.drop(columns=['dob', 'ID', 'URI'])\n",
    "\n",
    "# Replace zeros back to NaN to maintain original missing information\n",
    "#Alldf['yob'] = Alldf['yob'].replace(0, np.nan)\n",
    "\n",
    "Alldf"
   ]
  },
  {
   "cell_type": "code",
   "execution_count": null,
   "id": "9b3083a1",
   "metadata": {},
   "outputs": [],
   "source": [
    "Alldf = Alldf.rename(columns={'label': 'subject'})"
   ]
  },
  {
   "cell_type": "code",
   "execution_count": null,
   "id": "f677749d",
   "metadata": {},
   "outputs": [],
   "source": [
    "# Exclude the 'label' column\n",
    "plot_data = Alldf.drop(columns=['subject'])\n",
    "\n",
    "# For categorical data, we can use bar plots or count plots\n",
    "for column in plot_data.select_dtypes(include=['object', 'category']).columns:\n",
    "    plot_data[column].value_counts().plot(kind='bar')\n",
    "    plt.title(column)\n",
    "    plt.show()"
   ]
  },
  {
   "cell_type": "code",
   "execution_count": null,
   "id": "9b7eed71",
   "metadata": {},
   "outputs": [],
   "source": [
    "aabcarms = redjson(tok=secret.loc[secret.source=='aabcarms','api_key'].reset_index().drop(columns='index').api_key[0])\n",
    "aabc=getframe(struct=aabcarms,api_url=config['Redcap']['api_url10'])"
   ]
  },
  {
   "cell_type": "code",
   "execution_count": null,
   "id": "c12dabb9",
   "metadata": {},
   "outputs": [],
   "source": [
    "def idvisits(aabcarmsdf,keepsies):\n",
    "    #idvisit=aabcarmsdf[keepsies].copy()\n",
    "    idvisit = aabcarmsdf[keepsies + ['redcap_event_name', 'study_id']].copy()\n",
    "    \n",
    "    #registers=idvisit.loc[idvisit.redcap_event_name.str.contains('register')][['subject_id','study_id','site']]\n",
    "    registers = idvisit.loc[idvisit['redcap_event_name'].str.contains('register'), ['subject_id', 'study_id', 'site', 'sex']]\n",
    "    \n",
    "    idvisit = pd.merge(registers, idvisit.drop(columns=['site']), on='study_id', how='right')\n",
    "    \n",
    "    idvisit=idvisit.rename(columns={'subject_id_x':'subject','subject_id_y':'subject_id','sex_x':'sex'})\n",
    "    \n",
    "    idvisit['redcap_event']=idvisit.replace({'redcap_event_name':\n",
    "                                           config['Redcap']['datasources']['aabcarms']['AABCeventmap']})['redcap_event_name']\n",
    "    \n",
    "    idvisit = idvisit.loc[~(idvisit.subject.astype(str).str.upper().str.contains('TEST'))]\n",
    "    #idvisit = idvisit.loc[~idvisit['subject'].astype(str).str.upper().contains('TEST')]\n",
    "    \n",
    "    return idvisit"
   ]
  },
  {
   "cell_type": "code",
   "execution_count": null,
   "id": "8caa2536",
   "metadata": {},
   "outputs": [],
   "source": [
    "keepsies=['site','subject_id','sex','dob','event_date']\n",
    "records = idvisits(aabc,keepsies)\n",
    "records_evt = records.loc[(records['redcap_event'] == \"V1\") | (records['redcap_event'] == \"V2\") | (records['redcap_event'] == \"V3\") ]\n",
    "#records = records.loc[records['lab_results_complete'] == \"2\"]\n",
    "#records = records.loc[records['bld_drawresults'] == \"1\"]\n",
    "records_evt = records_evt.drop(columns=['sex_y','subject_id'])"
   ]
  },
  {
   "cell_type": "code",
   "execution_count": null,
   "id": "d335a85c",
   "metadata": {},
   "outputs": [],
   "source": [
    "records_evt"
   ]
  },
  {
   "cell_type": "code",
   "execution_count": null,
   "id": "285aff87",
   "metadata": {},
   "outputs": [],
   "source": [
    "# Filter rows where 'dob' is not null or NaN\n",
    "records_dob = records[pd.notnull(records['dob'])]\n",
    "\n",
    "# To ensure that 'dob' contains valid dates, you may need to convert the column to datetime\n",
    "# This step will also filter out any non-date entries\n",
    "records_dob['dob'] = pd.to_datetime(records_dob['dob'], errors='coerce')\n",
    "records_dob = records_dob[pd.notnull(records_dob['dob'])]\n",
    "records_dob = records_dob.drop(columns=['sex_y','subject_id'])"
   ]
  },
  {
   "cell_type": "code",
   "execution_count": null,
   "id": "08ede936",
   "metadata": {},
   "outputs": [],
   "source": [
    "records_dob = records_dob.reset_index(drop=True)"
   ]
  },
  {
   "cell_type": "code",
   "execution_count": null,
   "id": "3905df5a",
   "metadata": {},
   "outputs": [],
   "source": [
    "records_dob"
   ]
  },
  {
   "cell_type": "code",
   "execution_count": null,
   "id": "5de110e6",
   "metadata": {},
   "outputs": [],
   "source": [
    "# Convert 'dob' to datetime and extract the year\n",
    "records_dob['dob'] = pd.to_datetime(records_dob['dob'], errors='coerce')\n",
    "records_dob['yob'] = records_dob['dob'].dt.year\n",
    "\n",
    "# Keep only the 'subject' and 'year' columns\n",
    "records_dob = records_dob[['subject', 'yob']].dropna()\n",
    "\n",
    "records_dob"
   ]
  },
  {
   "cell_type": "code",
   "execution_count": null,
   "id": "ad1c1665",
   "metadata": {},
   "outputs": [],
   "source": [
    "# Merge the two dataframes on the 'subject' column\n",
    "comparison_df = pd.merge(Alldf, records, on='subject', how='inner', suffixes=('_IntraDB', '_RedCap'))\n",
    "\n",
    "# Find rows where 'yob' values are different between the two dataframes\n",
    "differences = comparison_df[comparison_df['yob_IntraDB'] != comparison_df['yob_RedCap']]\n",
    "\n",
    "print(\"Differences found in yob for the same subjects:\")\n",
    "print(differences)"
   ]
  },
  {
   "cell_type": "code",
   "execution_count": null,
   "id": "363e76b6",
   "metadata": {},
   "outputs": [],
   "source": [
    "differences = differences[differences[\"yob_IntraDB\"] != 0]\n",
    "differences"
   ]
  },
  {
   "cell_type": "code",
   "execution_count": null,
   "id": "d93eebce",
   "metadata": {},
   "outputs": [],
   "source": [
    "# Specify the columns you want to select\n",
    "columns_to_select = ['redcap_event', 'study_id', 'site', 'event_date']\n",
    "\n",
    "Issues_yob = pd.merge(differences, records_evt[['subject'] + columns_to_select], on='subject', how='left')\n",
    "\n",
    "# Display the merged dataframe\n",
    "Issues_yob"
   ]
  },
  {
   "cell_type": "code",
   "execution_count": null,
   "id": "c73dca74",
   "metadata": {},
   "outputs": [],
   "source": [
    "# change dataframe to jira ticket form\n",
    "Issues_yob['issueCode'] = 'AE7001'\n",
    "Issues_yob['datatype'] = 'REDCap'\n",
    "Issues_yob['code'] = 'RED'\n",
    "Issues_yob['reason'] = 'Discrepancy in year of birth between REDCap and IntraDB.  Please correct IntraDB'\n",
    "Issues_yob['event_date'] = pd.to_datetime(Issues_yob['event_date'])\n",
    "Issues_yob['issue_age'] = (datetime.now() - Issues_yob['event_date']).dt.days\n",
    "Issues_yob['event_date'] = Issues_yob['event_date'].astype(str)\n",
    "Issues_yob['issue_age'] = Issues_yob['issue_age'].astype(str)\n",
    "Issues_yob['issue_age'] = Issues_yob['issue_age'] + ' days'\n",
    "Issues_yob = Issues_yob[['subject', 'redcap_event', 'study_id', 'site', 'reason', 'code', 'issueCode', 'event_date', 'issue_age', 'datatype']].dropna()\n",
    "\n",
    "Issues_yob"
   ]
  },
  {
   "cell_type": "code",
   "execution_count": null,
   "id": "b2cd2602",
   "metadata": {},
   "outputs": [],
   "source": [
    "Issues_yob.to_csv('Issues_yob.csv', index=False)"
   ]
  },
  {
   "cell_type": "code",
   "execution_count": null,
   "id": "17b15589",
   "metadata": {},
   "outputs": [],
   "source": []
  }
 ],
 "metadata": {
  "kernelspec": {
   "display_name": "AABC_env",
   "language": "python",
   "name": "aabc_env"
  },
  "language_info": {
   "codemirror_mode": {
    "name": "ipython",
    "version": 3
   },
   "file_extension": ".py",
   "mimetype": "text/x-python",
   "name": "python",
   "nbconvert_exporter": "python",
   "pygments_lexer": "ipython3",
   "version": "3.11.7"
  }
 },
 "nbformat": 4,
 "nbformat_minor": 5
}
